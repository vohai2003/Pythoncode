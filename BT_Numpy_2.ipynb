{
  "nbformat": 4,
  "nbformat_minor": 0,
  "metadata": {
    "colab": {
      "name": "BT_Numpy_2",
      "provenance": [],
      "collapsed_sections": [],
      "authorship_tag": "ABX9TyMEKKE/Iier7S6S0vwu1C+U",
      "include_colab_link": true
    },
    "kernelspec": {
      "name": "python3",
      "display_name": "Python 3"
    },
    "language_info": {
      "name": "python"
    }
  },
  "cells": [
    {
      "cell_type": "markdown",
      "metadata": {
        "id": "view-in-github",
        "colab_type": "text"
      },
      "source": [
        "<a href=\"https://colab.research.google.com/github/vohai2003/Pythoncode/blob/main/BT_Numpy_2.ipynb\" target=\"_parent\"><img src=\"https://colab.research.google.com/assets/colab-badge.svg\" alt=\"Open In Colab\"/></a>"
      ]
    },
    {
      "cell_type": "markdown",
      "source": [
        "Bài 1"
      ],
      "metadata": {
        "id": "B7LvJy7AxOuI"
      }
    },
    {
      "cell_type": "code",
      "execution_count": 4,
      "metadata": {
        "colab": {
          "base_uri": "https://localhost:8080/"
        },
        "id": "HeY28wmNxN0E",
        "outputId": "3b639a48-91f2-46c6-a09d-cf5fbf1b98bd"
      },
      "outputs": [
        {
          "output_type": "stream",
          "name": "stdout",
          "text": [
            "[[31. 39.  3.  5. 20.]\n",
            " [22.  3. 13. 25. 14.]\n",
            " [ 5. 38.  6. 13. 35.]\n",
            " [14. 24. 29. 39. 28.]\n",
            " [29.  2. 23. 31. 28.]\n",
            " [ 1. 30. 40.  0.  3.]\n",
            " [26. 14. 21. 30.  7.]]\n"
          ]
        }
      ],
      "source": [
        "import numpy\n",
        "import random\n",
        "A = numpy.zeros((7,5))\n",
        "for i in range(0,7):\n",
        "  temp = numpy.zeros((1,5))\n",
        "  for j in range(0,5):\n",
        "    temp[0][j] = random.randint(1,40)\n",
        "  A[i] = temp\n",
        "print(A)"
      ]
    },
    {
      "cell_type": "markdown",
      "source": [
        "Bài 2 $\\vec{d}$"
      ],
      "metadata": {
        "id": "neNjzM270Y3s"
      }
    },
    {
      "cell_type": "code",
      "source": [
        "A = numpy.zeros((6,7))\n",
        "print(A)"
      ],
      "metadata": {
        "colab": {
          "base_uri": "https://localhost:8080/"
        },
        "id": "4PYEgwom0Z_E",
        "outputId": "8898aecb-5e41-4270-e416-b2a49fac2c71"
      },
      "execution_count": 5,
      "outputs": [
        {
          "output_type": "stream",
          "name": "stdout",
          "text": [
            "[[0. 0. 0. 0. 0. 0. 0.]\n",
            " [0. 0. 0. 0. 0. 0. 0.]\n",
            " [0. 0. 0. 0. 0. 0. 0.]\n",
            " [0. 0. 0. 0. 0. 0. 0.]\n",
            " [0. 0. 0. 0. 0. 0. 0.]\n",
            " [0. 0. 0. 0. 0. 0. 0.]]\n"
          ]
        }
      ]
    },
    {
      "cell_type": "markdown",
      "source": [
        "Bài 3"
      ],
      "metadata": {
        "id": "aWW2nqGb1gu1"
      }
    },
    {
      "cell_type": "code",
      "source": [
        "A = numpy.zeros((7,7))\n",
        "for i in range(0,7):\n",
        "  temp = numpy.zeros((1,7))\n",
        "  for j in range(0,7):\n",
        "    temp[0][j] = random.randint(1,40)\n",
        "  A[i] = temp\n",
        "print(A)"
      ],
      "metadata": {
        "colab": {
          "base_uri": "https://localhost:8080/"
        },
        "id": "omcnrcXJ1i_p",
        "outputId": "be0195a3-30f0-4ced-c3d4-baf4e4bbdf77"
      },
      "execution_count": 6,
      "outputs": [
        {
          "output_type": "stream",
          "name": "stdout",
          "text": [
            "[[ 2. 30. 24. 30. 37.  3. 25.]\n",
            " [36. 29. 18. 12. 16.  1. 18.]\n",
            " [40. 25. 24. 36.  0. 27. 37.]\n",
            " [12. 15.  6. 17. 31.  9. 37.]\n",
            " [12. 34. 29. 39. 37.  6.  1.]\n",
            " [23. 24. 14.  8. 22. 23. 32.]\n",
            " [20. 22. 25. 35. 21.  6.  4.]]\n"
          ]
        }
      ]
    },
    {
      "cell_type": "markdown",
      "source": [
        "Bài 4"
      ],
      "metadata": {
        "id": "SLNwTWgt1ybt"
      }
    },
    {
      "cell_type": "code",
      "source": [
        "A = numpy.zeros((6,6))\n",
        "for i in range(0,6):\n",
        "  temp = numpy.zeros((1,6))\n",
        "  for j in range(0,6):\n",
        "    temp[0][j] = random.randint(1,40)\n",
        "  A[i] = temp\n",
        "for i in range(0,6):\n",
        "  A[i][i] = 0\n",
        "print(A)"
      ],
      "metadata": {
        "colab": {
          "base_uri": "https://localhost:8080/"
        },
        "id": "-ta4163Y1zXF",
        "outputId": "8b66728c-16c4-41ec-a188-44ef37f3004d"
      },
      "execution_count": 7,
      "outputs": [
        {
          "output_type": "stream",
          "name": "stdout",
          "text": [
            "[[ 0. 15. 35. 40. 36. 26.]\n",
            " [12.  0. 12.  1. 38.  8.]\n",
            " [33. 10.  0.  9.  8. 29.]\n",
            " [ 7. 10. 39.  0. 28. 38.]\n",
            " [23.  7. 23.  0.  0.  7.]\n",
            " [24. 26. 28. 12. 32.  0.]]\n"
          ]
        }
      ]
    },
    {
      "cell_type": "markdown",
      "source": [
        "Bài 5"
      ],
      "metadata": {
        "id": "WdWFvPR53s0N"
      }
    },
    {
      "cell_type": "code",
      "source": [
        "A = numpy.zeros((8,8))\n",
        "for i in range(0,8):\n",
        "  temp = numpy.zeros((1,8))\n",
        "  for j in range(0,8):\n",
        "    temp[0][j] = random.randint(1,40)\n",
        "  A[i] = temp\n",
        "A = numpy.triu(A)\n",
        "print(A)"
      ],
      "metadata": {
        "colab": {
          "base_uri": "https://localhost:8080/"
        },
        "id": "wsD_xKfz3txP",
        "outputId": "e3e25e4c-b8bf-426a-a3b5-d1318e56e6ac"
      },
      "execution_count": 11,
      "outputs": [
        {
          "output_type": "stream",
          "name": "stdout",
          "text": [
            "[[19. 15. 16. 17. 23.  5. 33. 27.]\n",
            " [ 0. 17. 18. 36. 20. 34.  3. 16.]\n",
            " [ 0.  0. 39. 28.  8.  6. 40. 12.]\n",
            " [ 0.  0.  0. 34. 32. 38. 40. 16.]\n",
            " [ 0.  0.  0.  0. 17. 13. 10. 10.]\n",
            " [ 0.  0.  0.  0.  0.  8. 28. 26.]\n",
            " [ 0.  0.  0.  0.  0.  0. 20. 12.]\n",
            " [ 0.  0.  0.  0.  0.  0.  0. 10.]]\n"
          ]
        }
      ]
    },
    {
      "cell_type": "markdown",
      "source": [
        "Bài 6"
      ],
      "metadata": {
        "id": "1u4aq22y39mQ"
      }
    },
    {
      "cell_type": "code",
      "source": [
        "A = numpy.zeros((8,8))\n",
        "for i in range(0,8):\n",
        "  temp = numpy.zeros((1,8))\n",
        "  for j in range(0,8):\n",
        "    temp[0][j] = random.randint(1,40)\n",
        "  A[i] = temp\n",
        "A = numpy.tril(A)\n",
        "print(A)"
      ],
      "metadata": {
        "colab": {
          "base_uri": "https://localhost:8080/"
        },
        "id": "taMCBHVZ3-uN",
        "outputId": "3fd3500d-c20c-4176-a68d-85fb1cba2b4a"
      },
      "execution_count": 12,
      "outputs": [
        {
          "output_type": "stream",
          "name": "stdout",
          "text": [
            "[[21.  0.  0.  0.  0.  0.  0.  0.]\n",
            " [11. 38.  0.  0.  0.  0.  0.  0.]\n",
            " [23. 29. 26.  0.  0.  0.  0.  0.]\n",
            " [21. 12. 23. 16.  0.  0.  0.  0.]\n",
            " [ 7. 15. 17. 18. 19.  0.  0.  0.]\n",
            " [22. 29.  8. 32. 38. 27.  0.  0.]\n",
            " [37.  8. 22.  6. 39.  6. 29.  0.]\n",
            " [36. 34. 28. 30.  8. 24. 35. 40.]]\n"
          ]
        }
      ]
    },
    {
      "cell_type": "markdown",
      "source": [
        "Bài 7"
      ],
      "metadata": {
        "id": "EtQK5MJR4LNh"
      }
    },
    {
      "cell_type": "code",
      "source": [
        "A = numpy.identity(9)\n",
        "print(A)"
      ],
      "metadata": {
        "colab": {
          "base_uri": "https://localhost:8080/"
        },
        "id": "hfTptlC34MAG",
        "outputId": "ffc40b75-382a-4231-cba7-4bfa188b96a1"
      },
      "execution_count": 10,
      "outputs": [
        {
          "output_type": "stream",
          "name": "stdout",
          "text": [
            "[[1. 0. 0. 0. 0. 0. 0. 0. 0.]\n",
            " [0. 1. 0. 0. 0. 0. 0. 0. 0.]\n",
            " [0. 0. 1. 0. 0. 0. 0. 0. 0.]\n",
            " [0. 0. 0. 1. 0. 0. 0. 0. 0.]\n",
            " [0. 0. 0. 0. 1. 0. 0. 0. 0.]\n",
            " [0. 0. 0. 0. 0. 1. 0. 0. 0.]\n",
            " [0. 0. 0. 0. 0. 0. 1. 0. 0.]\n",
            " [0. 0. 0. 0. 0. 0. 0. 1. 0.]\n",
            " [0. 0. 0. 0. 0. 0. 0. 0. 1.]]\n"
          ]
        }
      ]
    },
    {
      "cell_type": "markdown",
      "source": [
        "Bài 8: Phép cộng ma trận: $A+B$"
      ],
      "metadata": {
        "id": "99trQ03L4l8_"
      }
    },
    {
      "cell_type": "code",
      "source": [
        "A = numpy.zeros((6,7))\n",
        "for i in range(0,6):\n",
        "  temp = numpy.zeros((1,7))\n",
        "  for j in range(0,7):\n",
        "    temp[0][j] = random.randint(1,40)\n",
        "  A[i] = temp\n",
        "print(\"A =\",A )\n",
        "B = numpy.zeros((6,7))\n",
        "for i in range(0,6):\n",
        "  temp = numpy.zeros((1,7))\n",
        "  for j in range(0,7):\n",
        "    temp[0][j] = random.randint(1,40)\n",
        "  B[i] = temp\n",
        "print(\"B =\",B )\n",
        "print(\"A+B=\",A+B)"
      ],
      "metadata": {
        "colab": {
          "base_uri": "https://localhost:8080/"
        },
        "id": "EKpwTqvU4m61",
        "outputId": "b62d43f1-4d37-47d0-ea8e-7b47fa462475"
      },
      "execution_count": 19,
      "outputs": [
        {
          "output_type": "stream",
          "name": "stdout",
          "text": [
            "A = [[40. 32.  9. 35. 30. 39. 19.]\n",
            " [ 3. 13. 21. 32. 21.  1. 40.]\n",
            " [26. 28. 14.  4.  1. 12. 20.]\n",
            " [11. 26. 28. 34.  5. 38.  9.]\n",
            " [27. 36. 33. 18.  3. 30.  4.]\n",
            " [18. 29. 36.  2. 38.  5. 17.]]\n",
            "B = [[10. 26. 10. 13. 29. 32. 18.]\n",
            " [ 6. 28. 22.  7.  1.  9. 39.]\n",
            " [ 8. 10. 14. 33. 33. 38. 28.]\n",
            " [37.  9. 30. 22.  7. 10. 16.]\n",
            " [ 1.  8. 18. 15. 17. 20. 26.]\n",
            " [13.  6. 27. 40. 26. 17.  5.]]\n",
            "A+B= [[50. 58. 19. 48. 59. 71. 37.]\n",
            " [ 9. 41. 43. 39. 22. 10. 79.]\n",
            " [34. 38. 28. 37. 34. 50. 48.]\n",
            " [48. 35. 58. 56. 12. 48. 25.]\n",
            " [28. 44. 51. 33. 20. 50. 30.]\n",
            " [31. 35. 63. 42. 64. 22. 22.]]\n"
          ]
        }
      ]
    },
    {
      "cell_type": "markdown",
      "source": [
        "Phép nhân vô hướng: $n\\cdot A$"
      ],
      "metadata": {
        "id": "PRbQHaO15xNi"
      }
    },
    {
      "cell_type": "code",
      "source": [
        "A = numpy.zeros((5,8))\n",
        "for i in range(0,5):\n",
        "  temp = numpy.zeros((1,8))\n",
        "  for j in range(0,8):\n",
        "    temp[0][j] = random.randint(1,40)\n",
        "  A[i] = temp\n",
        "print(\"A =\",A)\n",
        "n = int(input(\"Nhap n: \"))\n",
        "print(\"n*A=\",n*A)"
      ],
      "metadata": {
        "colab": {
          "base_uri": "https://localhost:8080/"
        },
        "id": "SYoisYWK58BY",
        "outputId": "687a456e-d936-4ec6-c772-b9785153c242"
      },
      "execution_count": 20,
      "outputs": [
        {
          "output_type": "stream",
          "name": "stdout",
          "text": [
            "A = [[39. 36. 19. 40. 22. 33. 38.  9.]\n",
            " [12. 18. 11. 40. 30. 28. 10.  2.]\n",
            " [13. 40. 33. 19.  4. 40. 17. 36.]\n",
            " [29. 29. 16. 38. 22.  8. 31. 13.]\n",
            " [30. 19.  7. 14. 36. 29. 27.  6.]]\n",
            "Nhap n: 3\n",
            "n*A= [[117. 108.  57. 120.  66.  99. 114.  27.]\n",
            " [ 36.  54.  33. 120.  90.  84.  30.   6.]\n",
            " [ 39. 120.  99.  57.  12. 120.  51. 108.]\n",
            " [ 87.  87.  48. 114.  66.  24.  93.  39.]\n",
            " [ 90.  57.  21.  42. 108.  87.  81.  18.]]\n"
          ]
        }
      ]
    },
    {
      "cell_type": "markdown",
      "source": [
        "Phép chuyển vị ma trận"
      ],
      "metadata": {
        "id": "NKODkEWu6R8g"
      }
    },
    {
      "cell_type": "code",
      "source": [
        "A = numpy.zeros((3,7))\n",
        "for i in range(0,3):\n",
        "  temp = numpy.zeros((1,7))\n",
        "  for j in range(0,7):\n",
        "    temp[0][j] = random.randint(1,40)\n",
        "  A[i] = temp\n",
        "print(\"A =\",A)\n",
        "print(\"A chuyen vi:\",numpy.transpose(A))"
      ],
      "metadata": {
        "colab": {
          "base_uri": "https://localhost:8080/"
        },
        "id": "BjnlpLyx6h-Y",
        "outputId": "70f3b836-9b53-4793-be6a-a74f7e8d4d40"
      },
      "execution_count": 23,
      "outputs": [
        {
          "output_type": "stream",
          "name": "stdout",
          "text": [
            "A = [[16. 17. 40. 40. 26. 30. 23.]\n",
            " [ 5. 16. 38. 32. 35. 22. 14.]\n",
            " [37. 30. 33.  4.  8. 34. 38.]]\n",
            "A chuyen vi: [[16.  5. 37.]\n",
            " [17. 16. 30.]\n",
            " [40. 38. 33.]\n",
            " [40. 32.  4.]\n",
            " [26. 35.  8.]\n",
            " [30. 22. 34.]\n",
            " [23. 14. 38.]]\n"
          ]
        }
      ]
    },
    {
      "cell_type": "markdown",
      "source": [
        "Phép nhân hai ma trận: $A_{5*7}\\cdot B_{7*3}$"
      ],
      "metadata": {
        "id": "lbZpnVR-6_L9"
      }
    },
    {
      "cell_type": "code",
      "source": [
        "A = numpy.zeros((5,7))\n",
        "for i in range(0,5):\n",
        "  temp = numpy.zeros((1,7))\n",
        "  for j in range(0,7):\n",
        "    temp[0][j] = random.randint(1,40)\n",
        "  A[i] = temp\n",
        "print(\"A =\",A )\n",
        "B = numpy.zeros((7,3))\n",
        "for i in range(0,7):\n",
        "  temp = numpy.zeros((1,3))\n",
        "  for j in range(0,3):\n",
        "    temp[0][j] = random.randint(1,40)\n",
        "  B[i] = temp\n",
        "print(\"B =\",B )\n",
        "print(\"A*B=\",numpy.dot(A,B))"
      ],
      "metadata": {
        "colab": {
          "base_uri": "https://localhost:8080/"
        },
        "id": "kfdRAJEH7XDK",
        "outputId": "3502895d-9124-414c-cc97-2356915a91a7"
      },
      "execution_count": 25,
      "outputs": [
        {
          "output_type": "stream",
          "name": "stdout",
          "text": [
            "A = [[ 7. 24. 15. 21. 24.  4. 38.]\n",
            " [ 5. 31.  7. 36. 12. 13. 17.]\n",
            " [11. 25. 36. 23. 30. 37. 27.]\n",
            " [27. 22. 16. 37. 11. 19.  6.]\n",
            " [14. 28.  7. 15. 12.  2. 40.]]\n",
            "B = [[34.  1.  8.]\n",
            " [34. 22. 15.]\n",
            " [22.  1. 19.]\n",
            " [38. 37. 33.]\n",
            " [ 8. 18. 33.]\n",
            " [34. 37. 14.]\n",
            " [30.  5. 38.]]\n",
            "A*B= [[3650. 2097. 3686.]\n",
            " [3794. 2808. 3050.]\n",
            " [5198. 3492. 4440.]\n",
            " [4338. 2827. 2928.]\n",
            " [3516. 1682. 3104.]]\n"
          ]
        }
      ]
    },
    {
      "cell_type": "markdown",
      "source": [
        "Ma trận nghịch đảo: $A^{-1}$"
      ],
      "metadata": {
        "id": "YYGNCHAl7ry6"
      }
    },
    {
      "cell_type": "code",
      "source": [
        "A = numpy.zeros((7,7))\n",
        "for i in range(0,7):\n",
        "  temp = numpy.zeros((1,7))\n",
        "  for j in range(0,7):\n",
        "    temp[0][j] = random.randint(1,40)\n",
        "  A[i] = temp\n",
        "print(\"A =\",A )\n",
        "print(\"A^-1=\",numpy.linalg.inv(A))"
      ],
      "metadata": {
        "colab": {
          "base_uri": "https://localhost:8080/"
        },
        "id": "m1VoyKYP70FK",
        "outputId": "b6dfec9a-4a74-45da-a7b4-b79a33bf7b4e"
      },
      "execution_count": 28,
      "outputs": [
        {
          "output_type": "stream",
          "name": "stdout",
          "text": [
            "A = [[33. 25.  3.  1. 24. 16. 35.]\n",
            " [ 4.  6. 39. 26. 15. 19. 31.]\n",
            " [ 8. 31. 27.  3. 16. 36.  7.]\n",
            " [ 4.  5. 40. 17. 14.  9. 22.]\n",
            " [ 8. 32.  4.  8. 18. 34. 37.]\n",
            " [ 2. 37. 26.  2.  1. 19. 16.]\n",
            " [25.  2. 11. 31. 21.  3. 18.]]\n",
            "A^-1= [[ 0.04863474  0.08788546  0.01270267 -0.09806015 -0.06627941  0.01316852\n",
            "  -0.00647884]\n",
            " [-0.02272066 -0.07071267 -0.00941117  0.04861071  0.02909357  0.02865181\n",
            "   0.02493707]\n",
            " [ 0.00970021  0.0142151   0.00676206  0.00762674 -0.02388272  0.0057094\n",
            "  -0.01127712]\n",
            " [-0.02745189  0.00636584 -0.00640063 -0.02057636  0.009962    0.01508899\n",
            "   0.03616342]\n",
            " [-0.03671693 -0.15236138  0.00928831  0.15970439  0.07282125 -0.04415528\n",
            "   0.02454883]\n",
            " [ 0.0169103   0.0923425   0.02933783 -0.09326267 -0.02672651 -0.0140799\n",
            "  -0.0218836 ]\n",
            " [ 0.01634465  0.02850795 -0.02543197 -0.00920827  0.00575661  0.00291234\n",
            "  -0.01859976]]\n"
          ]
        }
      ]
    },
    {
      "cell_type": "markdown",
      "source": [
        "Bài 9: Ma trận hàng: $A_{m*1}$"
      ],
      "metadata": {
        "id": "N245uRu-8d6P"
      }
    },
    {
      "cell_type": "code",
      "source": [
        "A = numpy.zeros((1,8))\n",
        "for j in range(0,8):\n",
        "  A[0][j] = random.randint(1,40)\n",
        "print(A)"
      ],
      "metadata": {
        "colab": {
          "base_uri": "https://localhost:8080/"
        },
        "id": "ai17Yi7g8mff",
        "outputId": "9bbfd452-046d-4650-a48a-aa6cb22aac65"
      },
      "execution_count": 29,
      "outputs": [
        {
          "output_type": "stream",
          "name": "stdout",
          "text": [
            "[[ 2. 39. 29. 32. 10. 14.  1.  4.]]\n"
          ]
        }
      ]
    },
    {
      "cell_type": "markdown",
      "source": [
        "Ma trận cột: $A_{1*n}$"
      ],
      "metadata": {
        "id": "OS2Bf0Vo8yl1"
      }
    },
    {
      "cell_type": "code",
      "source": [
        "A = numpy.zeros((8,1))\n",
        "for j in range(0,8):\n",
        "  A[j][0] = random.randint(1,40)\n",
        "print(A)"
      ],
      "metadata": {
        "colab": {
          "base_uri": "https://localhost:8080/"
        },
        "id": "ecoR9q3i85Cp",
        "outputId": "201501fc-d960-4de2-ac81-e63871a094ee"
      },
      "execution_count": 32,
      "outputs": [
        {
          "output_type": "stream",
          "name": "stdout",
          "text": [
            "[[15.]\n",
            " [37.]\n",
            " [23.]\n",
            " [37.]\n",
            " [14.]\n",
            " [ 1.]\n",
            " [ 1.]\n",
            " [40.]]\n"
          ]
        }
      ]
    },
    {
      "cell_type": "markdown",
      "source": [
        "Bài 10"
      ],
      "metadata": {
        "id": "OhfRM1Ag98uR"
      }
    },
    {
      "cell_type": "code",
      "source": [
        "m = int(input(\"So pt cua he phuong trinh:\"))\n",
        "n = int(input(\"So an cua he phuong trinh:\"))\n",
        "A = numpy.zeros((m,n))\n",
        "B = numpy.zeros((m,1))\n",
        "for i in range(0,m):\n",
        "  for j in range(0,n):\n",
        "    A[i][j] = int(input(\"a(\"+str(i+1)+\",\"+str(j+1)+\")= \"))\n",
        "  B[i][0] = int(input(\"b(\"+str(i+1)+\")= \"))\n",
        "if numpy.isfinite(numpy.linalg.cond(A)):\n",
        "    x = numpy.dot(numpy.linalg.inv(A),B)\n",
        "else:\n",
        "    print(\"No solution\")\n",
        "print(x)"
      ],
      "metadata": {
        "colab": {
          "base_uri": "https://localhost:8080/"
        },
        "id": "MJoC_m-F9-ER",
        "outputId": "318ceff2-d139-471f-823b-2bc0b8646111"
      },
      "execution_count": 38,
      "outputs": [
        {
          "output_type": "stream",
          "name": "stdout",
          "text": [
            "So pt cua he phuong trinh:2\n",
            "So an cua he phuong trinh:2\n",
            "a(1,1)= 54\n",
            "a(1,2)= 6\n",
            "b(1,2)= 3\n",
            "a(2,1)= 5\n",
            "a(2,2)= 4\n",
            "b(2,2)= 3\n",
            "[[-0.03225806]\n",
            " [ 0.79032258]]\n"
          ]
        }
      ]
    }
  ]
}