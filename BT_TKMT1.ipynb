{
  "nbformat": 4,
  "nbformat_minor": 0,
  "metadata": {
    "colab": {
      "name": "BT_TKMT1",
      "provenance": [],
      "collapsed_sections": [],
      "authorship_tag": "ABX9TyODvJEfiWPc3Wwaa3K8wBFO",
      "include_colab_link": true
    },
    "kernelspec": {
      "name": "python3",
      "display_name": "Python 3"
    },
    "language_info": {
      "name": "python"
    }
  },
  "cells": [
    {
      "cell_type": "markdown",
      "metadata": {
        "id": "view-in-github",
        "colab_type": "text"
      },
      "source": [
        "<a href=\"https://colab.research.google.com/github/vohai2003/Pythoncode/blob/main/BT_TKMT1.ipynb\" target=\"_parent\"><img src=\"https://colab.research.google.com/assets/colab-badge.svg\" alt=\"Open In Colab\"/></a>"
      ]
    },
    {
      "cell_type": "code",
      "execution_count": 1,
      "metadata": {
        "colab": {
          "base_uri": "https://localhost:8080/"
        },
        "id": "Yf43STOjwAQs",
        "outputId": "4d433717-c0e4-4237-94a8-a136342f1f53"
      },
      "outputs": [
        {
          "output_type": "stream",
          "name": "stdout",
          "text": [
            "Mounted at /content/drive\n"
          ]
        }
      ],
      "source": [
        "from google.colab import drive\n",
        "drive.mount('/content/drive')\n",
        "workingdir = \"/content/drive/My Drive/Dataset/\""
      ]
    },
    {
      "cell_type": "markdown",
      "source": [
        "Bài 1"
      ],
      "metadata": {
        "id": "VNGYlAHTxnmv"
      }
    },
    {
      "cell_type": "code",
      "source": [
        "import pandas\n",
        "dt = pandas.read_csv(workingdir+\"1000 Sales Records.csv\")\n",
        "print(dt)"
      ],
      "metadata": {
        "colab": {
          "base_uri": "https://localhost:8080/"
        },
        "id": "eEwfGv1vxpZq",
        "outputId": "4cf4f964-b810-4597-b2cd-e4f06b26cc47"
      },
      "execution_count": 2,
      "outputs": [
        {
          "output_type": "stream",
          "name": "stdout",
          "text": [
            "                           Region               Country   Item Type  \\\n",
            "0    Middle East and North Africa                 Libya   Cosmetics   \n",
            "1                   North America                Canada  Vegetables   \n",
            "2    Middle East and North Africa                 Libya   Baby Food   \n",
            "3                            Asia                 Japan      Cereal   \n",
            "4              Sub-Saharan Africa                  Chad      Fruits   \n",
            "..                            ...                   ...         ...   \n",
            "995  Middle East and North Africa            Azerbaijan      Snacks   \n",
            "996                        Europe               Georgia   Baby Food   \n",
            "997  Middle East and North Africa  United Arab Emirates  Vegetables   \n",
            "998                        Europe               Finland   Household   \n",
            "999                        Europe              Portugal      Cereal   \n",
            "\n",
            "    Sales Channel Order Priority  Order Date   Order ID   Ship Date  \\\n",
            "0         Offline              M  10/18/2014  686800706  10/31/2014   \n",
            "1          Online              M   11/7/2011  185941302   12/8/2011   \n",
            "2         Offline              C  10/31/2016  246222341   12/9/2016   \n",
            "3         Offline              C   4/10/2010  161442649   5/12/2010   \n",
            "4         Offline              H   8/16/2011  645713555   8/31/2011   \n",
            "..            ...            ...         ...        ...         ...   \n",
            "995       Offline              C   4/18/2010  534085166   4/25/2010   \n",
            "996       Offline              H    8/1/2011  590768182    9/7/2011   \n",
            "997        Online              C   5/12/2011  524363124   6/28/2011   \n",
            "998       Offline              L   1/25/2016  289606320   2/14/2016   \n",
            "999       Offline              C   4/10/2014  811546599    5/8/2014   \n",
            "\n",
            "     Units Sold  Unit Price  Unit Cost  Total Revenue  Total Cost  \\\n",
            "0          8446      437.20     263.33     3692591.20  2224085.18   \n",
            "1          3018      154.06      90.93      464953.08   274426.74   \n",
            "2          1517      255.28     159.42      387259.76   241840.14   \n",
            "3          3322      205.70     117.11      683335.40   389039.42   \n",
            "4          9845        9.33       6.92       91853.85    68127.40   \n",
            "..          ...         ...        ...            ...         ...   \n",
            "995        6524      152.58      97.44      995431.92   635698.56   \n",
            "996         288      255.28     159.42       73520.64    45912.96   \n",
            "997        9556      154.06      90.93     1472197.36   868927.08   \n",
            "998        9801      668.27     502.54     6549714.27  4925394.54   \n",
            "999        3528      205.70     117.11      725709.60   413164.08   \n",
            "\n",
            "     Total Profit  \n",
            "0      1468506.02  \n",
            "1       190526.34  \n",
            "2       145419.62  \n",
            "3       294295.98  \n",
            "4        23726.45  \n",
            "..            ...  \n",
            "995     359733.36  \n",
            "996      27607.68  \n",
            "997     603270.28  \n",
            "998    1624319.73  \n",
            "999     312545.52  \n",
            "\n",
            "[1000 rows x 14 columns]\n"
          ]
        }
      ]
    },
    {
      "cell_type": "markdown",
      "source": [
        "Bài 2"
      ],
      "metadata": {
        "id": "-hJAuRdmyUC4"
      }
    },
    {
      "cell_type": "code",
      "source": [
        "print(dt.head(n=10))\n",
        "print(\"Kích thước của dataframe:\",dt.shape)\n",
        "print(\"Danh sách các cột:\",list(dt.columns))"
      ],
      "metadata": {
        "colab": {
          "base_uri": "https://localhost:8080/"
        },
        "id": "eTF4Th7PyRyS",
        "outputId": "f8841d53-46de-4f21-8350-bf7fa79b3b6d"
      },
      "execution_count": 3,
      "outputs": [
        {
          "output_type": "stream",
          "name": "stdout",
          "text": [
            "                              Region     Country   Item Type Sales Channel  \\\n",
            "0       Middle East and North Africa       Libya   Cosmetics       Offline   \n",
            "1                      North America      Canada  Vegetables        Online   \n",
            "2       Middle East and North Africa       Libya   Baby Food       Offline   \n",
            "3                               Asia       Japan      Cereal       Offline   \n",
            "4                 Sub-Saharan Africa        Chad      Fruits       Offline   \n",
            "5                             Europe     Armenia      Cereal        Online   \n",
            "6                 Sub-Saharan Africa     Eritrea      Cereal        Online   \n",
            "7                             Europe  Montenegro     Clothes       Offline   \n",
            "8  Central America and the Caribbean     Jamaica  Vegetables        Online   \n",
            "9              Australia and Oceania        Fiji  Vegetables       Offline   \n",
            "\n",
            "  Order Priority  Order Date   Order ID   Ship Date  Units Sold  Unit Price  \\\n",
            "0              M  10/18/2014  686800706  10/31/2014        8446      437.20   \n",
            "1              M   11/7/2011  185941302   12/8/2011        3018      154.06   \n",
            "2              C  10/31/2016  246222341   12/9/2016        1517      255.28   \n",
            "3              C   4/10/2010  161442649   5/12/2010        3322      205.70   \n",
            "4              H   8/16/2011  645713555   8/31/2011        9845        9.33   \n",
            "5              H  11/24/2014  683458888  12/28/2014        9528      205.70   \n",
            "6              H    3/4/2015  679414975   4/17/2015        2844      205.70   \n",
            "7              M   5/17/2012  208630645   6/28/2012        7299      109.28   \n",
            "8              H   1/29/2015  266467225    3/7/2015        2428      154.06   \n",
            "9              H  12/24/2013  118598544   1/19/2014        4800      154.06   \n",
            "\n",
            "   Unit Cost  Total Revenue  Total Cost  Total Profit  \n",
            "0     263.33     3692591.20  2224085.18    1468506.02  \n",
            "1      90.93      464953.08   274426.74     190526.34  \n",
            "2     159.42      387259.76   241840.14     145419.62  \n",
            "3     117.11      683335.40   389039.42     294295.98  \n",
            "4       6.92       91853.85    68127.40      23726.45  \n",
            "5     117.11     1959909.60  1115824.08     844085.52  \n",
            "6     117.11      585010.80   333060.84     251949.96  \n",
            "7      35.84      797634.72   261596.16     536038.56  \n",
            "8      90.93      374057.68   220778.04     153279.64  \n",
            "9      90.93      739488.00   436464.00     303024.00  \n",
            "Kích thước của dataframe: (1000, 14)\n",
            "Danh sách các cột: ['Region', 'Country', 'Item Type', 'Sales Channel', 'Order Priority', 'Order Date', 'Order ID', 'Ship Date', 'Units Sold', 'Unit Price', 'Unit Cost', 'Total Revenue', 'Total Cost', 'Total Profit']\n"
          ]
        }
      ]
    },
    {
      "cell_type": "markdown",
      "source": [
        "Bài 3"
      ],
      "metadata": {
        "id": "ODuGufuy0eSV"
      }
    },
    {
      "cell_type": "code",
      "source": [
        "country = dt[\"Country\"]\n",
        "print(country.head(n=5))"
      ],
      "metadata": {
        "colab": {
          "base_uri": "https://localhost:8080/"
        },
        "id": "NkyyyeU20fbC",
        "outputId": "73b5497c-8c6a-49e3-88a2-2f98b92e1314"
      },
      "execution_count": 4,
      "outputs": [
        {
          "output_type": "stream",
          "name": "stdout",
          "text": [
            "0     Libya\n",
            "1    Canada\n",
            "2     Libya\n",
            "3     Japan\n",
            "4      Chad\n",
            "Name: Country, dtype: object\n"
          ]
        }
      ]
    },
    {
      "cell_type": "code",
      "source": [
        "totalcost = dt[\"Total Cost\"]\n",
        "print(totalcost.head(n=5))"
      ],
      "metadata": {
        "colab": {
          "base_uri": "https://localhost:8080/"
        },
        "id": "p8C20Zaz0_4u",
        "outputId": "799b31f3-5964-4db9-f2ff-fb86caafa862"
      },
      "execution_count": 5,
      "outputs": [
        {
          "output_type": "stream",
          "name": "stdout",
          "text": [
            "0    2224085.18\n",
            "1     274426.74\n",
            "2     241840.14\n",
            "3     389039.42\n",
            "4      68127.40\n",
            "Name: Total Cost, dtype: float64\n"
          ]
        }
      ]
    },
    {
      "cell_type": "markdown",
      "source": [
        "Bài 4a"
      ],
      "metadata": {
        "id": "jChSibC02DCu"
      }
    },
    {
      "cell_type": "code",
      "source": [
        "print(\"Max value over columns:\")\n",
        "print(dt.max())\n",
        "print(\"Min value over columns:\")\n",
        "print(dt.min())\n",
        "print(\"Mean of data:\")\n",
        "print(dt.mean(numeric_only=True))\n",
        "print(\"Median of data:\")\n",
        "print(dt.median(numeric_only=True))\n",
        "print(\"Variance of data:\")\n",
        "print(dt.var(numeric_only=True))\n",
        "print(\"Std. deviation of data:\")\n",
        "print(dt.std(numeric_only=True))"
      ],
      "metadata": {
        "colab": {
          "base_uri": "https://localhost:8080/"
        },
        "id": "plsbb8iN2EGS",
        "outputId": "2ae42e8f-bf10-48e0-8423-2b383963fc74"
      },
      "execution_count": 6,
      "outputs": [
        {
          "output_type": "stream",
          "name": "stdout",
          "text": [
            "Max value over columns:\n",
            "Region            Sub-Saharan Africa\n",
            "Country                     Zimbabwe\n",
            "Item Type                 Vegetables\n",
            "Sales Channel                 Online\n",
            "Order Priority                     M\n",
            "Order Date                  9/8/2015\n",
            "Order ID                   995529830\n",
            "Ship Date                   9/9/2016\n",
            "Units Sold                      9998\n",
            "Unit Price                    668.27\n",
            "Unit Cost                     524.96\n",
            "Total Revenue             6617209.54\n",
            "Total Cost                 5204978.4\n",
            "Total Profit              1726181.36\n",
            "dtype: object\n",
            "Min value over columns:\n",
            "Region                   Asia\n",
            "Country           Afghanistan\n",
            "Item Type           Baby Food\n",
            "Sales Channel         Offline\n",
            "Order Priority              C\n",
            "Order Date           1/1/2010\n",
            "Order ID            102928006\n",
            "Ship Date            1/1/2013\n",
            "Units Sold                 13\n",
            "Unit Price               9.33\n",
            "Unit Cost                6.92\n",
            "Total Revenue         2043.25\n",
            "Total Cost            1416.75\n",
            "Total Profit           532.61\n",
            "dtype: object\n",
            "Mean of data:\n",
            "Order ID         5.496813e+08\n",
            "Units Sold       5.053988e+03\n",
            "Unit Price       2.621068e+02\n",
            "Unit Cost        1.849651e+02\n",
            "Total Revenue    1.327322e+06\n",
            "Total Cost       9.361192e+05\n",
            "Total Profit     3.912026e+05\n",
            "dtype: float64\n",
            "Median of data:\n",
            "Order ID         5.566097e+08\n",
            "Units Sold       5.184000e+03\n",
            "Unit Price       1.540600e+02\n",
            "Unit Cost        9.744000e+01\n",
            "Total Revenue    7.549392e+05\n",
            "Total Cost       4.647261e+05\n",
            "Total Profit     2.772260e+05\n",
            "dtype: float64\n",
            "Variance of data:\n",
            "Order ID         6.611756e+16\n",
            "Units Sold       8.417979e+06\n",
            "Unit Price       4.666510e+04\n",
            "Unit Cost        3.072634e+04\n",
            "Total Revenue    2.209726e+12\n",
            "Total Cost       1.351571e+12\n",
            "Total Profit     1.471798e+11\n",
            "dtype: float64\n",
            "Std. deviation of data:\n",
            "Order ID         2.571334e+08\n",
            "Units Sold       2.901375e+03\n",
            "Unit Price       2.160211e+02\n",
            "Unit Cost        1.752893e+02\n",
            "Total Revenue    1.486515e+06\n",
            "Total Cost       1.162571e+06\n",
            "Total Profit     3.836402e+05\n",
            "dtype: float64\n"
          ]
        }
      ]
    },
    {
      "cell_type": "markdown",
      "source": [
        "Bài 4b"
      ],
      "metadata": {
        "id": "aDP1pFFc4Am3"
      }
    },
    {
      "cell_type": "code",
      "source": [
        "import matplotlib.pyplot\n",
        "bx = matplotlib.pyplot.boxplot(dt[[\"Total Profit\"]])"
      ],
      "metadata": {
        "id": "i3nU7PK65puF",
        "colab": {
          "base_uri": "https://localhost:8080/",
          "height": 276
        },
        "outputId": "36ec0f28-0e9f-4ec5-e683-c26f30ea2b69"
      },
      "execution_count": 13,
      "outputs": [
        {
          "output_type": "display_data",
          "data": {
            "text/plain": [
              "<Figure size 432x288 with 1 Axes>"
            ],
            "image/png": "[encoded data removed]"
          },
          "metadata": {
            "needs_background": "light"
          }
        }
      ]
    },
    {
      "cell_type": "code",
      "source": [
        "hst = matplotlib.pyplot.hist(dt[[\"Total Profit\",\"Total Cost\"]],bins=100)"
      ],
      "metadata": {
        "colab": {
          "base_uri": "https://localhost:8080/",
          "height": 278
        },
        "id": "bqWnfWIx3prw",
        "outputId": "4d2de8b0-6239-4645-d3d1-8f3b26ca5cbd"
      },
      "execution_count": 19,
      "outputs": [
        {
          "output_type": "display_data",
          "data": {
            "text/plain": [
              "<Figure size 432x288 with 1 Axes>"
            ],
            "image/png": "[encoded data removed]"
          },
          "metadata": {
            "needs_background": "light"
          }
        }
      ]
    }
  ]
}