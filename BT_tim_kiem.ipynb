{
  "nbformat": 4,
  "nbformat_minor": 0,
  "metadata": {
    "colab": {
      "name": "BT_tim_kiem",
      "provenance": [],
      "authorship_tag": "ABX9TyMWL7PIeub1zO50pKddWMt8",
      "include_colab_link": true
    },
    "kernelspec": {
      "name": "python3",
      "display_name": "Python 3"
    },
    "language_info": {
      "name": "python"
    }
  },
  "cells": [
    {
      "cell_type": "markdown",
      "metadata": {
        "id": "view-in-github",
        "colab_type": "text"
      },
      "source": [
        "<a href=\"https://colab.research.google.com/github/vohai2003/Pythoncode/blob/main/BT_tim_kiem.ipynb\" target=\"_parent\"><img src=\"https://colab.research.google.com/assets/colab-badge.svg\" alt=\"Open In Colab\"/></a>"
      ]
    },
    {
      "cell_type": "code",
      "metadata": {
        "id": "djx1Wu9nF9SU"
      },
      "source": [
        "'''\n",
        "sapxep: Hàm sắp xếp các phần tử trong mảng theo thứ tự\n",
        "argument: n: mảng cần sắp xếp\n",
        "          ascending: chế độ sắp xếp\n",
        "          Với ascending==True, sẽ sắp xếp tăng dần\n",
        "          Ngược lại sẽ sắp xếp giảm dần\n",
        "          *: để đảm bảo không đánh nhầm True/False thay vì ascending=True\n",
        "          **kwargs: đảm bảo hàm lấy trọn tên tham số ascending\n",
        "'''\n",
        "def sapxep(n:list,*,ascending:bool=True,**kwargs):\n",
        "  l = len(n)\n",
        "  for i in range(0,l):\n",
        "    for j in range(0,i):\n",
        "      if ascending ==True:\n",
        "        if n[i]<n[j]:\n",
        "          n[i],n[j] = n[j],n[i]\n",
        "      else:\n",
        "        if n[i]>n[j]:\n",
        "          n[i],n[j] = n[j],n[i]\n",
        "'''\n",
        "binSearch: Hàm tìm kiếm nhị phân\n",
        "argument: l: mảng đang tìm\n",
        "          start: vị trí bắt đầu\n",
        "          stop: vị trí kết thúc\n",
        "          x: giá trị cần tìm\n",
        "return: vị trí đầu tiên tìm thấy, nếu không có trả về -1\n",
        "'''\n",
        "def binSearch(l:list,start:int,stop:int,x:int):\n",
        "  if start<=stop:\n",
        "    mid = start + (stop-start)//2\n",
        "    print(\"Vi tri dang xet:\",mid)\n",
        "    if l[mid] == x:\n",
        "      return(mid)\n",
        "    elif l[mid]>x:\n",
        "      return binSearch(l,x,start,mid-1)\n",
        "    else:\n",
        "      return binSearch(l,x,mid+1,stop)\n",
        "  else:\n",
        "    return -1\n",
        "'''\n",
        "seqSearch: Hàm tìm kiếm tuần tự\n",
        "argument: l: mảng đang tìm\n",
        "          x: giá trị cần tìm\n",
        "return: một list tất cả vị trí tìm thấy, nếu không có trả về list rỗng\n",
        "'''\n",
        "def seqSearch(l:list,x:int):\n",
        "  n = len(l)\n",
        "  found = []\n",
        "  for i in range (0,n):\n",
        "    if l[i] == x:\n",
        "      found.append(i)\n",
        "  return(found)"
      ],
      "execution_count": 12,
      "outputs": []
    },
    {
      "cell_type": "markdown",
      "metadata": {
        "id": "lLQsvkxfJ25w"
      },
      "source": [
        "Bài 1"
      ]
    },
    {
      "cell_type": "code",
      "metadata": {
        "colab": {
          "base_uri": "https://localhost:8080/"
        },
        "id": "DbE9m-PoJ39U",
        "outputId": "d9fc6a7b-edee-4911-86f6-8668a316c96a"
      },
      "source": [
        "from random import randint\n",
        "l = []\n",
        "n = int(input(\"So phan tu cua mang ngau nhien? \"))\n",
        "a = int(input(\"Gioi han duoi? \"))\n",
        "b = int(input(\"Gioi han tren? \"))\n",
        "for i in range(0,n):\n",
        "  l.append(randint(a,b))\n",
        "sapxep(l,ascending=True)\n",
        "print(\"Mang ban dau: \")\n",
        "print(l)\n",
        "x = int(input(\"So can tim:\"))\n",
        "found = binSearch(l,0,len(l),x)\n",
        "if found == -1:\n",
        "  print(\"Khong tim thay\")\n",
        "else:  \n",
        "  print(\"Vi tri dau tien tim thay:\",found)"
      ],
      "execution_count": 11,
      "outputs": [
        {
          "output_type": "stream",
          "name": "stdout",
          "text": [
            "So phan tu cua mang ngau nhien? 9\n",
            "Gioi han duoi? 3\n",
            "Gioi han tren? 10\n",
            "Mang ban dau: \n",
            "[4, 5, 5, 6, 6, 9, 10, 10, 10]\n",
            "So can tim:0\n",
            "Khong tim thay\n"
          ]
        }
      ]
    },
    {
      "cell_type": "markdown",
      "metadata": {
        "id": "LKn4ZotcRLM1"
      },
      "source": [
        "Bài 4"
      ]
    },
    {
      "cell_type": "code",
      "metadata": {
        "colab": {
          "base_uri": "https://localhost:8080/"
        },
        "id": "eA5buBaFRMBm",
        "outputId": "6ac4e9fd-9dae-47ef-fda4-39ec926e418b"
      },
      "source": [
        "from random import randint\n",
        "l = []\n",
        "n = int(input(\"So phan tu cua mang ngau nhien? \"))\n",
        "a = int(input(\"Gioi han duoi? \"))\n",
        "b = int(input(\"Gioi han tren? \"))\n",
        "for i in range(0,n):\n",
        "  l.append(randint(a,b))\n",
        "print(\"Mang ban dau: \")\n",
        "print(l)\n",
        "x = int(input(\"So can tim:\"))\n",
        "found = seqSearch(l,x)\n",
        "if found == []:\n",
        "  print(\"Khong tim thay\")\n",
        "else:\n",
        "  print(\"Cac vi tri tim thay: \",end='')\n",
        "  for i in found:\n",
        "    print(i,end=' ')"
      ],
      "execution_count": 13,
      "outputs": [
        {
          "output_type": "stream",
          "name": "stdout",
          "text": [
            "So phan tu cua mang ngau nhien? 7\n",
            "Gioi han duoi? 4\n",
            "Gioi han tren? 9\n",
            "Mang ban dau: \n",
            "[9, 6, 4, 7, 7, 4, 9]\n",
            "So can tim:9\n",
            "Cac vi tri tim thay: 0 6 "
          ]
        }
      ]
    }
  ]
}