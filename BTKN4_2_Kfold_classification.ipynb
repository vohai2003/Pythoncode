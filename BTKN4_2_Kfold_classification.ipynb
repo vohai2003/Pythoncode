{
  "nbformat": 4,
  "nbformat_minor": 0,
  "metadata": {
    "colab": {
      "provenance": [],
      "collapsed_sections": [],
      "authorship_tag": "ABX9TyOwIx8vcoOicW1PXr7m+yTO",
      "include_colab_link": true
    },
    "kernelspec": {
      "name": "python3",
      "display_name": "Python 3"
    },
    "language_info": {
      "name": "python"
    }
  },
  "cells": [
    {
      "cell_type": "markdown",
      "metadata": {
        "id": "view-in-github",
        "colab_type": "text"
      },
      "source": [
        "<a href=\"https://colab.research.google.com/github/vohai2003/Pythoncode/blob/main/BTKN4_2_Kfold_classification.ipynb\" target=\"_parent\"><img src=\"https://colab.research.google.com/assets/colab-badge.svg\" alt=\"Open In Colab\"/></a>"
      ]
    },
    {
      "cell_type": "code",
      "execution_count": 1,
      "metadata": {
        "id": "T9Wa76LEOokV",
        "colab": {
          "base_uri": "https://localhost:8080/"
        },
        "outputId": "70ddb5bc-dc1c-40c3-9b1a-e9d0167e24a0"
      },
      "outputs": [
        {
          "output_type": "stream",
          "name": "stdout",
          "text": [
            "Mounted at /mnt\n"
          ]
        }
      ],
      "source": [
        "from google.colab import drive\n",
        "drive.mount(\"/mnt\")"
      ]
    },
    {
      "cell_type": "code",
      "source": [
        "import numpy\n",
        "from sklearn.model_selection import train_test_split\n",
        "from sklearn.linear_model import LogisticRegression,LogisticRegressionCV\n",
        "from sklearn.model_selection import cross_val_score,cross_val_predict\n",
        "from sklearn.preprocessing import MinMaxScaler\n",
        "from sklearn.model_selection import ShuffleSplit,GridSearchCV\n",
        "from sklearn.metrics import accuracy_score"
      ],
      "metadata": {
        "id": "q6V1ERoWO4V0"
      },
      "execution_count": 23,
      "outputs": []
    },
    {
      "cell_type": "code",
      "source": [
        "D = numpy.genfromtxt(\"/mnt/My Drive/Dataset/ex2data2.txt\",delimiter=\",\")\n",
        "scaler = MinMaxScaler()\n",
        "X,y = D[:,:-1], D[:,-1]\n",
        "scaler.fit(X)\n",
        "X_train,X_test,y_train,y_test = train_test_split(X,y,test_size=30)"
      ],
      "metadata": {
        "id": "hLoo7AyD0K0r"
      },
      "execution_count": 4,
      "outputs": []
    },
    {
      "cell_type": "code",
      "source": [
        "model = LogisticRegression(solver=\"liblinear\",max_iter=1500,multi_class=\"auto\")\n",
        "result = cross_val_score(model,X_train,y_train,cv=10,scoring=\"accuracy\")\n",
        "print(result)"
      ],
      "metadata": {
        "colab": {
          "base_uri": "https://localhost:8080/"
        },
        "id": "8xjVYxOvJYM3",
        "outputId": "03825cf2-8a6d-4c6d-9214-eff72720c367"
      },
      "execution_count": 11,
      "outputs": [
        {
          "output_type": "stream",
          "name": "stdout",
          "text": [
            "[0.66666667 0.55555556 0.77777778 0.77777778 0.77777778 0.55555556\n",
            " 0.77777778 0.33333333 0.375      0.75      ]\n"
          ]
        }
      ]
    },
    {
      "cell_type": "code",
      "source": [
        "model = LogisticRegression(solver=\"liblinear\",max_iter=1500,multi_class=\"auto\")\n",
        "sf = ShuffleSplit(n_splits=10,test_size=0.2)\n",
        "result = cross_val_score(model,X_train,y_train,cv=sf,scoring=\"accuracy\")\n",
        "print(result)"
      ],
      "metadata": {
        "colab": {
          "base_uri": "https://localhost:8080/"
        },
        "id": "ds5UVnsPLnXH",
        "outputId": "3cf9e520-cfe0-4e32-eedc-3a6e889a305d"
      },
      "execution_count": 15,
      "outputs": [
        {
          "output_type": "stream",
          "name": "stdout",
          "text": [
            "[0.44444444 0.55555556 0.16666667 0.5        0.5        0.66666667\n",
            " 0.5        0.5        0.5        0.44444444]\n"
          ]
        }
      ]
    },
    {
      "cell_type": "code",
      "source": [
        "model = LogisticRegression(solver=\"liblinear\",max_iter=1500,multi_class=\"auto\")\n",
        "result = cross_val_predict(model,X_train,y_train,cv=10)\n",
        "print(result)"
      ],
      "metadata": {
        "colab": {
          "base_uri": "https://localhost:8080/"
        },
        "id": "0e8x9BluM3Bz",
        "outputId": "c44e6216-0a58-456b-e92c-45701eab5fb7"
      },
      "execution_count": 18,
      "outputs": [
        {
          "output_type": "stream",
          "name": "stdout",
          "text": [
            "[0. 1. 1. 1. 1. 1. 1. 1. 1. 0. 1. 1. 1. 1. 1. 0. 0. 1. 1. 0. 0. 1. 0. 1.\n",
            " 1. 0. 0. 1. 1. 1. 1. 1. 0. 1. 1. 1. 1. 0. 1. 0. 1. 1. 1. 1. 1. 1. 1. 1.\n",
            " 1. 1. 1. 1. 1. 1. 1. 1. 0. 0. 1. 1. 1. 1. 1. 1. 1. 1. 1. 1. 1. 0. 1. 1.\n",
            " 1. 0. 0. 0. 1. 1. 1. 1. 1. 0. 0. 1. 1. 1. 1. 1.]\n"
          ]
        }
      ]
    },
    {
      "cell_type": "code",
      "source": [
        "model = LogisticRegression(solver=\"liblinear\",max_iter=1500,multi_class=\"auto\")\n",
        "param = {\"C\":[1,10,20,50]}\n",
        "gr = GridSearchCV(model,cv=10,param_grid = param)\n",
        "gr.fit(X_train,y_train)\n",
        "result = gr.best_params_\n",
        "print(\"C best params:\",result)\n",
        "yhat = gr.predict(X_test)\n",
        "acc = accuracy_score(y_test,yhat)\n",
        "print(\"acc:\",acc)"
      ],
      "metadata": {
        "colab": {
          "base_uri": "https://localhost:8080/"
        },
        "id": "xk8Go-jwPCN-",
        "outputId": "dd2215f4-96da-4c47-a9e1-cad118d393c9"
      },
      "execution_count": 21,
      "outputs": [
        {
          "output_type": "stream",
          "name": "stdout",
          "text": [
            "C best params: {'C': 10}\n",
            "acc: 0.5\n"
          ]
        }
      ]
    },
    {
      "cell_type": "code",
      "source": [
        "logcv = LogisticRegressionCV(cv=10,random_state=140)\n",
        "logcv.fit(X_train,y_train)\n",
        "yhat = logcv.predict(X_test)\n",
        "acc = accuracy_score(y_test,yhat)\n",
        "print(\"acc:\",acc)"
      ],
      "metadata": {
        "colab": {
          "base_uri": "https://localhost:8080/"
        },
        "id": "b5DB_VTARrit",
        "outputId": "30e8b662-114a-4ece-9823-49d07d9830a4"
      },
      "execution_count": 25,
      "outputs": [
        {
          "output_type": "stream",
          "name": "stdout",
          "text": [
            "acc: 0.5\n"
          ]
        }
      ]
    }
  ]
}