{
  "nbformat": 4,
  "nbformat_minor": 0,
  "metadata": {
    "colab": {
      "name": "Pandas_02",
      "provenance": [],
      "collapsed_sections": [],
      "authorship_tag": "ABX9TyNytKKf3na2ivPXv5b2bpW+",
      "include_colab_link": true
    },
    "kernelspec": {
      "name": "python3",
      "display_name": "Python 3"
    },
    "language_info": {
      "name": "python"
    }
  },
  "cells": [
    {
      "cell_type": "markdown",
      "metadata": {
        "id": "view-in-github",
        "colab_type": "text"
      },
      "source": [
        "<a href=\"https://colab.research.google.com/github/vohai2003/Pythoncode/blob/main/Pandas_02.ipynb\" target=\"_parent\"><img src=\"https://colab.research.google.com/assets/colab-badge.svg\" alt=\"Open In Colab\"/></a>"
      ]
    },
    {
      "cell_type": "markdown",
      "source": [
        "Câu 1: Tạo dataframe từ series, dữ liệu từ bàn phím"
      ],
      "metadata": {
        "id": "kUa_zblkfc7-"
      }
    },
    {
      "cell_type": "code",
      "source": [
        "import pandas\n",
        "Name = []\n",
        "Birthday = []\n",
        "PaypH = []\n",
        "WorkH = []"
      ],
      "metadata": {
        "id": "7PWUZbimfjCg"
      },
      "execution_count": 1,
      "outputs": []
    },
    {
      "cell_type": "code",
      "source": [
        "for i in range(0,10):\n",
        "  Name.append(input(\"Tên: \"))\n",
        "  Birthday.append(input(\"Ngày sinh: \"))\n",
        "  PaypH.append(float(input(\"Tiền công trên giờ: \")))\n",
        "  WorkH.append(float(input(\"Số giờ làm việc: \")))"
      ],
      "metadata": {
        "colab": {
          "base_uri": "https://localhost:8080/"
        },
        "id": "UPO3UpMyf0BE",
        "outputId": "2a1eb501-e392-4918-a938-e68f9f6e4a8b"
      },
      "execution_count": 2,
      "outputs": [
        {
          "name": "stdout",
          "output_type": "stream",
          "text": [
            "Tên: iojo\n",
            "Ngày sinh: 32093\n",
            "Tiền công trên giờ: 2\n",
            "Số giờ làm việc: 4\n",
            "Tên: ôpp\n",
            "Ngày sinh: 5\n",
            "Tiền công trên giờ: 23\n",
            "Số giờ làm việc: 4\n",
            "Tên: 14\n",
            "Ngày sinh: 5\n",
            "Tiền công trên giờ: 6\n",
            "Số giờ làm việc: 243\n",
            "Tên: 5\n",
            "Ngày sinh: 253\n",
            "Tiền công trên giờ: 6\n",
            "Số giờ làm việc: 25\n",
            "Tên: 5\n",
            "Ngày sinh: 6\n",
            "Tiền công trên giờ: 423\n",
            "Số giờ làm việc: 5\n",
            "Tên: 6\n",
            "Ngày sinh: 352\n",
            "Tiền công trên giờ: 4\n",
            "Số giờ làm việc: 24\n",
            "Tên: 3\n",
            "Ngày sinh: 432\n",
            "Tiền công trên giờ: 3\n",
            "Số giờ làm việc: 34\n",
            "Tên: 2\n",
            "Ngày sinh: 243\n",
            "Tiền công trên giờ: 4\n",
            "Số giờ làm việc: 234\n",
            "Tên: 1\n",
            "Ngày sinh: 5\n",
            "Tiền công trên giờ: 342\n",
            "Số giờ làm việc: 5\n",
            "Tên: 4\n",
            "Ngày sinh: 24\n",
            "Tiền công trên giờ: 3\n",
            "Số giờ làm việc: 532\n"
          ]
        }
      ]
    },
    {
      "cell_type": "markdown",
      "source": [
        "Ghép series để tạo thành dataframe"
      ],
      "metadata": {
        "id": "RbErWzOhghkp"
      }
    },
    {
      "cell_type": "code",
      "source": [
        "frame = {\"Họ và tên\":pandas.Series(Name),\"Ngày sinh\":pandas.Series(Birthday),\"Tiền công trên giờ\":pandas.Series(PaypH),\"Giờ công\":pandas.Series(WorkH)}\n",
        "dt = pandas.DataFrame(frame)\n",
        "print(dt)"
      ],
      "metadata": {
        "colab": {
          "base_uri": "https://localhost:8080/"
        },
        "id": "nRrZISx2glFd",
        "outputId": "b80f3b1a-b0a5-44a5-df75-8d9fd403e2fb"
      },
      "execution_count": 3,
      "outputs": [
        {
          "output_type": "stream",
          "name": "stdout",
          "text": [
            "  Họ và tên Ngày sinh  Tiền công trên giờ  Giờ công\n",
            "0      iojo     32093                 2.0       4.0\n",
            "1       ôpp         5                23.0       4.0\n",
            "2        14         5                 6.0     243.0\n",
            "3         5       253                 6.0      25.0\n",
            "4         5         6               423.0       5.0\n",
            "5         6       352                 4.0      24.0\n",
            "6         3       432                 3.0      34.0\n",
            "7         2       243                 4.0     234.0\n",
            "8         1         5               342.0       5.0\n",
            "9         4        24                 3.0     532.0\n"
          ]
        }
      ]
    },
    {
      "cell_type": "markdown",
      "source": [
        "Tính tiền công cho công nhân"
      ],
      "metadata": {
        "id": "O4XSy15mhnr9"
      }
    },
    {
      "cell_type": "code",
      "source": [
        "dt[\"Tiền công\"] = dt['Tiền công trên giờ']*dt[\"Giờ công\"]\n",
        "print(dt)"
      ],
      "metadata": {
        "colab": {
          "base_uri": "https://localhost:8080/"
        },
        "id": "U2TKZwEuhq5N",
        "outputId": "65e86f63-03e7-49b3-c63e-68240120f641"
      },
      "execution_count": 4,
      "outputs": [
        {
          "output_type": "stream",
          "name": "stdout",
          "text": [
            "  Họ và tên Ngày sinh  Tiền công trên giờ  Giờ công  Tiền công\n",
            "0      iojo     32093                 2.0       4.0        8.0\n",
            "1       ôpp         5                23.0       4.0       92.0\n",
            "2        14         5                 6.0     243.0     1458.0\n",
            "3         5       253                 6.0      25.0      150.0\n",
            "4         5         6               423.0       5.0     2115.0\n",
            "5         6       352                 4.0      24.0       96.0\n",
            "6         3       432                 3.0      34.0      102.0\n",
            "7         2       243                 4.0     234.0      936.0\n",
            "8         1         5               342.0       5.0     1710.0\n",
            "9         4        24                 3.0     532.0     1596.0\n"
          ]
        }
      ]
    },
    {
      "cell_type": "markdown",
      "source": [
        "Bài 2: Tạo dataframe từ Dictionary chứa series. \\"
      ],
      "metadata": {
        "id": "WS-q7uW_iBLP"
      }
    },
    {
      "cell_type": "code",
      "source": [
        "Sex = []\n",
        "Age = []\n",
        "Name = []\n",
        "for i in range(0,10):\n",
        "  Name.append(input(\"Tên: \"))\n",
        "  Age.append(int(input(\"Tuổi: \")))\n",
        "  Sex.append(input(\"Giới tính: \"))\n",
        "dt = pandas.DataFrame({\"Tên\": pandas.Series(Name),\"Tuổi\":pandas.Series(Age),\"Giới tính\":pandas.Series(Sex)})\n",
        "print(dt)"
      ],
      "metadata": {
        "colab": {
          "base_uri": "https://localhost:8080/"
        },
        "id": "M0381LEOiGeR",
        "outputId": "4d07ad16-e08d-43c3-d8ad-ad5cd3df0eaf"
      },
      "execution_count": 3,
      "outputs": [
        {
          "output_type": "stream",
          "name": "stdout",
          "text": [
            "Tên: 09\n",
            "Tuổi: 234432\n",
            "Giới tính: 24\n",
            "Tên: 423\n",
            "Tuổi: 325\n",
            "Giới tính: 54\n",
            "Tên: 25\n",
            "Tuổi: 345\n",
            "Giới tính: 325\n",
            "Tên: 53\n",
            "Tuổi: 32\n",
            "Giới tính: 5\n",
            "Tên: 35\n",
            "Tuổi: 346\n",
            "Giới tính: 354\n",
            "Tên: 24\n",
            "Tuổi: 5\n",
            "Giới tính: 643\n",
            "Tên: 45\n",
            "Tuổi: 345\n",
            "Giới tính: 24\n",
            "Tên: 132\n",
            "Tuổi: 46\n",
            "Giới tính: 54\n",
            "Tên: 243\n",
            "Tuổi: 132\n",
            "Giới tính: 34\n",
            "Tên: 43\n",
            "Tuổi: 32\n",
            "Giới tính: 31\n",
            "   Tên    Tuổi Giới tính\n",
            "0   09  234432        24\n",
            "1  423     325        54\n",
            "2   25     345       325\n",
            "3   53      32         5\n",
            "4   35     346       354\n",
            "5   24       5       643\n",
            "6   45     345        24\n",
            "7  132      46        54\n",
            "8  243     132        34\n",
            "9   43      32        31\n"
          ]
        }
      ]
    },
    {
      "cell_type": "markdown",
      "source": [
        "Tạo dataframe từ dictionary chứa list"
      ],
      "metadata": {
        "id": "UjFwNMrle7om"
      }
    },
    {
      "cell_type": "code",
      "source": [
        "dt = pandas.DataFrame({\"Tên\": Name,\"Tuổi\":Age,\"Giới tính\":Sex})\n",
        "print(dt)"
      ],
      "metadata": {
        "colab": {
          "base_uri": "https://localhost:8080/"
        },
        "id": "hTnXAKkpe_W5",
        "outputId": "6d22919f-3137-4b0b-b4bb-44dcf0292601"
      },
      "execution_count": 10,
      "outputs": [
        {
          "output_type": "stream",
          "name": "stdout",
          "text": [
            "   Tên    Tuổi Giới tính\n",
            "0   09  234432        24\n",
            "1  423     325        54\n",
            "2   25     345       325\n",
            "3   53      32         5\n",
            "4   35     346       354\n",
            "5   24       5       643\n",
            "6   45     345        24\n",
            "7  132      46        54\n",
            "8  243     132        34\n",
            "9   43      32        31\n"
          ]
        }
      ]
    },
    {
      "cell_type": "markdown",
      "source": [
        "Tạo dataframe từ list chứa dictionary"
      ],
      "metadata": {
        "id": "dW245csNis1l"
      }
    },
    {
      "cell_type": "code",
      "source": [
        "dt = pandas.DataFrame([{\"Tên\": Name},{\"Tuổi\":Age},{\"Giới tính\":Sex}],columns=[\"Tên\",\"Tuổi\",\"Giới tính\"])\n",
        "print(dt)"
      ],
      "metadata": {
        "colab": {
          "base_uri": "https://localhost:8080/"
        },
        "id": "_fW6s8NAiw8j",
        "outputId": "073e7d37-40d6-4690-c8d3-ae0f7c978ee1"
      },
      "execution_count": 9,
      "outputs": [
        {
          "output_type": "stream",
          "name": "stdout",
          "text": [
            "                                           Tên  \\\n",
            "0  [09, 423, 25, 53, 35, 24, 45, 132, 243, 43]   \n",
            "1                                          NaN   \n",
            "2                                          NaN   \n",
            "\n",
            "                                               Tuổi  \\\n",
            "0                                               NaN   \n",
            "1  [234432, 325, 345, 32, 346, 5, 345, 46, 132, 32]   \n",
            "2                                               NaN   \n",
            "\n",
            "                                    Giới tính  \n",
            "0                                         NaN  \n",
            "1                                         NaN  \n",
            "2  [24, 54, 325, 5, 354, 643, 24, 54, 34, 31]  \n"
          ]
        }
      ]
    },
    {
      "cell_type": "markdown",
      "source": [
        "Tách các cột từ dataframe"
      ],
      "metadata": {
        "id": "3_fnlak6pLtX"
      }
    },
    {
      "cell_type": "code",
      "source": [
        "NameF = pandas.DataFrame(zip(list(dt[\"Tên\"])))\n",
        "AgeF = pandas.DataFrame(zip(list(dt[\"Tuổi\"])))\n",
        "SexF = pandas.DataFrame(zip(list(dt[\"Giới tính\"])))\n",
        "print(\"Tên:\")\n",
        "print(NameF)\n",
        "print(\"Tuổi:\")\n",
        "print(AgeF)\n",
        "print(\"Giới tính:\")\n",
        "print(SexF)"
      ],
      "metadata": {
        "colab": {
          "base_uri": "https://localhost:8080/"
        },
        "id": "XnUPN7KopPid",
        "outputId": "001f3f85-2112-4a8c-f149-1efec2d037eb"
      },
      "execution_count": 13,
      "outputs": [
        {
          "output_type": "stream",
          "name": "stdout",
          "text": [
            "Tên:\n",
            "     0\n",
            "0   09\n",
            "1  423\n",
            "2   25\n",
            "3   53\n",
            "4   35\n",
            "5   24\n",
            "6   45\n",
            "7  132\n",
            "8  243\n",
            "9   43\n",
            "Tuổi\n",
            "        0\n",
            "0  234432\n",
            "1     325\n",
            "2     345\n",
            "3      32\n",
            "4     346\n",
            "5       5\n",
            "6     345\n",
            "7      46\n",
            "8     132\n",
            "9      32\n",
            "Giới tính\n",
            "     0\n",
            "0   24\n",
            "1   54\n",
            "2  325\n",
            "3    5\n",
            "4  354\n",
            "5  643\n",
            "6   24\n",
            "7   54\n",
            "8   34\n",
            "9   31\n"
          ]
        }
      ]
    }
  ]
}