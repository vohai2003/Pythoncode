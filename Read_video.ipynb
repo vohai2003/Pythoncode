{
  "nbformat": 4,
  "nbformat_minor": 0,
  "metadata": {
    "colab": {
      "provenance": [],
      "collapsed_sections": [],
      "authorship_tag": "ABX9TyPnQE9ipXuopxJgCnML3rC4",
      "include_colab_link": true
    },
    "kernelspec": {
      "name": "python3",
      "display_name": "Python 3"
    },
    "language_info": {
      "name": "python"
    }
  },
  "cells": [
    {
      "cell_type": "markdown",
      "metadata": {
        "id": "view-in-github",
        "colab_type": "text"
      },
      "source": [
        "<a href=\"https://colab.research.google.com/github/vohai2003/Pythoncode/blob/main/Read_video.ipynb\" target=\"_parent\"><img src=\"https://colab.research.google.com/assets/colab-badge.svg\" alt=\"Open In Colab\"/></a>"
      ]
    },
    {
      "cell_type": "code",
      "execution_count": 1,
      "metadata": {
        "colab": {
          "base_uri": "https://localhost:8080/"
        },
        "id": "yQ4Rs1LO8l2e",
        "outputId": "e3e54346-10cc-444e-ee81-a76ee01b73fb"
      },
      "outputs": [
        {
          "output_type": "stream",
          "name": "stdout",
          "text": [
            "Mounted at /mnt/drive\n"
          ]
        }
      ],
      "source": [
        "from google.colab import drive\n",
        "drive.mount(\"/mnt/drive\")"
      ]
    },
    {
      "cell_type": "code",
      "source": [
        "import cv2\n",
        "import numpy"
      ],
      "metadata": {
        "id": "4f08zIMH8wtk"
      },
      "execution_count": 2,
      "outputs": []
    },
    {
      "cell_type": "code",
      "source": [
        "videoobj = cv2.VideoCapture(\"/mnt/drive/My Drive/image_sets/2022-10-28 20-26-35.mp4\")"
      ],
      "metadata": {
        "id": "gSxh4rRO9aUw"
      },
      "execution_count": 7,
      "outputs": []
    },
    {
      "cell_type": "code",
      "source": [
        "frameCount = int(videoobj.get(cv2.CAP_PROP_FRAME_COUNT))\n",
        "frameWidth = int(videoobj.get(cv2.CAP_PROP_FRAME_WIDTH))\n",
        "frameHeight = int(videoobj.get(cv2.CAP_PROP_FRAME_HEIGHT))\n",
        "buf = numpy.empty((frameCount, frameHeight, frameWidth, 3), numpy.dtype('uint8')) #khởi tạo biến numpy chứa đoạn video\n",
        "fc = 0\n",
        "ret = True\n",
        "while (fc < frameCount  and ret):\n",
        "    ret, buf[fc] = videoobj.read()\n",
        "    fc += 1\n",
        "videoobj.release()\n",
        "print(buf.shape)"
      ],
      "metadata": {
        "colab": {
          "base_uri": "https://localhost:8080/"
        },
        "id": "YyukLzgJ9pEz",
        "outputId": "c5cc301e-2307-4fe0-de9c-59e50508f8a6"
      },
      "execution_count": 8,
      "outputs": [
        {
          "output_type": "stream",
          "name": "stdout",
          "text": [
            "(10870, 450, 800, 3)\n"
          ]
        }
      ]
    },
    {
      "cell_type": "markdown",
      "source": [
        "(số khung hình, chiều rộng, chiều cao, không gian màu)"
      ],
      "metadata": {
        "id": "LjPFkqBu_Kpf"
      }
    }
  ]
}