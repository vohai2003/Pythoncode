{
  "nbformat": 4,
  "nbformat_minor": 0,
  "metadata": {
    "colab": {
      "name": "Loop exercises 2",
      "provenance": [],
      "authorship_tag": "ABX9TyPSM8ydggOcRQGNPXK9hx2r",
      "include_colab_link": true
    },
    "kernelspec": {
      "name": "python3",
      "display_name": "Python 3"
    },
    "language_info": {
      "name": "python"
    }
  },
  "cells": [
    {
      "cell_type": "markdown",
      "metadata": {
        "id": "view-in-github",
        "colab_type": "text"
      },
      "source": [
        "<a href=\"https://colab.research.google.com/github/vohai2003/Pythoncode/blob/main/Loop_exercises_2.ipynb\" target=\"_parent\"><img src=\"https://colab.research.google.com/assets/colab-badge.svg\" alt=\"Open In Colab\"/></a>"
      ]
    },
    {
      "cell_type": "markdown",
      "metadata": {
        "id": "qgcbrzDF1shU"
      },
      "source": [
        "Bài 1"
      ]
    },
    {
      "cell_type": "code",
      "metadata": {
        "colab": {
          "base_uri": "https://localhost:8080/"
        },
        "id": "D3I29Mro1Uje",
        "outputId": "b0408346-8d6e-4414-aa61-5859130a8230"
      },
      "source": [
        "n = 0\n",
        "i = 2\n",
        "while i*7<200:\n",
        "  n = 7*i\n",
        "  if n%5 != 0:\n",
        "    print(n)\n",
        "  i +=1"
      ],
      "execution_count": null,
      "outputs": [
        {
          "output_type": "stream",
          "name": "stdout",
          "text": [
            "14\n",
            "21\n",
            "28\n",
            "42\n",
            "49\n",
            "56\n",
            "63\n",
            "77\n",
            "84\n",
            "91\n",
            "98\n",
            "112\n",
            "119\n",
            "126\n",
            "133\n",
            "147\n",
            "154\n",
            "161\n",
            "168\n",
            "182\n",
            "189\n",
            "196\n"
          ]
        }
      ]
    },
    {
      "cell_type": "markdown",
      "metadata": {
        "id": "8CFwRQ5A33Wb"
      },
      "source": [
        "Bài 2"
      ]
    },
    {
      "cell_type": "code",
      "metadata": {
        "colab": {
          "base_uri": "https://localhost:8080/"
        },
        "id": "OmAR5L-834xw",
        "outputId": "d72efcc0-372a-4fe0-a1ea-1682a9a6b987"
      },
      "source": [
        "n = int(input(\"Tinh n!: n=\"))\n",
        "result = 1\n",
        "for i in range (1,n+1):\n",
        "  result *= i\n",
        "print(result)"
      ],
      "execution_count": null,
      "outputs": [
        {
          "output_type": "stream",
          "name": "stdout",
          "text": [
            "Tinh n!: n=8\n",
            "40320\n"
          ]
        }
      ]
    },
    {
      "cell_type": "markdown",
      "metadata": {
        "id": "rZJh4pGd7a_n"
      },
      "source": [
        "Bài 3"
      ]
    },
    {
      "cell_type": "code",
      "metadata": {
        "colab": {
          "base_uri": "https://localhost:8080/"
        },
        "id": "n8GEpdTJ7b4s",
        "outputId": "241ec008-d235-4f06-a53d-47e31f5edac3"
      },
      "source": [
        "n = int(input(\"Nhap so Fibonacci:\"))\n",
        "if n==0:\n",
        "  print(\"0\")\n",
        "elif n==1:\n",
        "  print(\"0,1\")\n",
        "elif n==2:\n",
        "  print(\"0,1,1\")\n",
        "elif n>2:\n",
        "  print(\"0,1,1\",end=\",\")\n",
        "  sd1 = 1\n",
        "  sd2 = 1\n",
        "  for i in range(3,n):\n",
        "    tmp = sd1\n",
        "    sd1 += sd2\n",
        "    sd2 = tmp\n",
        "    print(sd1, end=\",\")\n",
        "else: print(\"Khong hop le\")"
      ],
      "execution_count": null,
      "outputs": [
        {
          "output_type": "stream",
          "name": "stdout",
          "text": [
            "Nhap so Fibonacci:15\n",
            "0,1,1,2,3,5,8,13,21,34,55,89,144,233,377,"
          ]
        }
      ]
    },
    {
      "cell_type": "markdown",
      "metadata": {
        "id": "sHj6EMI79eOq"
      },
      "source": [
        "Bài 4"
      ]
    },
    {
      "cell_type": "code",
      "metadata": {
        "colab": {
          "base_uri": "https://localhost:8080/"
        },
        "id": "21K76nsP9fHP",
        "outputId": "429592ff-fb9a-48ff-b0b7-45b1d9735be3"
      },
      "source": [
        "n = int(input(\"Dat gioi han:\"))\n",
        "i = 2\n",
        "for i in range(2,n+1):\n",
        "  check = 0\n",
        "  for j in range(2,i):\n",
        "    if i%j==0:\n",
        "      check = 1\n",
        "  if check ==0: print(i)"
      ],
      "execution_count": null,
      "outputs": [
        {
          "output_type": "stream",
          "name": "stdout",
          "text": [
            "Dat gioi han:15\n",
            "2\n",
            "3\n",
            "5\n",
            "7\n",
            "11\n",
            "13\n"
          ]
        }
      ]
    },
    {
      "cell_type": "markdown",
      "metadata": {
        "id": "2-0-YuU6AzUp"
      },
      "source": [
        "Bài 5"
      ]
    },
    {
      "cell_type": "code",
      "metadata": {
        "colab": {
          "base_uri": "https://localhost:8080/"
        },
        "id": "B-BM7y6dA0Sb",
        "outputId": "b1a4a7f5-506a-4d47-d293-3c6859fd587d"
      },
      "source": [
        "n = int(input(\"Dat gioi han:\"))\n",
        "i = 2\n",
        "dem = 0\n",
        "while dem <=n:\n",
        "  check = 0\n",
        "  for j in range(2,i):\n",
        "    if i%j==0:\n",
        "      check = 1\n",
        "  if check ==0: \n",
        "    print(i)\n",
        "    dem +=1\n",
        "  i+=1"
      ],
      "execution_count": null,
      "outputs": [
        {
          "output_type": "stream",
          "name": "stdout",
          "text": [
            "Dat gioi han:15\n",
            "2\n",
            "3\n",
            "5\n",
            "7\n",
            "11\n",
            "13\n",
            "17\n",
            "19\n",
            "23\n",
            "29\n",
            "31\n",
            "37\n",
            "41\n",
            "43\n",
            "47\n",
            "53\n"
          ]
        }
      ]
    },
    {
      "cell_type": "markdown",
      "metadata": {
        "id": "H4SplS8_BeKc"
      },
      "source": [
        "Bài 6"
      ]
    },
    {
      "cell_type": "code",
      "metadata": {
        "id": "OB5SOLvxBgEw"
      },
      "source": [
        "for i in range(10000,100000):\n",
        "  check = 0\n",
        "  for j in range(2,i):\n",
        "    if i%j==0:\n",
        "      check = 1\n",
        "  if check ==0: print(i)"
      ],
      "execution_count": null,
      "outputs": []
    },
    {
      "cell_type": "markdown",
      "metadata": {
        "id": "41mKRtFMDvJX"
      },
      "source": [
        "Bài 7"
      ]
    },
    {
      "cell_type": "code",
      "metadata": {
        "colab": {
          "base_uri": "https://localhost:8080/"
        },
        "id": "xEbifV-3EgML",
        "outputId": "12e62a5d-3806-4780-a532-6cb94ce6921e"
      },
      "source": [
        "n = input(\"Nhap so can tinh tong ngang\")\n",
        "sum = 0\n",
        "for i in n:\n",
        "  dgt = int(i)\n",
        "  sum += dgt\n",
        "print(sum)"
      ],
      "execution_count": null,
      "outputs": [
        {
          "output_type": "stream",
          "name": "stdout",
          "text": [
            "Nhap so can tinh tong ngang1234\n",
            "10\n"
          ]
        }
      ]
    },
    {
      "cell_type": "markdown",
      "metadata": {
        "id": "vrUiywiHFE6p"
      },
      "source": [
        "Bài 8"
      ]
    },
    {
      "cell_type": "code",
      "metadata": {
        "colab": {
          "base_uri": "https://localhost:8080/"
        },
        "id": "aWIDdmUDFH-5",
        "outputId": "1372c279-66b9-465e-9267-d1adcd0fc4b0"
      },
      "source": [
        "def primed(x):\n",
        "  check = True\n",
        "  for j in range(2,x):\n",
        "    if x%j==0:\n",
        "      check = False\n",
        "  return check\n",
        "\n",
        "\n",
        "n = int(input(\"Nhap so Fibonacci:\"))\n",
        "sh1 = 1\n",
        "sh2 = 1\n",
        "while sh1<=n:\n",
        "  tmp = sh1\n",
        "  sh1 += sh2\n",
        "  sh2 = tmp\n",
        "  if primed(sh1)==True:\n",
        "    print(sh1)"
      ],
      "execution_count": null,
      "outputs": [
        {
          "output_type": "stream",
          "name": "stdout",
          "text": [
            "Nhap so Fibonacci:15\n",
            "2\n",
            "3\n",
            "5\n",
            "13\n"
          ]
        }
      ]
    }
  ]
}