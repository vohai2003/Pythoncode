{
  "nbformat": 4,
  "nbformat_minor": 0,
  "metadata": {
    "colab": {
      "name": "Advanced data type",
      "provenance": [],
      "authorship_tag": "ABX9TyOyTUwW2SfwZUltb/EaQ565",
      "include_colab_link": true
    },
    "kernelspec": {
      "name": "python3",
      "display_name": "Python 3"
    },
    "language_info": {
      "name": "python"
    }
  },
  "cells": [
    {
      "cell_type": "markdown",
      "metadata": {
        "id": "view-in-github",
        "colab_type": "text"
      },
      "source": [
        "<a href=\"https://colab.research.google.com/github/vohai2003/Pythoncode/blob/main/Advanced_data_type.ipynb\" target=\"_parent\"><img src=\"https://colab.research.google.com/assets/colab-badge.svg\" alt=\"Open In Colab\"/></a>"
      ]
    },
    {
      "cell_type": "markdown",
      "metadata": {
        "id": "iaDHrYFlkJ9e"
      },
      "source": [
        "Bài 1: Xây dựng thư viện log(i)"
      ]
    },
    {
      "cell_type": "code",
      "metadata": {
        "colab": {
          "base_uri": "https://localhost:8080/"
        },
        "id": "osHGqS39kGZN",
        "outputId": "3e51c706-0594-4aa9-bf36-723ff6cd582a"
      },
      "source": [
        "import math\n",
        "n = int(input(\"Set the limit of dict:\"))\n",
        "dictionary = {0:\"NaN\"}\n",
        "for i in range(1,n+1):\n",
        "  dictionary[i] = math.log(i)\n",
        "print(dictionary)"
      ],
      "execution_count": 14,
      "outputs": [
        {
          "output_type": "stream",
          "name": "stdout",
          "text": [
            "Set the limit of dict:1\n",
            "{0: 'NaN', 1: 0.0}\n"
          ]
        }
      ]
    },
    {
      "cell_type": "markdown",
      "metadata": {
        "id": "NgKBN5TElewJ"
      },
      "source": [
        "Bài 2: CSV sang list"
      ]
    },
    {
      "cell_type": "code",
      "metadata": {
        "colab": {
          "base_uri": "https://localhost:8080/"
        },
        "id": "dltg81ZClkkB",
        "outputId": "007ae8bb-6885-41ae-94cf-540b38051f86"
      },
      "source": [
        "def csv2list(s):\n",
        "  return s.split(\",\")\n",
        "s = input(\"Input the Comma Delimited String:\")\n",
        "result = csv2list(s)\n",
        "print(result)"
      ],
      "execution_count": null,
      "outputs": [
        {
          "output_type": "stream",
          "name": "stdout",
          "text": [
            "Input the Comma Delighted String:5,32,5.6,3,git\n",
            "['5', '32', '5.6', '3', 'git']\n"
          ]
        }
      ]
    },
    {
      "cell_type": "markdown",
      "metadata": {
        "id": "vyb0HmPNE72V"
      },
      "source": [
        "Bài 3: CSV sang tuple"
      ]
    },
    {
      "cell_type": "code",
      "metadata": {
        "colab": {
          "base_uri": "https://localhost:8080/"
        },
        "id": "wON6ErtPFB9D",
        "outputId": "91550d05-5575-4e62-9c5f-0f6db7248ad7"
      },
      "source": [
        "def csv2list(s):\n",
        "  return s.split(\",\")\n",
        "s = input(\"Input the Comma Delimited String:\")\n",
        "tmp = csv2list(s)\n",
        "result = tuple(tmp)\n",
        "print(result)"
      ],
      "execution_count": 1,
      "outputs": [
        {
          "output_type": "stream",
          "name": "stdout",
          "text": [
            "Input the Comma Delighted String:5,36,g,6,5\n",
            "('5', '36', 'g', '6', '5')\n"
          ]
        }
      ]
    },
    {
      "cell_type": "markdown",
      "metadata": {
        "id": "Kb-Yl2yuFRIj"
      },
      "source": [
        "Bài 4: Space Delimited String sang list"
      ]
    },
    {
      "cell_type": "code",
      "metadata": {
        "colab": {
          "base_uri": "https://localhost:8080/"
        },
        "id": "1fgrDg9KF4Ij",
        "outputId": "f5c8b34c-4cdb-4526-886b-326bb4618477"
      },
      "source": [
        "def ssv2list(s):\n",
        "  return s.split(\" \")\n",
        "s = input(\"Input the Space Delimited String:\")\n",
        "result = ssv2list(s)\n",
        "print(result)"
      ],
      "execution_count": 3,
      "outputs": [
        {
          "output_type": "stream",
          "name": "stdout",
          "text": [
            "Input the Space Delimited String:5 3 t 2 gfg\n",
            "['5', '3', 't', '2', 'gfg']\n"
          ]
        }
      ]
    },
    {
      "cell_type": "markdown",
      "metadata": {
        "id": "lsVA1n66GMUj"
      },
      "source": [
        "Bài 5: Tìm phần tử số"
      ]
    },
    {
      "cell_type": "code",
      "metadata": {
        "colab": {
          "base_uri": "https://localhost:8080/"
        },
        "id": "8WTswzlWGfq0",
        "outputId": "1ca23473-455c-49bf-908b-cd69035c35bf"
      },
      "source": [
        "def isnumberic(st):\n",
        "  try:\n",
        "    x = int(st)/100\n",
        "    return True\n",
        "  except ValueError:\n",
        "    return False\n",
        "entry = []\n",
        "tmp = str(\"0\")\n",
        "while isnumberic(tmp) == True:\n",
        "  tmp = input(\"Enter the list of number (stop when alpharic detected)\")\n",
        "  if isnumberic(tmp) == True:\n",
        "    entry.append(int(tmp))\n",
        "check = False\n",
        "n = int(input(\"Input the searching number\"))\n",
        "for i in range(0,len(entry)):\n",
        "  if entry[i] == n: \n",
        "    print(\"Result found at\",i+1)\n",
        "    check = True\n",
        "if check == False: print(\"No match found\")"
      ],
      "execution_count": 18,
      "outputs": [
        {
          "output_type": "stream",
          "name": "stdout",
          "text": [
            "Enter the list of number (stop when alpharic detected)5\n",
            "Enter the list of number (stop when alpharic detected)3\n",
            "Enter the list of number (stop when alpharic detected)8\n",
            "Enter the list of number (stop when alpharic detected)t\n",
            "Input the searching number8\n",
            "Result found at 3\n"
          ]
        }
      ]
    }
  ]
}