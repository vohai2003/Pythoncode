{
  "nbformat": 4,
  "nbformat_minor": 0,
  "metadata": {
    "colab": {
      "name": "bai-tap-phan-tich-anova-1-chieu.ipynb",
      "provenance": [],
      "collapsed_sections": [],
      "authorship_tag": "ABX9TyMnxeiM/9L9lGuoVVoiLd/e",
      "include_colab_link": true
    },
    "kernelspec": {
      "name": "python3",
      "display_name": "Python 3"
    },
    "language_info": {
      "name": "python"
    }
  },
  "cells": [
    {
      "cell_type": "markdown",
      "metadata": {
        "id": "view-in-github",
        "colab_type": "text"
      },
      "source": [
        "<a href=\"https://colab.research.google.com/github/vohai2003/Pythoncode/blob/main/bai_tap_phan_tich_anova_1_chieu.ipynb\" target=\"_parent\"><img src=\"https://colab.research.google.com/assets/colab-badge.svg\" alt=\"Open In Colab\"/></a>"
      ]
    },
    {
      "cell_type": "markdown",
      "source": [
        "Import thư viện và download dữ liệu"
      ],
      "metadata": {
        "id": "inCVhKkGxg-m"
      }
    },
    {
      "cell_type": "code",
      "execution_count": null,
      "metadata": {
        "id": "UsOVBwDZxR6-",
        "colab": {
          "base_uri": "https://localhost:8080/"
        },
        "outputId": "1dbfd432-5811-4b55-d813-dd97c7fc344d"
      },
      "outputs": [
        {
          "output_type": "stream",
          "name": "stdout",
          "text": [
            "Reading package lists... Done\n",
            "Building dependency tree       \n",
            "Reading state information... Done\n",
            "wget is already the newest version (1.19.4-1ubuntu2.2).\n",
            "The following packages were automatically installed and are no longer required:\n",
            "  libnvidia-common-460 nsight-compute-2020.2.0\n",
            "Use 'apt autoremove' to remove them.\n",
            "0 upgraded, 0 newly installed, 0 to remove and 42 not upgraded.\n",
            "--2022-05-16 01:54:04--  https://college.cengage.com/mathematics/brase/understandable_statistics/7e/students/datasets/owan/excel/owan01.xls\n",
            "Resolving college.cengage.com (college.cengage.com)... 69.32.208.108\n",
            "Connecting to college.cengage.com (college.cengage.com)|69.32.208.108|:443... connected.\n",
            "HTTP request sent, awaiting response... 200 \n",
            "Length: 1012 [application/vnd.ms-excel]\n",
            "Saving to: ‘owan01.xls’\n",
            "\n",
            "owan01.xls          100%[===================>]    1012  --.-KB/s    in 0s      \n",
            "\n",
            "2022-05-16 01:54:05 (76.3 MB/s) - ‘owan01.xls’ saved [1012/1012]\n",
            "\n",
            "--2022-05-16 01:54:05--  https://college.cengage.com/mathematics/brase/understandable_statistics/7e/students/datasets/owan/excel/owan02.xls\n",
            "Resolving college.cengage.com (college.cengage.com)... 69.32.208.108\n",
            "Connecting to college.cengage.com (college.cengage.com)|69.32.208.108|:443... connected.\n",
            "HTTP request sent, awaiting response... 200 \n",
            "Length: 912 [application/vnd.ms-excel]\n",
            "Saving to: ‘owan02.xls’\n",
            "\n",
            "owan02.xls          100%[===================>]     912  --.-KB/s    in 0s      \n",
            "\n",
            "2022-05-16 01:54:05 (155 MB/s) - ‘owan02.xls’ saved [912/912]\n",
            "\n",
            "--2022-05-16 01:54:05--  https://college.cengage.com/mathematics/brase/understandable_statistics/7e/students/datasets/owan/excel/owan03.xls\n",
            "Resolving college.cengage.com (college.cengage.com)... 69.32.208.108\n",
            "Connecting to college.cengage.com (college.cengage.com)|69.32.208.108|:443... connected.\n",
            "HTTP request sent, awaiting response... 200 \n",
            "Length: 860 [application/vnd.ms-excel]\n",
            "Saving to: ‘owan03.xls’\n",
            "\n",
            "owan03.xls          100%[===================>]     860  --.-KB/s    in 0s      \n",
            "\n",
            "2022-05-16 01:54:05 (111 MB/s) - ‘owan03.xls’ saved [860/860]\n",
            "\n",
            "--2022-05-16 01:54:05--  https://college.cengage.com/mathematics/brase/understandable_statistics/7e/students/datasets/owan/excel/owan04.xls\n",
            "Resolving college.cengage.com (college.cengage.com)... 69.32.208.108\n",
            "Connecting to college.cengage.com (college.cengage.com)|69.32.208.108|:443... connected.\n",
            "HTTP request sent, awaiting response... 200 \n",
            "Length: 1292 (1.3K) [application/vnd.ms-excel]\n",
            "Saving to: ‘owan04.xls’\n",
            "\n",
            "owan04.xls          100%[===================>]   1.26K  --.-KB/s    in 0s      \n",
            "\n",
            "2022-05-16 01:54:06 (139 MB/s) - ‘owan04.xls’ saved [1292/1292]\n",
            "\n",
            "--2022-05-16 01:54:06--  https://college.cengage.com/mathematics/brase/understandable_statistics/7e/students/datasets/owan/excel/owan05.xls\n",
            "Resolving college.cengage.com (college.cengage.com)... 69.32.208.108\n",
            "Connecting to college.cengage.com (college.cengage.com)|69.32.208.108|:443... connected.\n",
            "HTTP request sent, awaiting response... 200 \n",
            "Length: 1767 (1.7K) [application/vnd.ms-excel]\n",
            "Saving to: ‘owan05.xls’\n",
            "\n",
            "owan05.xls          100%[===================>]   1.73K  --.-KB/s    in 0s      \n",
            "\n",
            "2022-05-16 01:54:06 (202 MB/s) - ‘owan05.xls’ saved [1767/1767]\n",
            "\n"
          ]
        }
      ],
      "source": [
        "!apt install wget\n",
        "#Excavation Depth and Archaeology\n",
        "!wget https://college.cengage.com/mathematics/brase/understandable_statistics/7e/students/datasets/owan/excel/owan01.xls\n",
        "#Apple Orchard Experiment\n",
        "!wget https://college.cengage.com/mathematics/brase/understandable_statistics/7e/students/datasets/owan/excel/owan02.xls\n",
        "#Red Dye Number 40\n",
        "!wget https://college.cengage.com/mathematics/brase/understandable_statistics/7e/students/datasets/owan/excel/owan03.xls\n",
        "#Business Startup Costs\n",
        "!wget https://college.cengage.com/mathematics/brase/understandable_statistics/7e/students/datasets/owan/excel/owan04.xls\n",
        "#Weights of Football Players\n",
        "!wget https://college.cengage.com/mathematics/brase/understandable_statistics/7e/students/datasets/owan/excel/owan05.xls"
      ]
    },
    {
      "cell_type": "code",
      "source": [
        "!pip install -U xlrd pyxlsb\n",
        "import pandas\n",
        "import numpy\n",
        "import scipy.stats\n",
        "import statsmodels\n",
        "alpha = 0.05 #mức ý nghĩa cho toàn bộ các quá trình phân tích sẽ là 0.05"
      ],
      "metadata": {
        "colab": {
          "base_uri": "https://localhost:8080/"
        },
        "id": "2b6HBMrksexW",
        "outputId": "4c1df712-c99a-4efc-df38-f37927d76f22"
      },
      "execution_count": null,
      "outputs": [
        {
          "output_type": "stream",
          "name": "stdout",
          "text": [
            "Requirement already satisfied: xlrd in /usr/local/lib/python3.7/dist-packages (2.0.1)\n",
            "Requirement already satisfied: pyxlsb in /usr/local/lib/python3.7/dist-packages (1.0.9)\n"
          ]
        }
      ]
    },
    {
      "cell_type": "markdown",
      "source": [
        "Phân tích ANOVA với dữ liệu: Excavation Depth and Archaeology"
      ],
      "metadata": {
        "id": "Ok4DBxzsawDT"
      }
    },
    {
      "cell_type": "code",
      "source": [
        "#import tệp dữ liệu và kiểm tra dữ liệu\n",
        "df1 = pandas.read_excel(\"owan01.xls\",engine=\"xlrd\")\n",
        "print(df1.isna().sum()) #kiểm tra liệu có NaN không\n",
        "print(df1.shape) #kiểm tra kích thước tập dữ liệu\n",
        "#kết quả là (15,4), nghĩa là có 15 dòng\n",
        "#số phần tử tối đa có thể lấy được vào mẫu là 9\n",
        "samp1 = df1.dropna().sample(n=9,ignore_index=True) #lấy mẫu ngẫu nhiên với số phần tử là 9\n",
        "print(samp1)"
      ],
      "metadata": {
        "colab": {
          "base_uri": "https://localhost:8080/"
        },
        "id": "ca0wO1i5bBC0",
        "outputId": "34d4520a-6119-4182-b4de-93b451c4458f"
      },
      "execution_count": null,
      "outputs": [
        {
          "output_type": "stream",
          "name": "stdout",
          "text": [
            "*** No CODEPAGE record, no encoding_override: will use 'iso-8859-1'\n",
            "X1    0\n",
            "X2    5\n",
            "X3    3\n",
            "X4    6\n",
            "dtype: int64\n",
            "(15, 4)\n",
            "    X1    X2     X3    X4\n",
            "0  105  28.0   40.0  90.0\n",
            "1   99  65.0   50.0  85.0\n",
            "2  100  50.0   45.0  82.0\n",
            "3   87  55.0   30.0  95.0\n",
            "4   82  70.0   65.0  80.0\n",
            "5   93  85.0  100.0  96.0\n",
            "6  120  45.0   75.0  58.0\n",
            "7   65  80.0   65.0  95.0\n",
            "8  115  75.0   73.0  65.0\n"
          ]
        }
      ]
    },
    {
      "cell_type": "markdown",
      "source": [
        "Xây dựng giả thuyết: \\\n",
        "- Bằng lời: \\\n",
        "$H_0$: Trung bình của tất cả tập mẫu bằng nhau\\\n",
        "$H_a$: có ít nhất 1 cặp giá trị trung bình khác nhau \\\n",
        "- Bằng biểu thức \\\n",
        "$H_0: \\overline{X_1} = \\overline{X_2} = \\overline{X_3} = \\overline{X_4}$ \\\n",
        "$H_a:$ có tối thiểu 1 cặp giá trị khác nhau"
      ],
      "metadata": {
        "id": "rWXrkGTQnCP1"
      }
    },
    {
      "cell_type": "code",
      "source": [
        "#Hàm kiểm định phân phối chuẩn cho toàn bộ data trong dataframe\n",
        "def norm_dist(dt:pandas.DataFrame):\n",
        "  result = True\n",
        "  for column in dt.columns:\n",
        "    st , p = scipy.stats.shapiro(dt[column])\n",
        "    if p < alpha:\n",
        "      result = False\n",
        "      break\n",
        "  return result\n",
        "#Hàm kiểm định phương sai cho toàn dataframe\n",
        "def diff_deviation(dt:pandas.DataFrame):\n",
        "  result = True\n",
        "  for column in dt.columns:\n",
        "    for column2 in dt.columns:\n",
        "      if column != column2:\n",
        "        st , p = scipy.stats.bartlett(dt[column],dt[column2])\n",
        "        if p < alpha:\n",
        "          result = False\n",
        "  return result"
      ],
      "metadata": {
        "id": "TXTy5VpGnZiy"
      },
      "execution_count": null,
      "outputs": []
    },
    {
      "cell_type": "code",
      "source": [
        "if not norm_dist(samp1):\n",
        "  print(\"Tập mẫu không tuân theo phân phối chuẩn\")\n",
        "elif not diff_deviation(samp1):\n",
        "  print(\"Tập mẫu có phương sai không bằng nhau\")\n",
        "else:\n",
        "  st, p = scipy.stats.f_oneway(samp1[\"X1\"],samp1[\"X2\"],samp1[\"X3\"],samp1[\"X4\"])\n",
        "  if p > alpha:\n",
        "    print(\"Chưa có bằng chứng bác bỏ giả thuyết H0\")\n",
        "  else:\n",
        "    print(\"Có bằng chứng bác bỏ giả thuyết H0\")"
      ],
      "metadata": {
        "colab": {
          "base_uri": "https://localhost:8080/"
        },
        "id": "ybq12i8dqXCP",
        "outputId": "94934c28-fb6e-4ab0-c89f-5c5c0eed6447"
      },
      "execution_count": null,
      "outputs": [
        {
          "output_type": "stream",
          "name": "stdout",
          "text": [
            "Có bằng chứng bác bỏ giả thuyết H0\n"
          ]
        }
      ]
    },
    {
      "cell_type": "markdown",
      "source": [
        "Phân tích ANOVA với dữ liệu: Apple Orchard Experiment"
      ],
      "metadata": {
        "id": "mBlIGEWKuR6g"
      }
    },
    {
      "cell_type": "code",
      "source": [
        "#import tệp dữ liệu và kiểm tra dữ liệu\n",
        "df2 = pandas.read_excel(\"owan02.xls\",engine=\"xlrd\")\n",
        "print(df2.isna().sum()) #kiểm tra liệu có NaN không\n",
        "print(df2.shape) #kiểm tra kích thước tập dữ liệu\n",
        "#tập dữ liệu có kích thước các series bằng nhau, ta không cần phải lấy mẫu nữa"
      ],
      "metadata": {
        "colab": {
          "base_uri": "https://localhost:8080/"
        },
        "id": "RjLP1XiHvOrb",
        "outputId": "34705b98-4ea4-4a95-87df-eeba10455971"
      },
      "execution_count": null,
      "outputs": [
        {
          "output_type": "stream",
          "name": "stdout",
          "text": [
            "*** No CODEPAGE record, no encoding_override: will use 'iso-8859-1'\n",
            "     X1    X2    X3    X4    X5\n",
            "0  2569  2074  2505  2838  1532\n",
            "1  2928  2885  2315  2351  2552\n",
            "2  2865  3378  2667  3001  3083\n",
            "3  3844  3906  2390  2439  2330\n",
            "4  3027  2782  3021  2199  2079\n",
            "5  2336  3018  3085  3318  3366\n",
            "6  3211  3383  3308  3601  2416\n",
            "7  3037  3447  3231  3291  3100\n",
            "X1    0\n",
            "X2    0\n",
            "X3    0\n",
            "X4    0\n",
            "X5    0\n",
            "dtype: int64\n",
            "(8, 5)\n"
          ]
        }
      ]
    },
    {
      "cell_type": "markdown",
      "source": [
        "Xây dựng giả thuyết: \\\n",
        "- Bằng lời: \\\n",
        "$H_0$: Trung bình của tất cả tập mẫu bằng nhau\\\n",
        "$H_a$: có ít nhất 1 cặp giá trị trung bình khác nhau \\\n",
        "- Bằng biểu thức \\\n",
        "$H_0: \\overline{X_1} = \\overline{X_2} = \\overline{X_3} = \\overline{X_4} = \\overline{X_5}$ \\\n",
        "$H_a:$ có tối thiểu 1 cặp giá trị khác nhau"
      ],
      "metadata": {
        "id": "uD0VvkBgwLMs"
      }
    },
    {
      "cell_type": "code",
      "source": [
        "if not norm_dist(df2):\n",
        "  print(\"Tập mẫu không tuân theo phân phối chuẩn\")\n",
        "elif not diff_deviation(df2):\n",
        "  print(\"Tập mẫu có phương sai không bằng nhau\")\n",
        "else:\n",
        "  st, p = scipy.stats.f_oneway(df2[\"X1\"],df2[\"X2\"],df2[\"X3\"],df2[\"X4\"],df2[\"X5\"])\n",
        "  if p > alpha:\n",
        "    print(\"Chưa có bằng chứng bác bỏ giả thuyết H0\")\n",
        "  else:\n",
        "    print(\"Có bằng chứng bác bỏ giả thuyết H0\")"
      ],
      "metadata": {
        "colab": {
          "base_uri": "https://localhost:8080/"
        },
        "id": "5wM9pMoavrEI",
        "outputId": "61fe4b49-b315-46d1-93a9-0cec2b300093"
      },
      "execution_count": null,
      "outputs": [
        {
          "output_type": "stream",
          "name": "stdout",
          "text": [
            "Chưa có bằng chứng bác bỏ giả thuyết H0\n"
          ]
        }
      ]
    },
    {
      "cell_type": "markdown",
      "source": [
        "Phân tích ANOVA với dữ liệu: Red Dye Number 40"
      ],
      "metadata": {
        "id": "dVFzP__rxwzS"
      }
    },
    {
      "cell_type": "code",
      "source": [
        "#import tệp dữ liệu và kiểm tra dữ liệu\n",
        "df3 = pandas.read_excel(\"owan03.xls\",engine=\"xlrd\")\n",
        "print(df3.isna().sum()) #kiểm tra liệu có NaN không\n",
        "print(df3.shape) #kiểm tra kích thước tập dữ liệu\n",
        "#kích thước tập mẫu tối đa: n=8\n",
        "samp3 = df3.dropna().sample(n=8,ignore_index = True)"
      ],
      "metadata": {
        "colab": {
          "base_uri": "https://localhost:8080/"
        },
        "outputId": "57b16a5d-e5c2-42ce-9507-652f6469cab1",
        "id": "koNSzCnpx2_F"
      },
      "execution_count": null,
      "outputs": [
        {
          "output_type": "stream",
          "name": "stdout",
          "text": [
            "*** No CODEPAGE record, no encoding_override: will use 'iso-8859-1'\n",
            "X1    0\n",
            "X2    2\n",
            "X3    1\n",
            "X4    3\n",
            "dtype: int64\n",
            "(11, 4)\n"
          ]
        }
      ]
    },
    {
      "cell_type": "markdown",
      "source": [
        "Xây dựng giả thuyết: \\\n",
        "- Bằng lời: \\\n",
        "$H_0$: Trung bình của tất cả tập mẫu bằng nhau\\\n",
        "$H_a$: có ít nhất 1 cặp giá trị trung bình khác nhau \\\n",
        "- Bằng biểu thức \\\n",
        "$H_0: \\overline{X_1} = \\overline{X_2} = \\overline{X_3} = \\overline{X_4}$ \\\n",
        "$H_a:$ có tối thiểu 1 cặp giá trị khác nhau"
      ],
      "metadata": {
        "id": "KK6jnxIhyYuU"
      }
    },
    {
      "cell_type": "code",
      "source": [
        "if not norm_dist(samp3):\n",
        "  print(\"Tập mẫu không tuân theo phân phối chuẩn\")\n",
        "elif not diff_deviation(samp3):\n",
        "  print(\"Tập mẫu có phương sai không bằng nhau\")\n",
        "else:\n",
        "  st, p = scipy.stats.f_oneway(samp3[\"X1\"],samp3[\"X2\"],samp3[\"X3\"],samp3[\"X4\"])\n",
        "  if p > alpha:\n",
        "    print(\"Chưa có bằng chứng bác bỏ giả thuyết H0\")\n",
        "  else:\n",
        "    print(\"Có bằng chứng bác bỏ giả thuyết H0\")"
      ],
      "metadata": {
        "colab": {
          "base_uri": "https://localhost:8080/"
        },
        "outputId": "55cdb9bc-5a05-4a3f-8b8a-ba3b0cf3b25a",
        "id": "8YDZnmjryb9d"
      },
      "execution_count": null,
      "outputs": [
        {
          "output_type": "stream",
          "name": "stdout",
          "text": [
            "Tập mẫu có phương sai không bằng nhau\n"
          ]
        }
      ]
    },
    {
      "cell_type": "markdown",
      "source": [
        "Phân tích ANOVA với dữ liệu: Business Startup Costs"
      ],
      "metadata": {
        "id": "cMA7IPQnzDLM"
      }
    },
    {
      "cell_type": "code",
      "source": [
        "#import tệp dữ liệu và kiểm tra dữ liệu\n",
        "df4 = pandas.read_excel(\"owan04.xls\",engine=\"xlrd\")\n",
        "print(df4.isna().sum()) #kiểm tra liệu có NaN không\n",
        "print(df4.shape) #kiểm tra kích thước tập dữ liệu\n",
        "#kích thước tập mẫu tối đa: n = 10\n",
        "samp4 = df4.dropna().sample(n=10,ignore_index=True)"
      ],
      "metadata": {
        "colab": {
          "base_uri": "https://localhost:8080/"
        },
        "id": "Cka57uOZzMYM",
        "outputId": "2bc8605c-1b69-43da-abfa-a985a912aac4"
      },
      "execution_count": null,
      "outputs": [
        {
          "output_type": "stream",
          "name": "stdout",
          "text": [
            "*** No CODEPAGE record, no encoding_override: will use 'iso-8859-1'\n",
            "X1    3\n",
            "X2    5\n",
            "X3    6\n",
            "X4    6\n",
            "X5    0\n",
            "dtype: int64\n",
            "(16, 5)\n"
          ]
        }
      ]
    },
    {
      "cell_type": "markdown",
      "source": [
        "Xây dựng giả thuyết: \\\n",
        "- Bằng lời: \\\n",
        "$H_0$: Trung bình của tất cả tập mẫu bằng nhau\\\n",
        "$H_a$: có ít nhất 1 cặp giá trị trung bình khác nhau \\\n",
        "- Bằng biểu thức \\\n",
        "$H_0: \\overline{X_1} = \\overline{X_2} = \\overline{X_3} = \\overline{X_4} = \\overline{X_5}$ \\\n",
        "$H_a:$ có tối thiểu 1 cặp giá trị khác nhau"
      ],
      "metadata": {
        "id": "bATMOluZztaH"
      }
    },
    {
      "cell_type": "code",
      "source": [
        "if not norm_dist(samp4):\n",
        "  print(\"Tập mẫu không tuân theo phân phối chuẩn\")\n",
        "elif not diff_deviation(samp4):\n",
        "  print(\"Tập mẫu có phương sai không bằng nhau\")\n",
        "else:\n",
        "  st, p = scipy.stats.f_oneway(samp4[\"X1\"],samp4[\"X2\"],samp4[\"X3\"],samp4[\"X4\"],samp4[\"X5\"])\n",
        "  if p > alpha:\n",
        "    print(\"Chưa có bằng chứng bác bỏ giả thuyết H0\")\n",
        "  else:\n",
        "    print(\"Có bằng chứng bác bỏ giả thuyết H0\")"
      ],
      "metadata": {
        "colab": {
          "base_uri": "https://localhost:8080/"
        },
        "outputId": "985667c8-873a-4655-e53c-c49c5aeb23f0",
        "id": "DeItQt3gzyZ0"
      },
      "execution_count": null,
      "outputs": [
        {
          "output_type": "stream",
          "name": "stdout",
          "text": [
            "Tập mẫu không tuân theo phân phối chuẩn\n"
          ]
        }
      ]
    },
    {
      "cell_type": "markdown",
      "source": [
        "Phân tích ANOVA với dữ liệu: Weights of Football Players"
      ],
      "metadata": {
        "id": "ztAD7ujm0Jxk"
      }
    },
    {
      "cell_type": "code",
      "source": [
        "#import tệp dữ liệu và kiểm tra dữ liệu\n",
        "df5 = pandas.read_excel(\"owan05.xls\",engine=\"xlrd\")\n",
        "print(df5.isna().sum()) #kiểm tra liệu có NaN không\n",
        "print(df5.shape) #kiểm tra kích thước tập dữ liệu\n",
        "#tập dữ liệu có kích thước các series bằng nhau, ta không cần phải lấy mẫu nữa"
      ],
      "metadata": {
        "colab": {
          "base_uri": "https://localhost:8080/"
        },
        "outputId": "609fa3c9-69e9-44c3-a01e-5e08bfe7e72d",
        "id": "wNQF2eRn0Qsx"
      },
      "execution_count": null,
      "outputs": [
        {
          "output_type": "stream",
          "name": "stdout",
          "text": [
            "*** No CODEPAGE record, no encoding_override: will use 'iso-8859-1'\n",
            "X1    0\n",
            "X2    0\n",
            "X3    0\n",
            "X4    0\n",
            "X5    0\n",
            "dtype: int64\n",
            "(17, 5)\n"
          ]
        }
      ]
    },
    {
      "cell_type": "markdown",
      "source": [
        "Xây dựng giả thuyết: \\\n",
        "- Bằng lời: \\\n",
        "$H_0$: Trung bình của tất cả tập mẫu bằng nhau\\\n",
        "$H_a$: có ít nhất 1 cặp giá trị trung bình khác nhau \\\n",
        "- Bằng biểu thức \\\n",
        "$H_0: \\overline{X_1} = \\overline{X_2} = \\overline{X_3} = \\overline{X_4} = \\overline{X_5}$ \\\n",
        "$H_a:$ có tối thiểu 1 cặp giá trị khác nhau"
      ],
      "metadata": {
        "id": "tgBigTlZ0-o-"
      }
    },
    {
      "cell_type": "code",
      "source": [
        "if not norm_dist(df5):\n",
        "  print(\"Tập mẫu không tuân theo phân phối chuẩn\")\n",
        "elif not diff_deviation(df5):\n",
        "  print(\"Tập mẫu có phương sai không bằng nhau\")\n",
        "else:\n",
        "  st, p = scipy.stats.f_oneway(df5[\"X1\"],df5[\"X2\"],df5[\"X3\"],df5[\"X4\"],df5[\"X5\"])\n",
        "  if p > alpha:\n",
        "    print(\"Chưa có bằng chứng bác bỏ giả thuyết H0\")\n",
        "  else:\n",
        "    print(\"Có bằng chứng bác bỏ giả thuyết H0\")"
      ],
      "metadata": {
        "colab": {
          "base_uri": "https://localhost:8080/"
        },
        "outputId": "d3a7f16b-c4a8-48da-8cfa-a78cc291a38c",
        "id": "pgifjJda1Nn8"
      },
      "execution_count": null,
      "outputs": [
        {
          "output_type": "stream",
          "name": "stdout",
          "text": [
            "Tập mẫu không tuân theo phân phối chuẩn\n"
          ]
        }
      ]
    }
  ]
}