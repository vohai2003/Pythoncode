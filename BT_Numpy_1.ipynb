{
  "nbformat": 4,
  "nbformat_minor": 0,
  "metadata": {
    "colab": {
      "name": "BT_Numpy_1",
      "provenance": [],
      "collapsed_sections": [],
      "authorship_tag": "ABX9TyMAPs3hb+D8XeklegZnvP9N",
      "include_colab_link": true
    },
    "kernelspec": {
      "name": "python3",
      "display_name": "Python 3"
    },
    "language_info": {
      "name": "python"
    }
  },
  "cells": [
    {
      "cell_type": "markdown",
      "metadata": {
        "id": "view-in-github",
        "colab_type": "text"
      },
      "source": [
        "<a href=\"https://colab.research.google.com/github/vohai2003/Pythoncode/blob/main/BT_Numpy_1.ipynb\" target=\"_parent\"><img src=\"https://colab.research.google.com/assets/colab-badge.svg\" alt=\"Open In Colab\"/></a>"
      ]
    },
    {
      "cell_type": "markdown",
      "source": [
        "Bài 1"
      ],
      "metadata": {
        "id": "d0PzeKpl5Vcm"
      }
    },
    {
      "cell_type": "code",
      "source": [
        "import numpy\n",
        "A = numpy.array([5,7,14])"
      ],
      "metadata": {
        "id": "dTpwj6855Xbv"
      },
      "execution_count": 2,
      "outputs": []
    },
    {
      "cell_type": "markdown",
      "source": [
        "Bài 2"
      ],
      "metadata": {
        "id": "renLYAkV54x1"
      }
    },
    {
      "cell_type": "code",
      "source": [
        "A = numpy.array([1,2,3,4,5,6,7,8,9,10,11,12,13,14,15])"
      ],
      "metadata": {
        "id": "RcjGYJ8255ll"
      },
      "execution_count": 3,
      "outputs": []
    },
    {
      "cell_type": "markdown",
      "source": [
        "Bài 3: Sinh vector ngẫu nhiên"
      ],
      "metadata": {
        "id": "LX0c8ZDI6CkG"
      }
    },
    {
      "cell_type": "code",
      "source": [
        "n = int(input(\"Số chiều của vector: \"))\n",
        "OA = numpy.random.randint(0,100,size=(n,1))\n",
        "print(OA)"
      ],
      "metadata": {
        "colab": {
          "base_uri": "https://localhost:8080/"
        },
        "id": "oREO0ucv6KaX",
        "outputId": "f0caa059-41d7-4f44-baa7-378b24b687f2"
      },
      "execution_count": 5,
      "outputs": [
        {
          "output_type": "stream",
          "name": "stdout",
          "text": [
            "Số chiều của vector: 5\n",
            "[[57]\n",
            " [18]\n",
            " [82]\n",
            " [20]\n",
            " [95]]\n"
          ]
        }
      ]
    },
    {
      "cell_type": "markdown",
      "source": [
        "Bài 4: Tính chiều dài vector"
      ],
      "metadata": {
        "id": "EjECsnbF7YpC"
      }
    },
    {
      "cell_type": "code",
      "source": [
        "import math\n",
        "n = int(input(\"Số chiều của vector: \"))\n",
        "temp = []\n",
        "for i in range(0,n):\n",
        "  temp.append(int(input(\"Nhập phần tử thứ \"+str(i+1)+\" \")))\n",
        "OA = numpy.array(temp)\n",
        "def vctlen(OA):\n",
        "  s = 0.0\n",
        "  for i in OA:\n",
        "    s += i**2\n",
        "  length = math.sqrt(s)\n",
        "  return length\n",
        "print(vctlen(OA))"
      ],
      "metadata": {
        "colab": {
          "base_uri": "https://localhost:8080/"
        },
        "id": "Upw9pbhX71rc",
        "outputId": "0595d5da-0aea-4be3-de48-440fc8b5884b"
      },
      "execution_count": 9,
      "outputs": [
        {
          "output_type": "stream",
          "name": "stdout",
          "text": [
            "Số chiều của vector: 3\n",
            "Nhập phần tử thứ 1 1\n",
            "Nhập phần tử thứ 2 1\n",
            "Nhập phần tử thứ 3 1\n",
            "1.7320508075688772\n"
          ]
        }
      ]
    },
    {
      "cell_type": "markdown",
      "source": [
        "Bài 5: Tính chiều dài của vector ngẫu nhiên"
      ],
      "metadata": {
        "id": "QiX7fGLs9k93"
      }
    },
    {
      "cell_type": "code",
      "source": [
        "n = int(input(\"Số chiều của không gian \"))\n",
        "A = numpy.random.randint(0,100,size=(1,n))\n",
        "print(\"A =\",A)\n",
        "B = numpy.random.randint(0,100,size=(1,n))\n",
        "print(\"B =\",B)\n",
        "AB = B-A\n",
        "print(AB)\n",
        "AB.shape = (n)\n",
        "print(\"Độ dài AB:\",vctlen(AB))"
      ],
      "metadata": {
        "colab": {
          "base_uri": "https://localhost:8080/"
        },
        "id": "EdF77q-n-Lla",
        "outputId": "65a79fe6-978e-47e5-8632-89209d34ed8c"
      },
      "execution_count": 13,
      "outputs": [
        {
          "output_type": "stream",
          "name": "stdout",
          "text": [
            "Số chiều của không gian 3\n",
            "A = [[ 3 80 46]]\n",
            "B = [[72 66 33]]\n",
            "[[ 69 -14 -13]]\n",
            "Độ dài AB: 71.596089278675\n"
          ]
        }
      ]
    },
    {
      "cell_type": "markdown",
      "source": [
        "Bài 6: Tích vô hướng của hai vector"
      ],
      "metadata": {
        "id": "WCJ1KzCVARhZ"
      }
    },
    {
      "cell_type": "code",
      "source": [
        "n = int(input(\"Số chiều của không gian \"))\n",
        "A = numpy.random.randint(0,100,size=(1,n))\n",
        "print(\"A =\",A)\n",
        "B = numpy.random.randint(0,100,size=(1,n))\n",
        "print(\"B =\",B)\n",
        "result = numpy.inner(A,B)\n",
        "print(\"Tích vô hướng của hai vector:\",result[0][0])"
      ],
      "metadata": {
        "colab": {
          "base_uri": "https://localhost:8080/"
        },
        "id": "3N_bhwHYAW61",
        "outputId": "0ce0dfc9-9f30-4e9d-d45a-7d9127aa1220"
      },
      "execution_count": 15,
      "outputs": [
        {
          "output_type": "stream",
          "name": "stdout",
          "text": [
            "Số chiều của không gian 3\n",
            "A = [[37 28  4]]\n",
            "B = [[57 49 25]]\n",
            "Tích vô hướng của hai vector: 3581\n"
          ]
        }
      ]
    },
    {
      "cell_type": "markdown",
      "source": [
        "Bài 7: Tích hữu hướng của hai vector"
      ],
      "metadata": {
        "id": "fWhuhsVUBTdO"
      }
    },
    {
      "cell_type": "code",
      "source": [
        "n = int(input(\"Số chiều của không gian \"))\n",
        "A = numpy.random.randint(0,100,size=(1,n))\n",
        "print(\"A =\",A)\n",
        "B = numpy.random.randint(0,100,size=(1,n))\n",
        "print(\"B =\",B)\n",
        "result = numpy.cross(A,B)\n",
        "print(\"Tích vô hướng của hai vector:\",result[0][0])"
      ],
      "metadata": {
        "colab": {
          "base_uri": "https://localhost:8080/"
        },
        "id": "LLZiOEfTBZ2m",
        "outputId": "f511a3a3-81f2-4671-9839-7790ee945169"
      },
      "execution_count": 16,
      "outputs": [
        {
          "output_type": "stream",
          "name": "stdout",
          "text": [
            "Số chiều của không gian 3\n",
            "A = [[74 78 82]]\n",
            "B = [[23 43  6]]\n",
            "Tích vô hướng của hai vector: -3058\n"
          ]
        }
      ]
    },
    {
      "cell_type": "markdown",
      "source": [
        "Bài 8: Chuyển vị vector"
      ],
      "metadata": {
        "id": "hWlolExnB28_"
      }
    },
    {
      "cell_type": "code",
      "source": [
        "n = int(input(\"Số chiều của không gian \"))\n",
        "A = numpy.random.randint(0,100,size=(1,n))\n",
        "print(\"A =\",A)\n",
        "A = A.transpose()\n",
        "print(\"A.T =\",A)"
      ],
      "metadata": {
        "colab": {
          "base_uri": "https://localhost:8080/"
        },
        "id": "pCfMcWvTCCBo",
        "outputId": "afe12479-2017-44b7-bd6a-e831fdf5b0b3"
      },
      "execution_count": 18,
      "outputs": [
        {
          "output_type": "stream",
          "name": "stdout",
          "text": [
            "Số chiều của không gian 3\n",
            "A = [[53  3 85]]\n",
            "A.T = [[53]\n",
            " [ 3]\n",
            " [85]]\n"
          ]
        }
      ]
    },
    {
      "cell_type": "markdown",
      "source": [
        "Bài 9: Thao tác với list và vector\n",
        "- Cho trước 2 list, a = [1,2,3,4,5]; b = [[1],[2],[3],[4],[5]]\n",
        "- Tạo array từ list \n",
        "- Chuyển vị hai vector"
      ],
      "metadata": {
        "id": "cYWFAepKCSwi"
      }
    },
    {
      "cell_type": "code",
      "source": [
        "a = [1,2,3,4,5]\n",
        "b = [[1],[2],[3],[4],[5]]\n",
        "print(\"a =\",a)\n",
        "print(\"b =\",b)\n",
        "a = numpy.array(a)\n",
        "b = numpy.array(b)\n",
        "print(\"array(a) =\",a)\n",
        "print(\"array(b) =\",b)\n",
        "print(\"a.T = \",a.transpose())\n",
        "print(\"b.T = \",b.transpose())"
      ],
      "metadata": {
        "colab": {
          "base_uri": "https://localhost:8080/"
        },
        "id": "Re28BZnBCXHk",
        "outputId": "80aba413-3626-4015-8321-d0a5c6dd483a"
      },
      "execution_count": 20,
      "outputs": [
        {
          "output_type": "stream",
          "name": "stdout",
          "text": [
            "a = [1, 2, 3, 4, 5]\n",
            "b = [[1], [2], [3], [4], [5]]\n",
            "array(a) = [1 2 3 4 5]\n",
            "array(b) = [[1]\n",
            " [2]\n",
            " [3]\n",
            " [4]\n",
            " [5]]\n",
            "a.T =  [1 2 3 4 5]\n",
            "b.T =  [[1 2 3 4 5]]\n"
          ]
        }
      ]
    },
    {
      "cell_type": "markdown",
      "source": [
        "Bài 10:\n",
        "- Thực hiện phép nhân vector với số nguyên\n",
        "- Thực hiện cộng hai vector"
      ],
      "metadata": {
        "id": "c8dzzWwKD7vj"
      }
    },
    {
      "cell_type": "code",
      "source": [
        "import random\n",
        "n = int(input(\"Số chiều của không gian \"))\n",
        "A = numpy.random.randint(0,100,size=(1,n))\n",
        "print(\"A =\",A)\n",
        "B = numpy.random.randint(0,100,size=(1,n))\n",
        "print(\"B =\",B)\n",
        "m = random.randint(0,5)\n",
        "print(\"m x A =\",m*A)\n",
        "print(\"A + B=\",A+B)"
      ],
      "metadata": {
        "colab": {
          "base_uri": "https://localhost:8080/"
        },
        "id": "rViA7T9eEGYw",
        "outputId": "50b6ae9e-ef92-4434-f73c-675d1e3c7f6a"
      },
      "execution_count": 21,
      "outputs": [
        {
          "output_type": "stream",
          "name": "stdout",
          "text": [
            "Số chiều của không gian 3\n",
            "A = [[78 58 11]]\n",
            "B = [[59 63 96]]\n",
            "m x A = [[312 232  44]]\n",
            "A + B= [[137 121 107]]\n"
          ]
        }
      ]
    }
  ]
}