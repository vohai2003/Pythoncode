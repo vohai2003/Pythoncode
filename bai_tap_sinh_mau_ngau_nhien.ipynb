{
  "cells": [
    {
      "cell_type": "markdown",
      "metadata": {
        "id": "view-in-github",
        "colab_type": "text"
      },
      "source": [
        "<a href=\"https://colab.research.google.com/github/vohai2003/Pythoncode/blob/main/bai_tap_sinh_mau_ngau_nhien.ipynb\" target=\"_parent\"><img src=\"https://colab.research.google.com/assets/colab-badge.svg\" alt=\"Open In Colab\"/></a>"
      ]
    },
    {
      "cell_type": "markdown",
      "metadata": {
        "id": "RfwQBS_5DaJR"
      },
      "source": [
        "Sử dụng thư viện Numpy\n",
        "\n",
        "1. Sinh mẫu ngẫu nhiên bằng hàm arange trong khoảng [-15, 27] với khoảng cách là 0.7 và in kết quả ra màn hình"
      ]
    },
    {
      "cell_type": "code",
      "execution_count": 1,
      "metadata": {
        "id": "C9yISbmfDaJa",
        "colab": {
          "base_uri": "https://localhost:8080/"
        },
        "outputId": "d1511b0b-b10e-4fdd-ca17-5a62f8fa7d1c"
      },
      "outputs": [
        {
          "output_type": "stream",
          "name": "stdout",
          "text": [
            "[-15.  -14.3 -13.6 -12.9 -12.2 -11.5 -10.8 -10.1  -9.4  -8.7  -8.   -7.3\n",
            "  -6.6  -5.9  -5.2  -4.5  -3.8  -3.1  -2.4  -1.7  -1.   -0.3   0.4   1.1\n",
            "   1.8   2.5   3.2   3.9   4.6   5.3   6.    6.7   7.4   8.1   8.8   9.5\n",
            "  10.2  10.9  11.6  12.3  13.   13.7  14.4  15.1  15.8  16.5  17.2  17.9\n",
            "  18.6  19.3  20.   20.7  21.4  22.1  22.8  23.5  24.2  24.9  25.6  26.3\n",
            "  27. ]\n"
          ]
        }
      ],
      "source": [
        "import numpy\n",
        "sample = numpy.arange(-15,27,0.7)\n",
        "print(sample)"
      ]
    },
    {
      "cell_type": "markdown",
      "metadata": {
        "id": "Bhsj9iVyDaJe"
      },
      "source": [
        "2. Sinh mẫu ngẫu nhiên theo phân phối chuẩn với mean = 2.7 std = 1.2 và size = 40\n",
        "In kết quả ra màn hình"
      ]
    },
    {
      "cell_type": "code",
      "execution_count": 2,
      "metadata": {
        "id": "kfwl89XcDaJf",
        "colab": {
          "base_uri": "https://localhost:8080/"
        },
        "outputId": "5a52048e-077b-4bc7-ec64-b5eb9bf038eb"
      },
      "outputs": [
        {
          "output_type": "stream",
          "name": "stdout",
          "text": [
            "[-0.26566998  4.83241765  2.83664916  4.13857164  5.73969521  3.04313943\n",
            "  0.38924288  4.1800214   3.41503666  4.51387472  3.04722067  1.55430947\n",
            "  2.47723291  2.039007    1.52141943  3.59098318  1.90844013  3.22990304\n",
            "  1.75405195  2.09381835  5.2248412   2.09750438  3.55650728  3.20690372\n",
            "  1.87246637  2.36086263  3.16790948  2.05260471  0.36284149  4.65375607\n",
            "  3.54835247  3.43786558  3.06333625  2.32823995  3.12042304  2.50057514\n",
            "  1.37950672  1.56317469  1.61081583  2.9686901 ]\n"
          ]
        }
      ],
      "source": [
        "sample = numpy.random.normal(loc=2.7,scale=1.2,size=40)\n",
        "print(sample)"
      ]
    },
    {
      "cell_type": "markdown",
      "metadata": {
        "id": "swF4amFgDaJg"
      },
      "source": [
        "3. Sinh mẫu ngẫu nhiên từ vector ['Viet Nam', 'Britain', 'France', 'Russia', 'Singapore'] \n",
        "\n",
        "với kích thước là 17 theo phân phối chuẩn"
      ]
    },
    {
      "cell_type": "code",
      "execution_count": 7,
      "metadata": {
        "id": "-yQ6kCJlDaJh",
        "colab": {
          "base_uri": "https://localhost:8080/"
        },
        "outputId": "67566a3a-153b-4e7a-82fa-bfba868ab002"
      },
      "outputs": [
        {
          "output_type": "stream",
          "name": "stdout",
          "text": [
            "['France', 'Britain', 'Russia', 'France', 'Singapore', 'Russia', 'Viet Nam', 'Russia', 'Russia', 'France', 'Singapore', 'Russia', 'Singapore', 'Russia', 'France', 'Viet Nam', 'France']\n"
          ]
        }
      ],
      "source": [
        "import random\n",
        "base = [\"Viet Nam\", \"Britain\", \"France\", \"Russia\", \"Singapore\"]\n",
        "sample = random.choices(base,k=17)\n",
        "print(sample)"
      ]
    },
    {
      "cell_type": "markdown",
      "metadata": {
        "id": "BR9ljNA6DaJi"
      },
      "source": [
        "4. Sinh mẫu ngẫu nhiên ở câu 3 nhưng không theo phân phối chuẩn mà theo 1 vector đặc tả giá trị xác suất do bạn chọn"
      ]
    },
    {
      "cell_type": "code",
      "execution_count": null,
      "metadata": {
        "id": "jSNWxZ4UDaJj"
      },
      "outputs": [],
      "source": [
        "#Code"
      ]
    },
    {
      "cell_type": "markdown",
      "metadata": {
        "id": "VPlxsqLeDaJk"
      },
      "source": [
        "Sử dụng thư việc scipy.stats để sinh mẫu ngẫu nhiên\n",
        "\n",
        "1. Sinh mẫu ngẫu nhiên theo phân phối chuẩn với mean = 12.7, std = 2.6 và size = 30. In kết quả ra màn hình"
      ]
    },
    {
      "cell_type": "code",
      "execution_count": 10,
      "metadata": {
        "id": "UsSvOpotDaJl",
        "colab": {
          "base_uri": "https://localhost:8080/"
        },
        "outputId": "a5430ce1-337d-44ad-9cbe-84e835296fce"
      },
      "outputs": [
        {
          "output_type": "stream",
          "name": "stdout",
          "text": [
            "[10.92474091 16.20781726 16.75877932 12.53808027  9.77733145 13.74660612\n",
            " 14.60714193 13.03951189 15.98629274 14.73218106  8.50336618 10.25524663\n",
            "  9.20703534  9.05303642  7.58038705 14.69130552  8.44113278 12.09528613\n",
            " 10.56827497 16.73654331 11.33374573 14.80354007 11.05592016 12.76851189\n",
            "  9.01773566  7.75147736 10.61791769 13.54901464 13.77323031 13.18774573]\n"
          ]
        }
      ],
      "source": [
        "import scipy.stats as st\n",
        "sample = st.norm.rvs(loc=12.7,scale=2.6,size=30)\n",
        "print(sample)"
      ]
    },
    {
      "cell_type": "markdown",
      "metadata": {
        "id": "LWZRiWipDaJm"
      },
      "source": [
        "2. Hãy sinh một mẫu ngẫu nhiên theo phân phối Poisson"
      ]
    },
    {
      "cell_type": "code",
      "execution_count": 13,
      "metadata": {
        "id": "v3wawA5eDaJn",
        "colab": {
          "base_uri": "https://localhost:8080/"
        },
        "outputId": "7aea17ab-f889-48a7-f553-7e689b982518"
      },
      "outputs": [
        {
          "output_type": "stream",
          "name": "stdout",
          "text": [
            "[15 16 14 15 18 17 14 13 15 12 12 15 15 13 14 18 14 13 12 16 13 14 16 14\n",
            " 14 20 15 12 16 17]\n"
          ]
        }
      ],
      "source": [
        "sample = st.poisson.rvs(2.6,loc=12.7,size=30)\n",
        "print(sample)"
      ]
    }
  ],
  "metadata": {
    "kernelspec": {
      "display_name": "Python 3",
      "language": "python",
      "name": "python3"
    },
    "language_info": {
      "codemirror_mode": {
        "name": "ipython",
        "version": 3
      },
      "file_extension": ".py",
      "mimetype": "text/x-python",
      "name": "python",
      "nbconvert_exporter": "python",
      "pygments_lexer": "ipython3",
      "version": "3.7.3"
    },
    "colab": {
      "name": "bai-tap-sinh-mau-ngau-nhien.ipynb",
      "provenance": [],
      "collapsed_sections": [],
      "include_colab_link": true
    }
  },
  "nbformat": 4,
  "nbformat_minor": 0
}