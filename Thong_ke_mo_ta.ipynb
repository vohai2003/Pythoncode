{
  "nbformat": 4,
  "nbformat_minor": 0,
  "metadata": {
    "colab": {
      "name": "Thong_ke_mo_ta",
      "provenance": [],
      "collapsed_sections": [],
      "authorship_tag": "ABX9TyM48by+jKZHx4+vrxXC/Srk",
      "include_colab_link": true
    },
    "kernelspec": {
      "name": "python3",
      "display_name": "Python 3"
    },
    "language_info": {
      "name": "python"
    }
  },
  "cells": [
    {
      "cell_type": "markdown",
      "metadata": {
        "id": "view-in-github",
        "colab_type": "text"
      },
      "source": [
        "<a href=\"https://colab.research.google.com/github/vohai2003/Pythoncode/blob/main/Thong_ke_mo_ta.ipynb\" target=\"_parent\"><img src=\"https://colab.research.google.com/assets/colab-badge.svg\" alt=\"Open In Colab\"/></a>"
      ]
    },
    {
      "cell_type": "markdown",
      "source": [
        "Đọc dữ liệu và load thư viện"
      ],
      "metadata": {
        "id": "yKikRSeDao7C"
      }
    },
    {
      "cell_type": "code",
      "execution_count": null,
      "metadata": {
        "colab": {
          "base_uri": "https://localhost:8080/"
        },
        "id": "T_8fqHmKlVjN",
        "outputId": "9d51f76e-f39b-4381-eb4d-83eca0c2975f"
      },
      "outputs": [
        {
          "output_type": "stream",
          "name": "stdout",
          "text": [
            "Mounted at /content/drive\n"
          ]
        }
      ],
      "source": [
        "from google.colab import drive\n",
        "drive.mount('/content/drive')\n",
        "path = \"/content/drive/My Drive/Dataset/\""
      ]
    },
    {
      "cell_type": "code",
      "source": [
        "import pandas\n",
        "import numpy\n",
        "import matplotlib.pyplot as plt"
      ],
      "metadata": {
        "id": "bVz8wz60nxn4"
      },
      "execution_count": null,
      "outputs": []
    },
    {
      "cell_type": "code",
      "source": [
        "df = pandas.read_csv(path+\"Inc_Exp_Data.csv\")"
      ],
      "metadata": {
        "id": "d9tYVtG4n2CR"
      },
      "execution_count": null,
      "outputs": []
    },
    {
      "cell_type": "code",
      "source": [
        "print(df.head(10))"
      ],
      "metadata": {
        "colab": {
          "base_uri": "https://localhost:8080/"
        },
        "id": "TH67aq5YoJMD",
        "outputId": "befcc9d2-d503-40bd-9e4a-0632e5245173"
      },
      "execution_count": null,
      "outputs": [
        {
          "output_type": "stream",
          "name": "stdout",
          "text": [
            "   Mthly_HH_Income  Mthly_HH_Expense  No_of_Fly_Members  Emi_or_Rent_Amt  \\\n",
            "0             5000              8000                  3             2000   \n",
            "1             6000              7000                  2             3000   \n",
            "2            10000              4500                  2                0   \n",
            "3            10000              2000                  1                0   \n",
            "4            12500             12000                  2             3000   \n",
            "5            14000              8000                  2                0   \n",
            "6            15000             16000                  3            35000   \n",
            "7            18000             20000                  5             8000   \n",
            "8            19000              9000                  2                0   \n",
            "9            20000              9000                  4                0   \n",
            "\n",
            "   Annual_HH_Income Highest_Qualified_Member  No_of_Earning_Members  \n",
            "0             64200           Under-Graduate                      1  \n",
            "1             79920               Illiterate                      1  \n",
            "2            112800           Under-Graduate                      1  \n",
            "3             97200               Illiterate                      1  \n",
            "4            147000                 Graduate                      1  \n",
            "5            196560                 Graduate                      1  \n",
            "6            167400            Post-Graduate                      1  \n",
            "7            216000                 Graduate                      1  \n",
            "8            218880           Under-Graduate                      1  \n",
            "9            220800           Under-Graduate                      2  \n"
          ]
        }
      ]
    },
    {
      "cell_type": "markdown",
      "source": [
        "Các cột dữ liệu định lượng: Mthly_HH_Income, Mthly_HH_Expense, Emi_or_Rent_Amt, Annual_HH_Income \\\n",
        "Các cột định tính: No_of_Fly_Members, Highest_Qualified_Member, No_of_Earning_Members"
      ],
      "metadata": {
        "id": "vjBmnQs1qCEl"
      }
    },
    {
      "cell_type": "markdown",
      "source": [
        "Tạo bảng phân bố tần số cho dữ liệu định tính"
      ],
      "metadata": {
        "id": "6OhF1gdzrkjw"
      }
    },
    {
      "cell_type": "code",
      "source": [
        "fTable_Fly_mem = df['No_of_Fly_Members'].value_counts(sort=False).sort_index()\n",
        "fTable_Qualified_Member = df['Highest_Qualified_Member'].value_counts().sort_index()\n",
        "fTable_Earning_Members = df['No_of_Earning_Members'].value_counts(sort=False).sort_index()"
      ],
      "metadata": {
        "id": "NA6UJdX9rj9o"
      },
      "execution_count": null,
      "outputs": []
    },
    {
      "cell_type": "markdown",
      "source": [
        "Phân tích dữ liệu định lượng"
      ],
      "metadata": {
        "id": "LH26fyze2x4k"
      }
    },
    {
      "cell_type": "code",
      "source": [
        "truncate_data = df[['Mthly_HH_Income',\"Mthly_HH_Expense\",\"Emi_or_Rent_Amt\",\"Annual_HH_Income\"]]\n",
        "summary = truncate_data.agg([\"max\",\"min\",\"mean\",\"median\",\"var\",\"std\"])\n",
        "summary"
      ],
      "metadata": {
        "colab": {
          "base_uri": "https://localhost:8080/",
          "height": 236
        },
        "id": "iLe2HbwJ25cq",
        "outputId": "36a6b010-a059-4b1b-b56b-e56e9c978a4c"
      },
      "execution_count": null,
      "outputs": [
        {
          "output_type": "execute_result",
          "data": {
            "text/plain": [
              "        Mthly_HH_Income  Mthly_HH_Expense  Emi_or_Rent_Amt  Annual_HH_Income\n",
              "max        1.000000e+05      5.000000e+04     3.500000e+04      1.404000e+06\n",
              "min        5.000000e+03      2.000000e+03     0.000000e+00      6.420000e+04\n",
              "mean       4.155800e+04      1.881800e+04     3.060000e+03      4.900190e+05\n",
              "median     3.500000e+04      1.550000e+04     0.000000e+00      4.474200e+05\n",
              "var        6.811009e+08      1.461733e+08     3.895551e+07      1.024869e+11\n",
              "std        2.609791e+04      1.209022e+04     6.241435e+03      3.201358e+05"
            ],
            "text/html": [
              "\n",
              "  <div id=\"df-3d431495-9136-4e5c-80ac-026c66a0114d\">\n",
              "    <div class=\"colab-df-container\">\n",
              "      <div>\n",
              "<style scoped>\n",
              "    .dataframe tbody tr th:only-of-type {\n",
              "        vertical-align: middle;\n",
              "    }\n",
              "\n",
              "    .dataframe tbody tr th {\n",
              "        vertical-align: top;\n",
              "    }\n",
              "\n",
              "    .dataframe thead th {\n",
              "        text-align: right;\n",
              "    }\n",
              "</style>\n",
              "<table border=\"1\" class=\"dataframe\">\n",
              "  <thead>\n",
              "    <tr style=\"text-align: right;\">\n",
              "      <th></th>\n",
              "      <th>Mthly_HH_Income</th>\n",
              "      <th>Mthly_HH_Expense</th>\n",
              "      <th>Emi_or_Rent_Amt</th>\n",
              "      <th>Annual_HH_Income</th>\n",
              "    </tr>\n",
              "  </thead>\n",
              "  <tbody>\n",
              "    <tr>\n",
              "      <th>max</th>\n",
              "      <td>1.000000e+05</td>\n",
              "      <td>5.000000e+04</td>\n",
              "      <td>3.500000e+04</td>\n",
              "      <td>1.404000e+06</td>\n",
              "    </tr>\n",
              "    <tr>\n",
              "      <th>min</th>\n",
              "      <td>5.000000e+03</td>\n",
              "      <td>2.000000e+03</td>\n",
              "      <td>0.000000e+00</td>\n",
              "      <td>6.420000e+04</td>\n",
              "    </tr>\n",
              "    <tr>\n",
              "      <th>mean</th>\n",
              "      <td>4.155800e+04</td>\n",
              "      <td>1.881800e+04</td>\n",
              "      <td>3.060000e+03</td>\n",
              "      <td>4.900190e+05</td>\n",
              "    </tr>\n",
              "    <tr>\n",
              "      <th>median</th>\n",
              "      <td>3.500000e+04</td>\n",
              "      <td>1.550000e+04</td>\n",
              "      <td>0.000000e+00</td>\n",
              "      <td>4.474200e+05</td>\n",
              "    </tr>\n",
              "    <tr>\n",
              "      <th>var</th>\n",
              "      <td>6.811009e+08</td>\n",
              "      <td>1.461733e+08</td>\n",
              "      <td>3.895551e+07</td>\n",
              "      <td>1.024869e+11</td>\n",
              "    </tr>\n",
              "    <tr>\n",
              "      <th>std</th>\n",
              "      <td>2.609791e+04</td>\n",
              "      <td>1.209022e+04</td>\n",
              "      <td>6.241435e+03</td>\n",
              "      <td>3.201358e+05</td>\n",
              "    </tr>\n",
              "  </tbody>\n",
              "</table>\n",
              "</div>\n",
              "      <button class=\"colab-df-convert\" onclick=\"convertToInteractive('df-3d431495-9136-4e5c-80ac-026c66a0114d')\"\n",
              "              title=\"Convert this dataframe to an interactive table.\"\n",
              "              style=\"display:none;\">\n",
              "        \n",
              "  <svg xmlns=\"http://www.w3.org/2000/svg\" height=\"24px\"viewBox=\"0 0 24 24\"\n",
              "       width=\"24px\">\n",
              "    <path d=\"M0 0h24v24H0V0z\" fill=\"none\"/>\n",
              "    <path d=\"M18.56 5.44l.94 2.06.94-2.06 2.06-.94-2.06-.94-.94-2.06-.94 2.06-2.06.94zm-11 1L8.5 8.5l.94-2.06 2.06-.94-2.06-.94L8.5 2.5l-.94 2.06-2.06.94zm10 10l.94 2.06.94-2.06 2.06-.94-2.06-.94-.94-2.06-.94 2.06-2.06.94z\"/><path d=\"M17.41 7.96l-1.37-1.37c-.4-.4-.92-.59-1.43-.59-.52 0-1.04.2-1.43.59L10.3 9.45l-7.72 7.72c-.78.78-.78 2.05 0 2.83L4 21.41c.39.39.9.59 1.41.59.51 0 1.02-.2 1.41-.59l7.78-7.78 2.81-2.81c.8-.78.8-2.07 0-2.86zM5.41 20L4 18.59l7.72-7.72 1.47 1.35L5.41 20z\"/>\n",
              "  </svg>\n",
              "      </button>\n",
              "      \n",
              "  <style>\n",
              "    .colab-df-container {\n",
              "      display:flex;\n",
              "      flex-wrap:wrap;\n",
              "      gap: 12px;\n",
              "    }\n",
              "\n",
              "    .colab-df-convert {\n",
              "      background-color: #E8F0FE;\n",
              "      border: none;\n",
              "      border-radius: 50%;\n",
              "      cursor: pointer;\n",
              "      display: none;\n",
              "      fill: #1967D2;\n",
              "      height: 32px;\n",
              "      padding: 0 0 0 0;\n",
              "      width: 32px;\n",
              "    }\n",
              "\n",
              "    .colab-df-convert:hover {\n",
              "      background-color: #E2EBFA;\n",
              "      box-shadow: 0px 1px 2px rgba(60, 64, 67, 0.3), 0px 1px 3px 1px rgba(60, 64, 67, 0.15);\n",
              "      fill: #174EA6;\n",
              "    }\n",
              "\n",
              "    [theme=dark] .colab-df-convert {\n",
              "      background-color: #3B4455;\n",
              "      fill: #D2E3FC;\n",
              "    }\n",
              "\n",
              "    [theme=dark] .colab-df-convert:hover {\n",
              "      background-color: #434B5C;\n",
              "      box-shadow: 0px 1px 3px 1px rgba(0, 0, 0, 0.15);\n",
              "      filter: drop-shadow(0px 1px 2px rgba(0, 0, 0, 0.3));\n",
              "      fill: #FFFFFF;\n",
              "    }\n",
              "  </style>\n",
              "\n",
              "      <script>\n",
              "        const buttonEl =\n",
              "          document.querySelector('#df-3d431495-9136-4e5c-80ac-026c66a0114d button.colab-df-convert');\n",
              "        buttonEl.style.display =\n",
              "          google.colab.kernel.accessAllowed ? 'block' : 'none';\n",
              "\n",
              "        async function convertToInteractive(key) {\n",
              "          const element = document.querySelector('#df-3d431495-9136-4e5c-80ac-026c66a0114d');\n",
              "          const dataTable =\n",
              "            await google.colab.kernel.invokeFunction('convertToInteractive',\n",
              "                                                     [key], {});\n",
              "          if (!dataTable) return;\n",
              "\n",
              "          const docLinkHtml = 'Like what you see? Visit the ' +\n",
              "            '<a target=\"_blank\" href=https://colab.research.google.com/notebooks/data_table.ipynb>data table notebook</a>'\n",
              "            + ' to learn more about interactive tables.';\n",
              "          element.innerHTML = '';\n",
              "          dataTable['output_type'] = 'display_data';\n",
              "          await google.colab.output.renderOutput(dataTable, element);\n",
              "          const docLink = document.createElement('div');\n",
              "          docLink.innerHTML = docLinkHtml;\n",
              "          element.appendChild(docLink);\n",
              "        }\n",
              "      </script>\n",
              "    </div>\n",
              "  </div>\n",
              "  "
            ]
          },
          "metadata": {},
          "execution_count": 30
        }
      ]
    },
    {
      "cell_type": "markdown",
      "source": [
        "Phân tích dữ liệu định tính"
      ],
      "metadata": {
        "id": "ymO_fGDvK09w"
      }
    },
    {
      "cell_type": "code",
      "source": [
        "fig, axs = plt.subplots(3)\n",
        "fig.set_figheight(15)\n",
        "fig.set_figwidth(15)\n",
        "axs[0].bar(fTable_Fly_mem.index.values.tolist(),fTable_Fly_mem)\n",
        "axs[1].bar(fTable_Earning_Members.index.values.tolist(),fTable_Earning_Members)\n",
        "axs[2].bar(fTable_Qualified_Member.index.values.tolist(),fTable_Qualified_Member)"
      ],
      "metadata": {
        "id": "Uu-hm-5DK3ja",
        "colab": {
          "base_uri": "https://localhost:8080/",
          "height": 880
        },
        "outputId": "643232fe-c389-4435-a7bf-36a37214f345"
      },
      "execution_count": null,
      "outputs": [
        {
          "output_type": "execute_result",
          "data": {
            "text/plain": [
              "<BarContainer object of 5 artists>"
            ]
          },
          "metadata": {},
          "execution_count": 29
        },
        {
          "output_type": "display_data",
          "data": {
            "text/plain": [
              "<Figure size 1080x1080 with 3 Axes>"
            ],
            "image/png": "[encoded data removed]"
          },
          "metadata": {
            "needs_background": "light"
          }
        }
      ]
    }
  ]
}