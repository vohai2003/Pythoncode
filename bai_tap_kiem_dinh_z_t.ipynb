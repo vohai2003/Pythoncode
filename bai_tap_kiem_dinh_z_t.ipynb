{
  "cells": [
    {
      "cell_type": "markdown",
      "metadata": {
        "id": "view-in-github",
        "colab_type": "text"
      },
      "source": [
        "<a href=\"https://colab.research.google.com/github/vohai2003/Pythoncode/blob/main/bai_tap_kiem_dinh_z_t.ipynb\" target=\"_parent\"><img src=\"https://colab.research.google.com/assets/colab-badge.svg\" alt=\"Open In Colab\"/></a>"
      ]
    },
    {
      "cell_type": "markdown",
      "metadata": {
        "id": "3IBmjtBFPOrQ"
      },
      "source": [
        "XÂY DỰNG CHƯƠNG TRÌNH KIỂM ĐỊNH Z (HOẶC T) CHO CÁC BÀI TẬP SAU\n",
        "\n",
        "Gợi ý:\n",
        "\n",
        "- Số liệu được sinh ngẫu nhiên theo phân phối chuẩn\n",
        "- Sử dụng gói phần mềm statsmodels để tiến hành kiểm định\n",
        "- Đối với các bài tập kiểm định giả thuyết thì sinh viên cần phát biểu các giả thuyết (bằng tiếng Việt) $H_{0}$ và $H_{a}$ trước khi lập trình kiểm định"
      ]
    },
    {
      "cell_type": "markdown",
      "metadata": {
        "id": "GIh3FCC2POra"
      },
      "source": [
        "Bài 1: You’re a Q/C inspector for Gallo. The sample standard deviation for 2-liter bottles is .05 liters.  A random sample of 100 bottles showed sasmple mean = 1.99 liters.  What is the 90%  confidence interval estimate of the true mean amount in 2-liter bottles? \\\n",
        "Bạn là nhân viên quản lý chất lượng củ Gallo. Độ lệch chuẩn của chai 2 lít là 0.05 lít. Một mẫu ngẫu nhiên 100 chai nước có trung bình là 1.99 lít. Khoảng tin cậy 90% của trung bình dung tích của chai 2 lít này là bao nhiêu?"
      ]
    },
    {
      "cell_type": "code",
      "source": [
        "!pip install --upgrade scipy\n",
        "import numpy\n",
        "import scipy.stats as st\n",
        "import random\n",
        "import statsmodels.stats.weightstats as stm"
      ],
      "metadata": {
        "colab": {
          "base_uri": "https://localhost:8080/"
        },
        "id": "zoohGxpoSUiR",
        "outputId": "44e7d737-f5b9-4c35-f9e6-5119083fe83c"
      },
      "execution_count": 2,
      "outputs": [
        {
          "output_type": "stream",
          "name": "stdout",
          "text": [
            "Requirement already satisfied: scipy in /usr/local/lib/python3.7/dist-packages (1.7.3)\n",
            "Requirement already satisfied: numpy<1.23.0,>=1.16.5 in /usr/local/lib/python3.7/dist-packages (from scipy) (1.21.5)\n"
          ]
        },
        {
          "output_type": "stream",
          "name": "stderr",
          "text": [
            "/usr/local/lib/python3.7/dist-packages/statsmodels/tools/_testing.py:19: FutureWarning: pandas.util.testing is deprecated. Use the functions in the public API at pandas.testing instead.\n",
            "  import pandas.util.testing as tm\n"
          ]
        }
      ]
    },
    {
      "cell_type": "code",
      "execution_count": null,
      "metadata": {
        "id": "_v5MZctgPOrb",
        "colab": {
          "base_uri": "https://localhost:8080/"
        },
        "outputId": "de0992af-36c7-4ec1-c49b-4573978861ef"
      },
      "outputs": [
        {
          "output_type": "stream",
          "name": "stdout",
          "text": [
            "Khoảng tin cậy 90% của trung bình dung tích chai: (1.9177573186524264, 2.082242681347574)\n"
          ]
        }
      ],
      "source": [
        "interval = st.norm.interval(loc=2.0,scale=0.05,alpha=0.90)\n",
        "print(\"Khoảng tin cậy 90% của trung bình dung tích chai:\",interval)"
      ]
    },
    {
      "cell_type": "markdown",
      "metadata": {
        "id": "VBn9veVCPOre"
      },
      "source": [
        "Bài 2: You’re a time study analyst in manufacturing.  You’ve recorded the following task times (min.): 3.6, 4.2, 4.0, 3.5, 3.8, 3.1. What is the 90% confidence interval estimate of the population mean task time? \\\n",
        "Bạn đang thực hiện một phân tích về thời gian chế tạo. Bạn đã ghi nhận các khoảng thời gian sau (phút): 3.6, 4.2, 4.0, 3.5, 3.8, 3.1. Khoảng tin cậy 90% của trung bình thời gian chế tạo là bao nhiêu?"
      ]
    },
    {
      "cell_type": "code",
      "execution_count": null,
      "metadata": {
        "id": "eVDCa0qMPOre",
        "colab": {
          "base_uri": "https://localhost:8080/"
        },
        "outputId": "0ca9072d-47be-4921-8b9e-e71c19594bb9"
      },
      "outputs": [
        {
          "output_type": "stream",
          "name": "stdout",
          "text": [
            "Khoảng tin cậy 90% của thời gian chế tạo: (3.3792758632100677, 4.020724136789934)\n"
          ]
        }
      ],
      "source": [
        "sample = [3.6, 4.2, 4.0, 3.5, 3.8, 3.1]\n",
        "interval = st.t.interval(alpha=0.90,df=len(sample)-1,loc=numpy.mean(sample),scale=st.sem(sample))\n",
        "print(\"Khoảng tin cậy 90% của thời gian chế tạo:\",interval)"
      ]
    },
    {
      "cell_type": "markdown",
      "metadata": {
        "id": "1TEyLnETPOrf"
      },
      "source": [
        "Bài 3: Does an average box of cereal contain 368 grams of cereal?  A random sample of 25 boxes had $\\overline{\\rm x}$ = 372.5.  The company has specified $\\sigma$ to be 25 grams.  Test at the .05 level of significance. \\\n",
        "Liệu một hộp ngũ cốc trung bình chứa 368 gam ngũ cốc? Một mẫu ngẫu nhiên 25 hộp có $\\overline{\\rm x}$ = 372.5. Công ti đã ấn định σ = 25g. Kiểm định với α = 0.05."
      ]
    },
    {
      "cell_type": "markdown",
      "source": [
        "Mẫu này có tập mẫu dưới 30 ⇒ Sử dụng kiểm định t\\\n",
        "Xây dựng giả thiết:\\\n",
        "$H_0: \\overline{x} = 368$ \\\n",
        "$H_a: \\overline{x} ≠ 368 $\n"
      ],
      "metadata": {
        "id": "7cB3diTJaLvc"
      }
    },
    {
      "cell_type": "code",
      "execution_count": 10,
      "metadata": {
        "id": "U4_tYRUSPOrg",
        "colab": {
          "base_uri": "https://localhost:8080/"
        },
        "outputId": "816b890c-bd31-4988-d115-0f19d9c01cee"
      },
      "outputs": [
        {
          "output_type": "stream",
          "name": "stdout",
          "text": [
            "p-value= 1.8756849903227884e-30\n",
            "Có bằng chứng bác bỏ giả thuyết H0\n"
          ]
        }
      ],
      "source": [
        "alpha = 0.05\n",
        "sample = numpy.random.normal(loc=372.5,scale=25,size=25)\n",
        "TS, p_value = st.ttest_1samp(a=sample,popmean=alpha)\n",
        "print(\"p-value=\",p_value)\n",
        "if p_value < alpha:\n",
        "  print(\"Có bằng chứng bác bỏ giả thuyết H0\")\n",
        "else:\n",
        "  print(\"Chưa có bằng chứng bác bỏ giả thuyết H0\")"
      ]
    },
    {
      "cell_type": "markdown",
      "metadata": {
        "id": "mNIaFZ6jPOrh"
      },
      "source": [
        "Bài 4: You’re a Q/C inspector.  You want to find out if a new machine is making electrical cords to customer specification: average breaking strength of 70 lb. with $\\sigma$ = 3.5 lb.  You take a sample of 36 cords & compute a sample mean of 69.7 lb.  At the .05 level of significance, is there evidence that the machine is not meeting the average breaking strength? \\\n",
        "Bạn là một quản lý chất lượng. Bạn muốn kiểm tra xem liệu một máy có làm ra dây điện theo yêu càu của khách hàng hay không: lực kéo đứt trung bình là 70 lb. với $\\sigma$ = 3.5 lb. Bạn lấy mẫu 36 dây và tính được trung bình lực kéo đứt là 69.7 lb. Với mức độ tin cậy 0.05, có bằng chứng nào cho thấy sản phẩm của máy không đạt mức trung bình?"
      ]
    },
    {
      "cell_type": "markdown",
      "source": [
        "Mẫu này có tập mẫu lớn hơn 30 -> dùng kiểm định z\\\n",
        "Xây dựng giả thuyết:\\\n",
        "$ H_0: \\overline{x} = 70 $ \\\n",
        "$ \n",
        "H_a: \\overline{x} < 70\n",
        "$"
      ],
      "metadata": {
        "id": "oN4B9FxfCm8b"
      }
    },
    {
      "cell_type": "code",
      "execution_count": null,
      "metadata": {
        "id": "344qtz_WPOri",
        "colab": {
          "base_uri": "https://localhost:8080/"
        },
        "outputId": "43afab7b-9754-4749-fc7d-49aca23a5644"
      },
      "outputs": [
        {
          "output_type": "stream",
          "name": "stdout",
          "text": [
            "p-value= 0.6375966796118538\n",
            "Chưa có bằng chứng bác bỏ giả thuyết H0\n"
          ]
        }
      ],
      "source": [
        "alpha = 0.05\n",
        "#Sinh mẫu ngẫu nhiên\n",
        "sample = numpy.random.normal(loc=69.7,scale=3.5,size=36)\n",
        "TS, p_value = stm.ztest(sample,value=70)\n",
        "print(\"p-value=\",p_value)\n",
        "if p_value < 0.05:\n",
        "  print(\"Có bằng chứng bác bỏ giả thuyết H0\")\n",
        "else:\n",
        "  print(\"Chưa có bằng chứng bác bỏ giả thuyết H0\")"
      ]
    },
    {
      "cell_type": "markdown",
      "metadata": {
        "id": "wdSMuxgFPOrk"
      },
      "source": [
        "Bài 5: You’re an analyst for Ford.  You want to find out if the average miles per gallon of Escorts is at least 32 mpg. Similar models have a standard deviation of 3.8 mpg. You take a sample of 60 Escort & compute a sample mean of 30.7 mpg. At the .01 level of significance, is there evidence that the miles per gallon is less than 32?\\\n",
        "Bạn là nhà phân tích của hãng Ford. Bạn muốn kiểm tra xem liệu mức tiêu tốn nhiên liệu của Ford Escort là 32 mpg (32 dặm/gallon). Các mẫu tương tự có sai số chuẩn là 3,8mpg. Lấy mẫu 60 xe Escort và tính được trung bình tiêu hao là 30,7 mpg. Với α = 0,01, liệu có bằng chứng nào cho thấy mức tiêu hao dưới 32 mpg?"
      ]
    },
    {
      "cell_type": "markdown",
      "source": [
        "Mẫu này có tập mẫu lớn hơn 30 -> dùng kiểm định z \\\n",
        "Xây dựng giả thuyết: \\\n",
        "$H_0: \\overline{x} = 32$ \\\n",
        "$H_a: \\overline{x} < 32$"
      ],
      "metadata": {
        "id": "YDtVhHbC5py1"
      }
    },
    {
      "cell_type": "code",
      "execution_count": 5,
      "metadata": {
        "id": "KrMdGRx9POrl",
        "colab": {
          "base_uri": "https://localhost:8080/"
        },
        "outputId": "89a82614-e568-4fa3-8072-b63be5cccd3c"
      },
      "outputs": [
        {
          "output_type": "stream",
          "name": "stdout",
          "text": [
            "p-value= 0.001161574375497894\n",
            "Có bằng chứng bác bỏ giả thuyết H0\n"
          ]
        }
      ],
      "source": [
        "alpha = 0.01\n",
        "#Sinh mẫu ngẫu nhiên\n",
        "sample = numpy.random.normal(loc=30.7,scale=3.8,size=60)\n",
        "TS, p_value = stm.ztest(sample,value=32)\n",
        "print(\"p-value=\",p_value)\n",
        "if p_value < alpha:\n",
        "  print(\"Có bằng chứng bác bỏ giả thuyết H0\")\n",
        "else:\n",
        "  print(\"Chưa có bằng chứng bác bỏ giả thuyết H0\")"
      ]
    },
    {
      "cell_type": "markdown",
      "metadata": {
        "id": "ASAmsRjmPOrq"
      },
      "source": [
        "Bài 6: You work for the FTC.  A manufacturer of detergent claims that the mean weight of detergent is 3.25 lb.  You take a random sample of 64 containers.  You calculate the sample average to be 3.238 lb. with a standard deviation of .117 lb.  At the .01 level of significance, is the manufacturer correct? \\\n",
        "Bạn làm việc cho FTC. Một nhà sản xuất chất tẩy cho rằng trọng lượng trung bình của chất tẩy là 3,25 lb. Bạn lấy ngẫu nhiên 64 hộp. Bạn tính được trọng lượng trung bình là 3,228 lb với độ lệch chuẩn 0,117 lb. Với α = 0,01, nhà sản xuất có nói đúng không?"
      ]
    },
    {
      "cell_type": "markdown",
      "source": [
        "Mẫu này có tập mẫu lớn hơn 30 -> dùng kiểm định z \\\n",
        "Xây dựng giả thuyết: \\\n",
        "$H_0: \\overline{x} = 3.25$ \\\n",
        "$H_a: \\overline{x} < 3.25$"
      ],
      "metadata": {
        "id": "N-O9zn4t7_ta"
      }
    },
    {
      "cell_type": "code",
      "execution_count": 15,
      "metadata": {
        "id": "g42Pz35EPOrq",
        "colab": {
          "base_uri": "https://localhost:8080/"
        },
        "outputId": "ab7e4414-acc7-4c7e-bf8a-b01eb9bcb0c3"
      },
      "outputs": [
        {
          "output_type": "stream",
          "name": "stdout",
          "text": [
            "p-value= 0.0008911274919722358\n",
            "Có bằng chứng bác bỏ giả thuyết H0\n"
          ]
        }
      ],
      "source": [
        "alpha = 0.01\n",
        "#Sinh mẫu ngẫu nhiên\n",
        "sample = numpy.random.normal(loc=3.228,scale=0.117,size=64)\n",
        "TS, p_value = stm.ztest(sample,value=3.25)\n",
        "print(\"p-value=\",p_value)\n",
        "if p_value < alpha:\n",
        "  print(\"Có bằng chứng bác bỏ giả thuyết H0\")\n",
        "else:\n",
        "  print(\"Chưa có bằng chứng bác bỏ giả thuyết H0\")"
      ]
    },
    {
      "cell_type": "markdown",
      "metadata": {
        "id": "GggCwoGyPOrr"
      },
      "source": [
        "Bài 7: Is the average capacity of batteries less than 140 ampere-hours?  A random sample of 20 batteries had a mean of 138.47 and a standard deviation of 2.66.  Assume a normal distribution. Test at the .05 level of significance. \\\n",
        "Liệu dung lượng trung bình của ắc quy thấp hơn 140 ampe/giờ (Ah)? Một mẫu 20 ắc quy có giá trị trung bình là 138,47 và độ lệch chuẩn 2,66. Xem như mẫu phân phối chuẩn. Kiểm định với α = 0.05"
      ]
    },
    {
      "cell_type": "markdown",
      "source": [
        "Mẫu này có tập mẫu dưới 30 ⇒ Sử dụng kiểm định t\\\n",
        "Xây dựng giả thiết:\\\n",
        "$H_0: \\overline{x} = 140$ \\\n",
        "$H_a: \\overline{x} < 140 $\n"
      ],
      "metadata": {
        "id": "Ip8G1jkBADEy"
      }
    },
    {
      "cell_type": "code",
      "execution_count": 5,
      "metadata": {
        "id": "cMwbHPvGPOrr",
        "colab": {
          "base_uri": "https://localhost:8080/"
        },
        "outputId": "315fe07f-7944-47ac-a125-05e6f6868eba"
      },
      "outputs": [
        {
          "output_type": "stream",
          "name": "stdout",
          "text": [
            "p-value= 3.91836276630048e-35\n",
            "Có bằng chứng bác bỏ giả thuyết H0\n"
          ]
        }
      ],
      "source": [
        "alpha = 0.05\n",
        "sample = numpy.random.normal(loc=138.47,scale=2.66,size=20)\n",
        "TS, p_value = st.ttest_1samp(a=sample,popmean=alpha,alternative=\"greater\")\n",
        "print(\"p-value=\",p_value)\n",
        "if p_value < alpha:\n",
        "  print(\"Có bằng chứng bác bỏ giả thuyết H0\")\n",
        "else:\n",
        "  print(\"Chưa có bằng chứng bác bỏ giả thuyết H0\")"
      ]
    },
    {
      "cell_type": "markdown",
      "metadata": {
        "id": "py7BSMsCPOrr"
      },
      "source": [
        "Bài 8: You’re a marketing analyst for Wal-Mart.  Wal-Mart had teddy bears on sale last week.  The weekly sales of bears sold in 10 stores was: 8  11  0   4   7   8   10   5   8   3. At the .05 level of significance, is there evidence that the average bear sales per store is more than 5? \\\n",
        "Bạn là nhà phân tích marketing cho Wal-Mart. Wal-Mart có bán gấu bông tuần trước. Doanh số ở 10 cửa hàng là: 8 11 0 4 7 8 10 5 8 3. Với α = 0.05, có bằng chứng nào cho thấy doanh số bán trung bình trên 5 hay không?"
      ]
    },
    {
      "cell_type": "markdown",
      "source": [
        "Mẫu này có tập mẫu dưới 30 ⇒ Sử dụng kiểm định t\\\n",
        "Xây dựng giả thiết:\\\n",
        "$H_0: \\overline{x} = 5$ \\\n",
        "$H_a: \\overline{x} < 5 $\n"
      ],
      "metadata": {
        "id": "HBhLRbOgDSkR"
      }
    },
    {
      "cell_type": "code",
      "execution_count": 6,
      "metadata": {
        "id": "zIhz6iy6POrs",
        "colab": {
          "base_uri": "https://localhost:8080/"
        },
        "outputId": "6eb26ad6-5c5c-49b0-dd88-ceaf29d1f839"
      },
      "outputs": [
        {
          "output_type": "stream",
          "name": "stdout",
          "text": [
            "p-value= 0.00010725622357981154\n",
            "Có bằng chứng bác bỏ giả thuyết H0\n"
          ]
        }
      ],
      "source": [
        "alpha = 0.05\n",
        "sample = [8,11,0,4,7,8,10,5,8,3]\n",
        "TS, p_value = st.ttest_1samp(a=sample,popmean=alpha,alternative=\"greater\")\n",
        "print(\"p-value=\",p_value)\n",
        "if p_value < alpha:\n",
        "  print(\"Có bằng chứng bác bỏ giả thuyết H0\")\n",
        "else:\n",
        "  print(\"Chưa có bằng chứng bác bỏ giả thuyết H0\")"
      ]
    }
  ],
  "metadata": {
    "kernelspec": {
      "display_name": "Python 3",
      "language": "python",
      "name": "python3"
    },
    "language_info": {
      "codemirror_mode": {
        "name": "ipython",
        "version": 3
      },
      "file_extension": ".py",
      "mimetype": "text/x-python",
      "name": "python",
      "nbconvert_exporter": "python",
      "pygments_lexer": "ipython3",
      "version": "3.7.3"
    },
    "colab": {
      "name": "bai-tap-kiem-dinh-z-t.ipynb",
      "provenance": [],
      "collapsed_sections": [],
      "include_colab_link": true
    }
  },
  "nbformat": 4,
  "nbformat_minor": 0
}
