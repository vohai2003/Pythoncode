{
  "nbformat": 4,
  "nbformat_minor": 0,
  "metadata": {
    "colab": {
      "provenance": [],
      "collapsed_sections": [],
      "authorship_tag": "ABX9TyP1GusJ0eS1zYoeOizRVSJJ",
      "include_colab_link": true
    },
    "kernelspec": {
      "name": "python3",
      "display_name": "Python 3"
    },
    "language_info": {
      "name": "python"
    }
  },
  "cells": [
    {
      "cell_type": "markdown",
      "metadata": {
        "id": "view-in-github",
        "colab_type": "text"
      },
      "source": [
        "<a href=\"https://colab.research.google.com/github/vohai2003/Pythoncode/blob/main/BT2_Metrics.ipynb\" target=\"_parent\"><img src=\"https://colab.research.google.com/assets/colab-badge.svg\" alt=\"Open In Colab\"/></a>"
      ]
    },
    {
      "cell_type": "code",
      "execution_count": null,
      "metadata": {
        "id": "T9Wa76LEOokV",
        "colab": {
          "base_uri": "https://localhost:8080/"
        },
        "outputId": "c4e10284-c9ed-4ac3-b9b2-5ff3b4bb42dd"
      },
      "outputs": [
        {
          "output_type": "stream",
          "name": "stdout",
          "text": [
            "Mounted at /mnt\n"
          ]
        }
      ],
      "source": [
        "from google.colab import drive\n",
        "drive.mount(\"/mnt\")"
      ]
    },
    {
      "cell_type": "code",
      "source": [
        "import numpy\n",
        "from sklearn.model_selection import train_test_split\n",
        "import sklearn.metrics\n",
        "from sklearn.linear_model import LinearRegression"
      ],
      "metadata": {
        "id": "q6V1ERoWO4V0"
      },
      "execution_count": null,
      "outputs": []
    },
    {
      "cell_type": "code",
      "source": [
        "D = numpy.genfromtxt(\"/mnt/My Drive/Dataset/ex1data2.txt\",delimiter=\",\")\n",
        "X,y = D[:,:-1], D[:,-1]\n",
        "X_train,X_test,y_train,y_test = train_test_split(X,y,test_size=30)"
      ],
      "metadata": {
        "id": "ez_W6IrfO6sJ"
      },
      "execution_count": null,
      "outputs": []
    },
    {
      "cell_type": "code",
      "source": [
        "model = LinearRegression()\n",
        "model.fit(X_train,y_train)\n",
        "yhat = model.predict(X_test)\n",
        "print(yhat)"
      ],
      "metadata": {
        "colab": {
          "base_uri": "https://localhost:8080/"
        },
        "id": "zOB_xFk-5BFK",
        "outputId": "6215bbc6-21ae-4b37-85c8-81502cd7a980"
      },
      "execution_count": null,
      "outputs": [
        {
          "output_type": "stream",
          "name": "stdout",
          "text": [
            "[453651.27874302 356564.84416091 548205.94935618 297064.72594805\n",
            " 158706.26358504 229528.08858613 323936.83685272 390865.97289099\n",
            " 260669.60028874 314121.97740493 300309.21011749 217473.30986254\n",
            " 317010.10147413 376927.63499184 214941.54589359 242818.22169189\n",
            " 260649.24855387 281619.54070845 448356.96131658 197863.94270184\n",
            " 444464.27235375 310877.4932355  395366.16317747 282644.45733695\n",
            " 361105.73791712 252361.5881814  238925.53272907 339236.09974575\n",
            " 335991.61557631 597032.56557419]\n"
          ]
        }
      ]
    },
    {
      "cell_type": "code",
      "source": [
        "mse = numpy.mean(numpy.square(y_test-yhat))\n",
        "mae = numpy.mean(numpy.absolute(y_test-yhat))\n",
        "msle = numpy.mean(numpy.square(numpy.log(y_test+1) - numpy.log(yhat+1)))\n",
        "mape = numpy.mean(numpy.divide(numpy.absolute(y_test-yhat),y_test))\n",
        "R2 = 1-(numpy.sum(numpy.square(y_test-yhat)))/(numpy.sum(numpy.square(y_test - y_test.mean())))"
      ],
      "metadata": {
        "id": "vlrbp-949fOS"
      },
      "execution_count": 27,
      "outputs": []
    },
    {
      "cell_type": "code",
      "source": [
        "mse = sklearn.metrics.mean_squared_error(y_test,yhat)\n",
        "R2 = sklearn.metrics.r2_score(y_test,yhat)\n",
        "mae = sklearn.metrics.mean_absolute_error(y_test,yhat)\n",
        "msle = sklearn.metrics.mean_squared_log_error(y_test,yhat)\n",
        "mape = sklearn.metrics.mean_absolute_percentage_error(y_test,yhat)"
      ],
      "metadata": {
        "id": "2yedNZuT7LfJ"
      },
      "execution_count": 33,
      "outputs": []
    },
    {
      "cell_type": "code",
      "source": [
        "print(\"mse:\",mse)\n",
        "print(\"R^2:\",R2)\n",
        "print(\"mae:\",mae)\n",
        "print(\"msle:\",msle)\n",
        "print(\"mape:\",mape)"
      ],
      "metadata": {
        "colab": {
          "base_uri": "https://localhost:8080/"
        },
        "id": "aOctBkpD8Y_5",
        "outputId": "61483ed0-3239-410c-b0ec-34d432120934"
      },
      "execution_count": 34,
      "outputs": [
        {
          "output_type": "stream",
          "name": "stdout",
          "text": [
            "mse: 6907616097.531948\n",
            "R^2: 0.5292666209484287\n",
            "mae: 67111.07707069107\n",
            "msle: 0.052922024988406494\n",
            "mape: 0.17410366544502154\n"
          ]
        }
      ]
    }
  ]
}