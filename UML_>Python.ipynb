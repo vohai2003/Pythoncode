{
  "nbformat": 4,
  "nbformat_minor": 0,
  "metadata": {
    "colab": {
      "name": "UML->Python",
      "provenance": [],
      "authorship_tag": "ABX9TyPEKp4vKMy0nktt2ez3vnz2",
      "include_colab_link": true
    },
    "kernelspec": {
      "name": "python3",
      "display_name": "Python 3"
    },
    "language_info": {
      "name": "python"
    }
  },
  "cells": [
    {
      "cell_type": "markdown",
      "metadata": {
        "id": "view-in-github",
        "colab_type": "text"
      },
      "source": [
        "<a href=\"https://colab.research.google.com/github/vohai2003/Pythoncode/blob/main/UML_%3EPython.ipynb\" target=\"_parent\"><img src=\"https://colab.research.google.com/assets/colab-badge.svg\" alt=\"Open In Colab\"/></a>"
      ]
    },
    {
      "cell_type": "code",
      "metadata": {
        "id": "nVd-HxK4EwkZ"
      },
      "source": [
        "from abc import ABC, abstractmethod\n",
        "class Customer():\n",
        "  def __init__():\n",
        "    name:str=\"\"\n",
        "    address:str=\"\"\n",
        "class Payment():\n",
        "  @abstractmethod\n",
        "  def __init__():\n",
        "    amount:float=0.0\n",
        "class Cash(Payment):\n",
        "  def __init__():\n",
        "    cashTendered:float=0.0\n",
        "class Check(Payment):\n",
        "  def __init__():\n",
        "    name:str=\"\"\n",
        "    bankID:str=\"\"\n",
        "    chktoken:str=\"\"\n",
        "  def authorized(self):\n",
        "    global token\n",
        "    if self.chktoken==token:\n",
        "      return True\n",
        "    else: return False\n",
        "class Credit(Payment):\n",
        "  def __init__():\n",
        "    number:str=\"\"\n",
        "    typ:str=\"\"\n",
        "    expDate:str=\"\"\n",
        "    chktoken:str=\"\"\n",
        "  def authorized(self):\n",
        "    global token\n",
        "    if self.chktoken==token:\n",
        "      return True\n",
        "    else: return False\n",
        "class Item():\n",
        "  def __init__(self,Priceper1:float,Tax:float,Stock:int,Weight:float,desc:str):\n",
        "    self.Priceper1 = Priceper1\n",
        "    self.Tax = Tax\n",
        "    self.Stock = Stock\n",
        "    self.Weight = Weight\n",
        "    self.description = desc\n",
        "  def getPriceforQuantity(self):\n",
        "    return self.Priceper1\n",
        "  def getTax(self):\n",
        "    return self.Tax\n",
        "  def inStock(self):\n",
        "    return self.Stock\n",
        "class OrderDetails():\n",
        "  def __init__():\n",
        "    quantity:int=0\n",
        "    taxStatus:str=\"\"\n",
        "    ItemList = []\n",
        "  def addItem(self,item:Item):\n",
        "    ItemList.append(Item(item.getPrice(),item.getTax(),item.getStock(),item.getWeight(),item.getDesc()))\n",
        "  def calcSubTotal(self):\n",
        "    pass\n",
        "  def calcWeight(self):\n",
        "    pass\n",
        "  def calcTax(self):\n",
        "    pass\n",
        "class Order():\n",
        "  def __init__(self,orderdetail):\n",
        "    self.Payment:Payment()\n",
        "    self.Customer:Customer()\n",
        "    self.OrderDetails = orderdetail\n",
        "  def calcTotalWeight():\n",
        "    pass"
      ],
      "execution_count": 6,
      "outputs": []
    }
  ]
}