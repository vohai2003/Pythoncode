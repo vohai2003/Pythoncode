{
  "nbformat": 4,
  "nbformat_minor": 0,
  "metadata": {
    "colab": {
      "name": "Bài_tập_numpy_4",
      "provenance": [],
      "collapsed_sections": [],
      "authorship_tag": "ABX9TyON2dFoXU1aFpkMb+7HEErR",
      "include_colab_link": true
    },
    "kernelspec": {
      "name": "python3",
      "display_name": "Python 3"
    },
    "language_info": {
      "name": "python"
    }
  },
  "cells": [
    {
      "cell_type": "markdown",
      "metadata": {
        "id": "view-in-github",
        "colab_type": "text"
      },
      "source": [
        "<a href=\"https://colab.research.google.com/github/vohai2003/Pythoncode/blob/main/B%C3%A0i_t%E1%BA%ADp_numpy_4.ipynb\" target=\"_parent\"><img src=\"https://colab.research.google.com/assets/colab-badge.svg\" alt=\"Open In Colab\"/></a>"
      ]
    },
    {
      "cell_type": "markdown",
      "source": [
        "Bài 1: sử dụng numpy.arange()"
      ],
      "metadata": {
        "id": "LEkhFpP_1Ug5"
      }
    },
    {
      "cell_type": "code",
      "execution_count": 5,
      "metadata": {
        "colab": {
          "base_uri": "https://localhost:8080/"
        },
        "id": "fRml2bUPy23q",
        "outputId": "20d0dce3-d149-4017-9622-6696a0e45ebe"
      },
      "outputs": [
        {
          "output_type": "stream",
          "name": "stdout",
          "text": [
            "So chieu cua vector:  7\n",
            "So chieu cua vector chuyen vi:  7\n"
          ]
        }
      ],
      "source": [
        "import numpy\n",
        "A = numpy.arange(1,8)\n",
        "print(A)\n",
        "print(\"So chieu cua vector: \",A.shape[0])\n",
        "A = numpy.transpose(A)\n",
        "print(\"So chieu cua vector chuyen vi: \",A.shape[0])"
      ]
    },
    {
      "cell_type": "markdown",
      "source": [
        "Sử dụng linspace"
      ],
      "metadata": {
        "id": "JkY8AKoE8Nyh"
      }
    },
    {
      "cell_type": "code",
      "source": [
        "A = numpy.linspace(1,5,7)\n",
        "print(A)\n",
        "print(\"So chieu cua vector: \",A.shape[0])\n",
        "A = numpy.transpose(A)\n",
        "print(\"So chieu cua vector chuyen vi: \",A.shape[0])"
      ],
      "metadata": {
        "colab": {
          "base_uri": "https://localhost:8080/"
        },
        "id": "cFqFT7LI8QAA",
        "outputId": "447e7aa1-514b-49dc-977a-685e095ce29e"
      },
      "execution_count": 6,
      "outputs": [
        {
          "output_type": "stream",
          "name": "stdout",
          "text": [
            "So chieu cua vector:  7\n",
            "So chieu cua vector chuyen vi:  7\n"
          ]
        }
      ]
    },
    {
      "cell_type": "markdown",
      "source": [
        "Sử dụng logspace"
      ],
      "metadata": {
        "id": "Z-7ttIuG8sLG"
      }
    },
    {
      "cell_type": "code",
      "source": [
        "A = numpy.logspace(1,5,7)\n",
        "print(A)\n",
        "print(\"So chieu cua vector: \",A.shape[0])\n",
        "A = numpy.transpose(A)\n",
        "print(\"So chieu cua vector chuyen vi: \",A.shape[0])"
      ],
      "metadata": {
        "colab": {
          "base_uri": "https://localhost:8080/"
        },
        "id": "mNaOnb1X81kg",
        "outputId": "8c811d00-d118-4699-9c12-6a35746b9e36"
      },
      "execution_count": 7,
      "outputs": [
        {
          "output_type": "stream",
          "name": "stdout",
          "text": [
            "[1.00000000e+01 4.64158883e+01 2.15443469e+02 1.00000000e+03\n",
            " 4.64158883e+03 2.15443469e+04 1.00000000e+05]\n",
            "So chieu cua vector:  7\n",
            "So chieu cua vector chuyen vi:  7\n"
          ]
        }
      ]
    },
    {
      "cell_type": "markdown",
      "source": [
        "Sử dụng random.rand"
      ],
      "metadata": {
        "id": "WtfdORS29FOW"
      }
    },
    {
      "cell_type": "code",
      "source": [
        "A = numpy.random.rand((7))\n",
        "print(A)\n",
        "print(\"So chieu cua vector: \",A.shape[0])\n",
        "A = numpy.transpose(A)\n",
        "print(\"So chieu cua vector chuyen vi: \",A.shape[0])"
      ],
      "metadata": {
        "colab": {
          "base_uri": "https://localhost:8080/"
        },
        "id": "bt_k1JpN9JFo",
        "outputId": "91cfebb4-88b2-4b95-90c8-725051342b34"
      },
      "execution_count": 9,
      "outputs": [
        {
          "output_type": "stream",
          "name": "stdout",
          "text": [
            "[0.77058851 0.71206668 0.50869325 0.7983255  0.40229941 0.31915955\n",
            " 0.86247566]\n",
            "So chieu cua vector:  7\n",
            "So chieu cua vector chuyen vi:  7\n"
          ]
        }
      ]
    },
    {
      "cell_type": "markdown",
      "source": [
        "Bài 2: Sử dụng arange"
      ],
      "metadata": {
        "id": "cXT0qUDTBZES"
      }
    },
    {
      "cell_type": "code",
      "source": [
        "A = numpy.arange(10*7)\n",
        "A.shape = (10,7)\n",
        "print(A)\n",
        "print(\"Kich thuoc cua ma tran: \",A.shape[0],\"x\",A.shape[1])\n",
        "A = numpy.transpose(A)\n",
        "print(\"Kich thuoc cua ma tran chuyen vi: \",A.shape[0],\"x\",A.shape[1])\n",
        "print(\"So chieu cua ma tran:\",A.ndim)"
      ],
      "metadata": {
        "colab": {
          "base_uri": "https://localhost:8080/"
        },
        "id": "Oqfrbk7XBg2-",
        "outputId": "5e998fcc-9a2c-47af-9047-8a2032d0a44c"
      },
      "execution_count": 12,
      "outputs": [
        {
          "output_type": "stream",
          "name": "stdout",
          "text": [
            "[[ 0  1  2  3  4  5  6]\n",
            " [ 7  8  9 10 11 12 13]\n",
            " [14 15 16 17 18 19 20]\n",
            " [21 22 23 24 25 26 27]\n",
            " [28 29 30 31 32 33 34]\n",
            " [35 36 37 38 39 40 41]\n",
            " [42 43 44 45 46 47 48]\n",
            " [49 50 51 52 53 54 55]\n",
            " [56 57 58 59 60 61 62]\n",
            " [63 64 65 66 67 68 69]]\n",
            "Kich thuoc cua ma tran:  10 x 7\n",
            "Kich thuoc cua ma tran chuyen vi:  7 x 10\n",
            "So chieu cua ma tran: 2\n"
          ]
        }
      ]
    },
    {
      "cell_type": "markdown",
      "source": [
        "Sử dụng linspace"
      ],
      "metadata": {
        "id": "YwP4U5a_ClHA"
      }
    },
    {
      "cell_type": "code",
      "source": [
        "A = numpy.linspace(1,5,10*7)\n",
        "A.shape = (10,7)\n",
        "print(A)\n",
        "print(\"Kich thuoc cua ma tran: \",A.shape[0],\"x\",A.shape[1])\n",
        "A = numpy.transpose(A)\n",
        "print(\"Kich thuoc cua ma tran chuyen vi: \",A.shape[0],\"x\",A.shape[1])\n",
        "print(\"So chieu cua ma tran:\",A.ndim)"
      ],
      "metadata": {
        "colab": {
          "base_uri": "https://localhost:8080/"
        },
        "id": "z0BC2jXrCoGE",
        "outputId": "b249c083-59bb-43c3-dea8-503bbac2e64f"
      },
      "execution_count": 13,
      "outputs": [
        {
          "output_type": "stream",
          "name": "stdout",
          "text": [
            "[[1.         1.05797101 1.11594203 1.17391304 1.23188406 1.28985507\n",
            "  1.34782609]\n",
            " [1.4057971  1.46376812 1.52173913 1.57971014 1.63768116 1.69565217\n",
            "  1.75362319]\n",
            " [1.8115942  1.86956522 1.92753623 1.98550725 2.04347826 2.10144928\n",
            "  2.15942029]\n",
            " [2.2173913  2.27536232 2.33333333 2.39130435 2.44927536 2.50724638\n",
            "  2.56521739]\n",
            " [2.62318841 2.68115942 2.73913043 2.79710145 2.85507246 2.91304348\n",
            "  2.97101449]\n",
            " [3.02898551 3.08695652 3.14492754 3.20289855 3.26086957 3.31884058\n",
            "  3.37681159]\n",
            " [3.43478261 3.49275362 3.55072464 3.60869565 3.66666667 3.72463768\n",
            "  3.7826087 ]\n",
            " [3.84057971 3.89855072 3.95652174 4.01449275 4.07246377 4.13043478\n",
            "  4.1884058 ]\n",
            " [4.24637681 4.30434783 4.36231884 4.42028986 4.47826087 4.53623188\n",
            "  4.5942029 ]\n",
            " [4.65217391 4.71014493 4.76811594 4.82608696 4.88405797 4.94202899\n",
            "  5.        ]]\n",
            "Kich thuoc cua ma tran:  10 x 7\n",
            "Kich thuoc cua ma tran chuyen vi:  7 x 10\n",
            "So chieu cua ma tran: 2\n"
          ]
        }
      ]
    },
    {
      "cell_type": "markdown",
      "source": [
        "Sử dụng logspace"
      ],
      "metadata": {
        "id": "NFSyVDlKCv6_"
      }
    },
    {
      "cell_type": "code",
      "source": [
        "A = numpy.logspace(1,5,10*7)\n",
        "A.shape = (10,7)\n",
        "print(A)\n",
        "print(\"Kich thuoc cua ma tran: \",A.shape[0],\"x\",A.shape[1])\n",
        "A = numpy.transpose(A)\n",
        "print(\"Kich thuoc cua ma tran chuyen vi: \",A.shape[0],\"x\",A.shape[1])\n",
        "print(\"So chieu cua ma tran:\",A.ndim)"
      ],
      "metadata": {
        "colab": {
          "base_uri": "https://localhost:8080/"
        },
        "id": "jVRVt0LGC0Bv",
        "outputId": "20a81ad9-3acb-4cd6-f662-e455d2dd4780"
      },
      "execution_count": 14,
      "outputs": [
        {
          "output_type": "stream",
          "name": "stdout",
          "text": [
            "[[1.00000000e+01 1.14280206e+01 1.30599655e+01 1.49249555e+01\n",
            "  1.70562698e+01 1.94919403e+01 2.22754295e+01]\n",
            " [2.54564067e+01 2.90916341e+01 3.32459793e+01 3.79935737e+01\n",
            "  4.34191342e+01 4.96194760e+01 5.67052394e+01]\n",
            " [6.48028644e+01 7.40568469e+01 8.46323172e+01 9.67179864e+01\n",
            "  1.10529514e+02 1.26313356e+02 1.44351164e+02]\n",
            " [1.64964807e+02 1.88522122e+02 2.15443469e+02 2.46209240e+02\n",
            "  2.81368427e+02 3.21548418e+02 3.67466194e+02]\n",
            " [4.19941123e+02 4.79909581e+02 5.48441658e+02 6.26760256e+02\n",
            "  7.16262912e+02 8.18546731e+02 9.35436890e+02]\n",
            " [1.06901920e+03 1.22167735e+03 1.39613539e+03 1.59550640e+03\n",
            "  1.82334800e+03 2.08372585e+03 2.38128619e+03]\n",
            " [2.72133877e+03 3.10995155e+03 3.55405904e+03 4.06158599e+03\n",
            "  4.64158883e+03 5.30441728e+03 6.06189899e+03]\n",
            " [6.92755066e+03 7.91681916e+03 9.04735724e+03 1.03393385e+04\n",
            "  1.18158173e+04 1.35031404e+04 1.54314166e+04]\n",
            " [1.76350547e+04 2.01533769e+04 2.30313206e+04 2.63202406e+04\n",
            "  3.00788252e+04 3.43741434e+04 3.92828419e+04]\n",
            " [4.48925126e+04 5.13032558e+04 5.86294665e+04 6.70018750e+04\n",
            "  7.65698808e+04 8.75042175e+04 1.00000000e+05]]\n",
            "Kich thuoc cua ma tran:  10 x 7\n",
            "Kich thuoc cua ma tran chuyen vi:  7 x 10\n",
            "So chieu cua ma tran: 2\n"
          ]
        }
      ]
    },
    {
      "cell_type": "markdown",
      "source": [
        "Sử dụng random.rand"
      ],
      "metadata": {
        "id": "OQYM8bsSC8b2"
      }
    },
    {
      "cell_type": "code",
      "source": [
        "A = numpy.random.rand(10,7)\n",
        "print(A)\n",
        "print(\"Kich thuoc cua ma tran: \",A.shape[0],\"x\",A.shape[1])\n",
        "A = numpy.transpose(A)\n",
        "print(\"Kich thuoc cua ma tran chuyen vi: \",A.shape[0],\"x\",A.shape[1])\n",
        "print(\"So chieu cua ma tran:\",A.ndim)"
      ],
      "metadata": {
        "colab": {
          "base_uri": "https://localhost:8080/"
        },
        "id": "pIUnOCMgDJ6z",
        "outputId": "e45bb697-60e6-4c0b-d3c4-0551cf27d71b"
      },
      "execution_count": 15,
      "outputs": [
        {
          "output_type": "stream",
          "name": "stdout",
          "text": [
            "[[0.57381073 0.08247363 0.92836925 0.12175853 0.83070786 0.13948499\n",
            "  0.96706496]\n",
            " [0.69079041 0.4599384  0.36551238 0.48377541 0.81478656 0.52528605\n",
            "  0.17062205]\n",
            " [0.93583048 0.82942514 0.70964247 0.14203697 0.2958464  0.86911043\n",
            "  0.30858689]\n",
            " [0.92338914 0.48758718 0.08153095 0.03144176 0.98186737 0.19772461\n",
            "  0.87712847]\n",
            " [0.15490189 0.58795508 0.77406344 0.28949431 0.64882096 0.20831855\n",
            "  0.35589009]\n",
            " [0.03210234 0.93564386 0.2719227  0.39498556 0.76987628 0.97011935\n",
            "  0.64699629]\n",
            " [0.72504219 0.71330943 0.49029427 0.85299885 0.35628641 0.60091319\n",
            "  0.83615788]\n",
            " [0.1991762  0.43217987 0.57256905 0.13982457 0.99084388 0.79834948\n",
            "  0.68864416]\n",
            " [0.85484487 0.05821126 0.26990165 0.8343398  0.01504428 0.52423057\n",
            "  0.44325934]\n",
            " [0.22967713 0.50827148 0.76239517 0.53128219 0.379989   0.35109252\n",
            "  0.27190786]]\n",
            "Kich thuoc cua ma tran:  10 x 7\n",
            "Kich thuoc cua ma tran chuyen vi:  7 x 10\n",
            "So chieu cua ma tran: 2\n"
          ]
        }
      ]
    },
    {
      "cell_type": "markdown",
      "source": [
        "Bài 3: Chuyển ma trận A thành vector"
      ],
      "metadata": {
        "id": "7LcwO_ReDXSI"
      }
    },
    {
      "cell_type": "code",
      "source": [
        "A = A.flatten()\n",
        "print(A)"
      ],
      "metadata": {
        "colab": {
          "base_uri": "https://localhost:8080/"
        },
        "id": "rmLlFGFiDcbO",
        "outputId": "bfca96a5-395d-4dcf-c520-addaeea41cc8"
      },
      "execution_count": 16,
      "outputs": [
        {
          "output_type": "stream",
          "name": "stdout",
          "text": [
            "[0.57381073 0.69079041 0.93583048 0.92338914 0.15490189 0.03210234\n",
            " 0.72504219 0.1991762  0.85484487 0.22967713 0.08247363 0.4599384\n",
            " 0.82942514 0.48758718 0.58795508 0.93564386 0.71330943 0.43217987\n",
            " 0.05821126 0.50827148 0.92836925 0.36551238 0.70964247 0.08153095\n",
            " 0.77406344 0.2719227  0.49029427 0.57256905 0.26990165 0.76239517\n",
            " 0.12175853 0.48377541 0.14203697 0.03144176 0.28949431 0.39498556\n",
            " 0.85299885 0.13982457 0.8343398  0.53128219 0.83070786 0.81478656\n",
            " 0.2958464  0.98186737 0.64882096 0.76987628 0.35628641 0.99084388\n",
            " 0.01504428 0.379989   0.13948499 0.52528605 0.86911043 0.19772461\n",
            " 0.20831855 0.97011935 0.60091319 0.79834948 0.52423057 0.35109252\n",
            " 0.96706496 0.17062205 0.30858689 0.87712847 0.35589009 0.64699629\n",
            " 0.83615788 0.68864416 0.44325934 0.27190786]\n"
          ]
        }
      ]
    },
    {
      "cell_type": "markdown",
      "source": [
        "Chuyển vector A thành ma trận"
      ],
      "metadata": {
        "id": "y76wKukKDlx-"
      }
    },
    {
      "cell_type": "code",
      "source": [
        "A.shape = (10,7)\n",
        "print(A)"
      ],
      "metadata": {
        "colab": {
          "base_uri": "https://localhost:8080/"
        },
        "id": "fwt6t6x8Dqah",
        "outputId": "ad6f07fd-cf95-4c2e-e8e5-6bf0e7b65548"
      },
      "execution_count": 18,
      "outputs": [
        {
          "output_type": "stream",
          "name": "stdout",
          "text": [
            "[[0.57381073 0.69079041 0.93583048 0.92338914 0.15490189 0.03210234\n",
            "  0.72504219]\n",
            " [0.1991762  0.85484487 0.22967713 0.08247363 0.4599384  0.82942514\n",
            "  0.48758718]\n",
            " [0.58795508 0.93564386 0.71330943 0.43217987 0.05821126 0.50827148\n",
            "  0.92836925]\n",
            " [0.36551238 0.70964247 0.08153095 0.77406344 0.2719227  0.49029427\n",
            "  0.57256905]\n",
            " [0.26990165 0.76239517 0.12175853 0.48377541 0.14203697 0.03144176\n",
            "  0.28949431]\n",
            " [0.39498556 0.85299885 0.13982457 0.8343398  0.53128219 0.83070786\n",
            "  0.81478656]\n",
            " [0.2958464  0.98186737 0.64882096 0.76987628 0.35628641 0.99084388\n",
            "  0.01504428]\n",
            " [0.379989   0.13948499 0.52528605 0.86911043 0.19772461 0.20831855\n",
            "  0.97011935]\n",
            " [0.60091319 0.79834948 0.52423057 0.35109252 0.96706496 0.17062205\n",
            "  0.30858689]\n",
            " [0.87712847 0.35589009 0.64699629 0.83615788 0.68864416 0.44325934\n",
            "  0.27190786]]\n"
          ]
        }
      ]
    },
    {
      "cell_type": "markdown",
      "source": [
        "Bài 4"
      ],
      "metadata": {
        "id": "RAabrsxJEJ41"
      }
    },
    {
      "cell_type": "code",
      "source": [
        "A = numpy.logspace(1,5,10*15)\n",
        "A.shape = (10,15)\n",
        "print(A)\n",
        "print(\"Dong thu 3 cua ma tran:\\n\",A[2])\n",
        "print(\"Cot thu 5 cua ma tran:\\n\",A[:,4])"
      ],
      "metadata": {
        "colab": {
          "base_uri": "https://localhost:8080/"
        },
        "id": "HzGk0z6XEJBz",
        "outputId": "3f5e378d-efce-442b-ca0e-ff7105e32ddf"
      },
      "execution_count": 19,
      "outputs": [
        {
          "output_type": "stream",
          "name": "stdout",
          "text": [
            "[[1.00000000e+01 1.06376485e+01 1.13159567e+01 1.20375170e+01\n",
            "  1.28050875e+01 1.36216020e+01 1.44901815e+01 1.54141458e+01\n",
            "  1.63970266e+01 1.74425806e+01 1.85548042e+01 1.97379486e+01\n",
            "  2.09965360e+01 2.23353771e+01 2.37595891e+01]\n",
            " [2.52746159e+01 2.68862481e+01 2.86006458e+01 3.04243618e+01\n",
            "  3.23643668e+01 3.44280759e+01 3.66233771e+01 3.89586614e+01\n",
            "  4.14428548e+01 4.40854524e+01 4.68965549e+01 4.98869069e+01\n",
            "  5.30679382e+01 5.64518076e+01 6.00514488e+01]\n",
            " [6.38806207e+01 6.79539592e+01 7.22870335e+01 7.68964057e+01\n",
            "  8.17996938e+01 8.70156393e+01 9.25641789e+01 9.84665203e+01\n",
            "  1.04745224e+02 1.11424288e+02 1.18529241e+02 1.26087241e+02\n",
            "  1.34127175e+02 1.42679775e+02 1.51777730e+02]\n",
            " [1.61455815e+02 1.71751022e+02 1.82702700e+02 1.94352711e+02\n",
            "  2.06745584e+02 2.19928686e+02 2.33952406e+02 2.48870348e+02\n",
            "  2.64739529e+02 2.81620607e+02 2.99578103e+02 3.18680658e+02\n",
            "  3.39001283e+02 3.60617651e+02 3.83612383e+02]\n",
            " [4.08073370e+02 4.34094109e+02 4.61774057e+02 4.91219013e+02\n",
            "  5.22541521e+02 5.55861305e+02 5.91305720e+02 6.29010244e+02\n",
            "  6.69118990e+02 7.11785265e+02 7.57172149e+02 8.05453121e+02\n",
            "  8.56812721e+02 9.11447260e+02 9.69565562e+02]\n",
            " [1.03138977e+03 1.09715619e+03 1.16711619e+03 1.24153719e+03\n",
            "  1.32070362e+03 1.40491810e+03 1.49450249e+03 1.58979923e+03\n",
            "  1.69117254e+03 1.79900992e+03 1.91372352e+03 2.03575182e+03\n",
            "  2.16556124e+03 2.30364794e+03 2.45053971e+03]\n",
            " [2.60679802e+03 2.77302012e+03 2.94984134e+03 3.13793754e+03\n",
            "  3.33802767e+03 3.55087652e+03 3.77729765e+03 4.01815648e+03\n",
            "  4.27437364e+03 4.54692846e+03 4.83686269e+03 5.14528453e+03\n",
            "  5.47337285e+03 5.82238167e+03 6.19364499e+03]\n",
            " [6.58858186e+03 7.00870182e+03 7.45561067e+03 7.93101660e+03\n",
            "  8.43673672e+03 8.97470401e+03 9.54697470e+03 1.01557362e+04\n",
            "  1.08033152e+04 1.14921870e+04 1.22249846e+04 1.30045090e+04\n",
            "  1.38337396e+04 1.47158460e+04 1.56541998e+04]\n",
            " [1.66523876e+04 1.77142246e+04 1.88437696e+04 2.00453398e+04\n",
            "  2.13235280e+04 2.26832196e+04 2.41296118e+04 2.56682330e+04\n",
            "  2.73049642e+04 2.90460612e+04 3.08981791e+04 3.28683970e+04\n",
            "  3.49642455e+04 3.71937355e+04 3.95653887e+04]\n",
            " [4.20882699e+04 4.47720223e+04 4.76269038e+04 5.06638264e+04\n",
            "  5.38943979e+04 5.73309663e+04 6.09866670e+04 6.48754729e+04\n",
            "  6.90122480e+04 7.34128040e+04 7.80939607e+04 8.30736107e+04\n",
            "  8.83707874e+04 9.40057378e+04 1.00000000e+05]]\n",
            "Dong thu 3 cua ma tran:\n",
            " [ 63.88062073  67.9539592   72.28703351  76.89640567  81.79969378\n",
            "  87.01563933  92.5641789   98.46652028 104.7452236  111.42428752\n",
            " 118.52924098 126.08724077 134.12717531 142.6797751  151.77773017]\n",
            "Cot thu 5 cua ma tran:\n",
            " [1.28050875e+01 3.23643668e+01 8.17996938e+01 2.06745584e+02\n",
            " 5.22541521e+02 1.32070362e+03 3.33802767e+03 8.43673672e+03\n",
            " 2.13235280e+04 5.38943979e+04]\n"
          ]
        }
      ]
    },
    {
      "cell_type": "markdown",
      "source": [
        "Bài 5: Phần xây dựng hàm"
      ],
      "metadata": {
        "id": "Lk89vYe0E48Z"
      }
    },
    {
      "cell_type": "code",
      "source": [
        "import math\n",
        "def arrange(a):\n",
        "  left = 0\n",
        "  right = a.shape[0]-1\n",
        "  k = 0\n",
        "  i = 0\n",
        "  while (left<right):\n",
        "    for i in range(left,right):\n",
        "      if a[i] > a[i+1]:\n",
        "        a[i],a[i+1] = a[i+1],a[i]\n",
        "        k = i\n",
        "    right = k\n",
        "    for i in range(right,left,-1):\n",
        "      if (a[i]<a[i-1]):\n",
        "        a[i],a[i-1] = a[i-1],a[i]\n",
        "        k = i\n",
        "    left = k\n",
        "  return(a)\n",
        "def avg(a):\n",
        "  shape = a.shape\n",
        "  length = 1\n",
        "  for dim in shape:\n",
        "    length *= dim\n",
        "  return numpy.sum(a)/length\n",
        "def median(a):\n",
        "  a = a.flatten()\n",
        "  a = arrange(a)\n",
        "  length = a.shape[0]\n",
        "  if length%2==1:\n",
        "    me = a[length//2]\n",
        "  else:\n",
        "    me = (a[length//2-1]+a[length//2])/2\n",
        "  return me\n",
        "def mode(a):\n",
        "  a = a.flatten()\n",
        "  a = arrange(a)\n",
        "  length = a.shape[0]\n",
        "  valuelist = []\n",
        "  occurrence = []\n",
        "  for i in range(0,length):\n",
        "    if a[i] not in valuelist:\n",
        "      valuelist.append(a[i])\n",
        "      occurrence.append(1)\n",
        "    else:\n",
        "      index = valuelist.index(a[i])\n",
        "      occurrence[index] +=1\n",
        "  if max(occurrence) == 1:\n",
        "    return False\n",
        "  else:\n",
        "    mode = []\n",
        "    maxoccur = max(occurrence)\n",
        "    for i in range(0,len(valuelist)):\n",
        "      if occurrence[i] == maxoccur:\n",
        "        mode.append(valuelist[i])\n",
        "    return(mode)\n",
        "def variance(a):\n",
        "  a = a.flatten()\n",
        "  a = arrange(a)\n",
        "  length = a.shape[0]\n",
        "  mu = avg(a)\n",
        "  vari = 0\n",
        "  for i in a:\n",
        "    vari += ((i-mu)**2)/length\n",
        "  return vari\n",
        "def stddevi(a):\n",
        "  return math.sqrt(variance(a))"
      ],
      "metadata": {
        "id": "3hos4v6VE7zx"
      },
      "execution_count": 35,
      "outputs": []
    },
    {
      "cell_type": "markdown",
      "source": [
        "Phần chương trình chính"
      ],
      "metadata": {
        "id": "WgIqCqHcOKp3"
      }
    },
    {
      "cell_type": "code",
      "source": [
        "A = numpy.arange(0,15*10)\n",
        "A.shape = (15,10)\n",
        "print(A)\n",
        "print(\"Trung bình của từng hàng:\",numpy.apply_along_axis(avg,1,A))\n",
        "print(\"Trung vị của từng hàng:\",numpy.apply_along_axis(median,1,A))\n",
        "print(\"Yếu vị của từng hàng\",numpy.apply_along_axis(mode,1,A))\n",
        "print(\"Phương sai của từng hàng\",numpy.apply_along_axis(variance,1,A))\n",
        "print(\"Độ lệch chuẩn của từng hàng\",numpy.apply_along_axis(stddevi,1,A))\n",
        "print(\"Trung bình của từng cột:\",numpy.apply_along_axis(avg,0,A))\n",
        "print(\"Trung vị của từng cột:\",numpy.apply_along_axis(median,0,A))\n",
        "print(\"Yếu vị của từng cột\",numpy.apply_along_axis(mode,0,A))\n",
        "print(\"Phương sai của từng cột\",numpy.apply_along_axis(variance,0,A))\n",
        "print(\"Độ lệch chuẩn của từng cột\",numpy.apply_along_axis(stddevi,0,A))"
      ],
      "metadata": {
        "colab": {
          "base_uri": "https://localhost:8080/"
        },
        "id": "UY8WqP3POMwL",
        "outputId": "690c6663-c2b4-4248-f05d-58311f7762a4"
      },
      "execution_count": 44,
      "outputs": [
        {
          "output_type": "stream",
          "name": "stdout",
          "text": [
            "[[  0   1   2   3   4   5   6   7   8   9]\n",
            " [ 10  11  12  13  14  15  16  17  18  19]\n",
            " [ 20  21  22  23  24  25  26  27  28  29]\n",
            " [ 30  31  32  33  34  35  36  37  38  39]\n",
            " [ 40  41  42  43  44  45  46  47  48  49]\n",
            " [ 50  51  52  53  54  55  56  57  58  59]\n",
            " [ 60  61  62  63  64  65  66  67  68  69]\n",
            " [ 70  71  72  73  74  75  76  77  78  79]\n",
            " [ 80  81  82  83  84  85  86  87  88  89]\n",
            " [ 90  91  92  93  94  95  96  97  98  99]\n",
            " [100 101 102 103 104 105 106 107 108 109]\n",
            " [110 111 112 113 114 115 116 117 118 119]\n",
            " [120 121 122 123 124 125 126 127 128 129]\n",
            " [130 131 132 133 134 135 136 137 138 139]\n",
            " [140 141 142 143 144 145 146 147 148 149]]\n",
            "Trung bình của từng hàng: [  4.5  14.5  24.5  34.5  44.5  54.5  64.5  74.5  84.5  94.5 104.5 114.5\n",
            " 124.5 134.5 144.5]\n",
            "Trung vị của từng hàng: [  4.5  14.5  24.5  34.5  44.5  54.5  64.5  74.5  84.5  94.5 104.5 114.5\n",
            " 124.5 134.5 144.5]\n",
            "Yếu vị của từng hàng [False False False False False False False False False False False False\n",
            " False False False]\n",
            "Phương sai của từng hàng [8.25 8.25 8.25 8.25 8.25 8.25 8.25 8.25 8.25 8.25 8.25 8.25 8.25 8.25\n",
            " 8.25]\n",
            "Độ lệch chuẩn của từng hàng [2.87228132 2.87228132 2.87228132 2.87228132 2.87228132 2.87228132\n",
            " 2.87228132 2.87228132 2.87228132 2.87228132 2.87228132 2.87228132\n",
            " 2.87228132 2.87228132 2.87228132]\n",
            "Trung bình của từng cột: [70. 71. 72. 73. 74. 75. 76. 77. 78. 79.]\n",
            "Trung vị của từng cột: [70 71 72 73 74 75 76 77 78 79]\n",
            "Yếu vị của từng cột [False False False False False False False False False False]\n",
            "Phương sai của từng cột [1866.66666667 1866.66666667 1866.66666667 1866.66666667 1866.66666667\n",
            " 1866.66666667 1866.66666667 1866.66666667 1866.66666667 1866.66666667]\n",
            "Độ lệch chuẩn của từng cột [43.20493799 43.20493799 43.20493799 43.20493799 43.20493799 43.20493799\n",
            " 43.20493799 43.20493799 43.20493799 43.20493799]\n"
          ]
        }
      ]
    }
  ]
}