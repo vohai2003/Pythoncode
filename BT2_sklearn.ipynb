{
  "nbformat": 4,
  "nbformat_minor": 0,
  "metadata": {
    "colab": {
      "provenance": [],
      "collapsed_sections": [],
      "authorship_tag": "ABX9TyMHHiMsq6EVK8nOb7b1aAwI",
      "include_colab_link": true
    },
    "kernelspec": {
      "name": "python3",
      "display_name": "Python 3"
    },
    "language_info": {
      "name": "python"
    }
  },
  "cells": [
    {
      "cell_type": "markdown",
      "metadata": {
        "id": "view-in-github",
        "colab_type": "text"
      },
      "source": [
        "<a href=\"https://colab.research.google.com/github/vohai2003/Pythoncode/blob/main/BT2_sklearn.ipynb\" target=\"_parent\"><img src=\"https://colab.research.google.com/assets/colab-badge.svg\" alt=\"Open In Colab\"/></a>"
      ]
    },
    {
      "cell_type": "code",
      "execution_count": null,
      "metadata": {
        "colab": {
          "base_uri": "https://localhost:8080/"
        },
        "id": "ajPHef4f1g3E",
        "outputId": "ea024c4e-cc93-4514-d904-e5ddda9718f3"
      },
      "outputs": [
        {
          "output_type": "stream",
          "name": "stdout",
          "text": [
            "Mounted at /content/gdrive\n"
          ]
        }
      ],
      "source": [
        "from google.colab import drive \n",
        "drive.mount('/content/gdrive')"
      ]
    },
    {
      "cell_type": "code",
      "source": [
        "import os\n",
        "import numpy\n",
        "from sklearn.preprocessing import MinMaxScaler,StandardScaler\n",
        "from sklearn.linear_model import LinearRegression"
      ],
      "metadata": {
        "id": "2-3vIKLg3DbE"
      },
      "execution_count": null,
      "outputs": []
    },
    {
      "cell_type": "code",
      "source": [
        "def h(X,w):\n",
        "    return numpy.dot(X,w)\n",
        "def J(X,w,y):\n",
        "    m = len(y)\n",
        "    return (1/(2*m))*numpy.sum(numpy.square(h(X,w)-y))\n",
        "def gradDescent(X,w,y,alpha):\n",
        "    m = len(y)\n",
        "    hvar = h(X,w)\n",
        "    error = hvar - numpy.reshape(y,(m,))\n",
        "    w_calc = w - (alpha/m)*(X.T@error)\n",
        "    return w_calc"
      ],
      "metadata": {
        "id": "NBv77R6t9B5J"
      },
      "execution_count": null,
      "outputs": []
    },
    {
      "cell_type": "code",
      "source": [
        "def fit(data):\n",
        "  scaler = MinMaxScaler()\n",
        "  scaler.fit(data) #fitting data\n",
        "  data = scaler.transform(data) #scaling data\n",
        "  n = len(data)\n",
        "  m = len(data[0]) - 1\n",
        "  X = data[:,:-1]\n",
        "  X = numpy.column_stack([numpy.ones((n),dtype=numpy.int32),X])\n",
        "  y = data[:,-1:]\n",
        "  y = numpy.reshape(y,(n,1))\n",
        "  w = numpy.zeros((m+1),dtype=numpy.float32)\n",
        "  alpha = 0.05\n",
        "  for i in range(0,10000):\n",
        "      loss = J(X,w,y) #for runtime debugging\n",
        "      w = gradDescent(X,w,y,alpha)\n",
        "  return w"
      ],
      "metadata": {
        "id": "HfKvPFdo-eBW"
      },
      "execution_count": null,
      "outputs": []
    },
    {
      "cell_type": "code",
      "source": [
        "data = numpy.loadtxt(\"/content/gdrive/My Drive/Dataset/ex1data2.txt\",delimiter=\",\")\n",
        "\n",
        "print(fit(data))"
      ],
      "metadata": {
        "colab": {
          "base_uri": "https://localhost:8080/"
        },
        "id": "HcLYH3N09KlG",
        "outputId": "65b95690-b72f-4d94-c572-a2070ca24a56"
      },
      "execution_count": null,
      "outputs": [
        {
          "output_type": "stream",
          "name": "stdout",
          "text": [
            "[ 0.05574937  0.95233033 -0.06583098]\n"
          ]
        }
      ]
    },
    {
      "cell_type": "code",
      "source": [
        "data = numpy.loadtxt(\"/content/gdrive/My Drive/Dataset/ex1data1.txt\",delimiter=\",\")\n",
        "print(fit(data))"
      ],
      "metadata": {
        "colab": {
          "base_uri": "https://localhost:8080/"
        },
        "id": "MboCZPUW-06Q",
        "outputId": "525daaee-68d1-419a-8421-d6a489a698d4"
      },
      "execution_count": null,
      "outputs": [
        {
          "output_type": "stream",
          "name": "stdout",
          "text": [
            "[0.17825531 0.7638249 ]\n"
          ]
        }
      ]
    }
  ]
}