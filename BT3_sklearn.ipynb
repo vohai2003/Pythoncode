{
  "nbformat": 4,
  "nbformat_minor": 0,
  "metadata": {
    "colab": {
      "provenance": [],
      "collapsed_sections": [],
      "authorship_tag": "ABX9TyN20Ru2fW7E0yalI8TL9kS8",
      "include_colab_link": true
    },
    "kernelspec": {
      "name": "python3",
      "display_name": "Python 3"
    },
    "language_info": {
      "name": "python"
    }
  },
  "cells": [
    {
      "cell_type": "markdown",
      "metadata": {
        "id": "view-in-github",
        "colab_type": "text"
      },
      "source": [
        "<a href=\"https://colab.research.google.com/github/vohai2003/Pythoncode/blob/main/BT3_sklearn.ipynb\" target=\"_parent\"><img src=\"https://colab.research.google.com/assets/colab-badge.svg\" alt=\"Open In Colab\"/></a>"
      ]
    },
    {
      "cell_type": "code",
      "execution_count": 1,
      "metadata": {
        "colab": {
          "base_uri": "https://localhost:8080/"
        },
        "id": "ajPHef4f1g3E",
        "outputId": "a0887da0-166e-43f9-be0a-2adcf4af303d"
      },
      "outputs": [
        {
          "output_type": "stream",
          "name": "stdout",
          "text": [
            "Mounted at /content/gdrive\n"
          ]
        }
      ],
      "source": [
        "from google.colab import drive \n",
        "drive.mount('/content/gdrive')"
      ]
    },
    {
      "cell_type": "code",
      "source": [
        "import os\n",
        "import numpy\n",
        "from sklearn.preprocessing import MinMaxScaler,StandardScaler\n",
        "from sklearn.linear_model import LinearRegression"
      ],
      "metadata": {
        "id": "2-3vIKLg3DbE"
      },
      "execution_count": 2,
      "outputs": []
    },
    {
      "cell_type": "markdown",
      "source": [
        "MinMaxScaler"
      ],
      "metadata": {
        "id": "5S-xiMTN5sVV"
      }
    },
    {
      "cell_type": "code",
      "source": [
        "def minmaxfit(data):\n",
        "  scaler = MinMaxScaler()\n",
        "  scaler.fit(data) #fitting data\n",
        "  data = scaler.transform(data) #scaling data\n",
        "  X,y = data[:,:-1], data[:,-1]\n",
        "  model = LinearRegression()\n",
        "  model.fit(X,y)\n",
        "  return model.coef_"
      ],
      "metadata": {
        "id": "fCDbVG_45zdm"
      },
      "execution_count": 3,
      "outputs": []
    },
    {
      "cell_type": "code",
      "source": [
        "data = numpy.loadtxt(\"/content/gdrive/My Drive/Dataset/ex1data1.txt\",delimiter=\",\")\n",
        "scaler = MinMaxScaler()\n",
        "scaler.fit(data) #fitting data\n",
        "data = scaler.transform(data) #scaling data\n",
        "X,y = data[:,:-1], data[:,-1]\n",
        "print(data)"
      ],
      "metadata": {
        "colab": {
          "base_uri": "https://localhost:8080/"
        },
        "id": "uOS3UkA138Up",
        "outputId": "56082b7c-eac4-4e60-8115-2d68a04cdab7"
      },
      "execution_count": 4,
      "outputs": [
        {
          "output_type": "stream",
          "name": "stdout",
          "text": [
            "[[6.30643743e-02 7.55662990e-01]\n",
            " [2.91567935e-02 4.40250189e-01]\n",
            " [2.03288290e-01 6.09172609e-01]\n",
            " [1.15061044e-01 5.41779579e-01]\n",
            " [4.84917997e-02 3.54260708e-01]\n",
            " [1.95387777e-01 5.42972376e-01]\n",
            " [1.42610954e-01 2.62005315e-01]\n",
            " [2.06752406e-01 5.47221715e-01]\n",
            " [8.49610796e-02 3.45888764e-01]\n",
            " [1.61270603e-03 2.42186248e-01]\n",
            " [3.98111329e-02 2.21148291e-01]\n",
            " [5.31965929e-01 6.77870261e-01]\n",
            " [4.11676690e-02 2.17528897e-01]\n",
            " [1.96872398e-01 3.69263858e-01]\n",
            " [3.57357025e-02 1.26618383e-01]\n",
            " [2.05227031e-02 2.30865859e-01]\n",
            " [7.79280512e-02 2.97658763e-01]\n",
            " [6.00834881e-03 1.20825490e-01]\n",
            " [8.16658031e-02 2.36043343e-01]\n",
            " [1.18996745e-01 3.00808493e-01]\n",
            " [6.76637886e-02 2.16913861e-01]\n",
            " [8.87459901e-01 9.11285723e-01]\n",
            " [2.69677051e-02 2.58825766e-01]\n",
            " [7.56399881e-02 2.93286417e-01]\n",
            " [3.13225936e-02 2.14822739e-01]\n",
            " [8.10317825e-01 9.43752167e-01]\n",
            " [4.54183429e-01 6.03171349e-01]\n",
            " [3.45252997e-01 3.62587922e-01]\n",
            " [4.74444140e-01 6.47565762e-01]\n",
            " [1.00000000e+00 1.00000000e+00]\n",
            " [1.31287079e-02 5.44474554e-02]\n",
            " [9.09694284e-02 3.23445543e-01]\n",
            " [2.45765919e-01 5.52216552e-01]\n",
            " [5.03548535e-02 1.68862780e-01]\n",
            " [1.85385507e-01 3.43797642e-01]\n",
            " [1.69217692e-01 2.69982145e-01]\n",
            " [1.78678513e-01 2.53361265e-01]\n",
            " [3.37329196e-02 2.26389143e-01]\n",
            " [4.54649193e-01 4.77033067e-01]\n",
            " [7.72294060e-02 3.04837910e-01]\n",
            " [2.21237650e-02 1.20668935e-01]\n",
            " [1.08033838e-01 2.45723636e-01]\n",
            " [3.88976543e-01 3.00663121e-01]\n",
            " [4.34790203e-02 1.90895977e-01]\n",
            " [1.62889131e-01 3.50850054e-01]\n",
            " [1.20295061e-01 1.38923575e-01]\n",
            " [2.52094480e-03 2.91281027e-01]\n",
            " [4.50917263e-02 1.68657768e-01]\n",
            " [3.88510780e-01 3.98282372e-01]\n",
            " [2.99660575e-02 1.37864968e-01]\n",
            " [1.46325417e-01 3.51543367e-01]\n",
            " [1.63482979e-02 1.68493758e-01]\n",
            " [1.39554381e-01 2.59776276e-01]\n",
            " [1.49987483e-01 2.86226549e-01]\n",
            " [7.60300650e-02 1.52976215e-01]\n",
            " [7.75496184e-02 4.69514718e-02]\n",
            " [7.26183476e-02 1.92200599e-01]\n",
            " [3.56774821e-02 2.71543964e-01]\n",
            " [2.49375586e-01 2.47620929e-01]\n",
            " [2.57724396e-01 3.01732910e-01]\n",
            " [2.21150319e-01 2.92611741e-01]\n",
            " [8.87279417e-03 7.22354134e-02]\n",
            " [9.46204319e-01 7.68224633e-01]\n",
            " [5.75281932e-01 5.49234560e-01]\n",
            " [8.11132911e-01 7.35609091e-01]\n",
            " [1.27578437e-01 2.82018213e-01]\n",
            " [1.90276023e-01 3.14037357e-01]\n",
            " [3.03276064e-01 3.89750146e-01]\n",
            " [2.75091552e-02 1.37842603e-01]\n",
            " [8.91593552e-01 8.82397671e-01]\n",
            " [2.97454020e-01 3.48915487e-01]\n",
            " [1.34349474e-01 2.49987886e-01]\n",
            " [5.70152712e-02 1.47575081e-01]\n",
            " [1.28026735e-01 2.24462030e-01]\n",
            " [0.00000000e+00 0.00000000e+00]\n",
            " [8.85532804e-02 1.10985288e-01]\n",
            " [1.46232265e-01 2.44717214e-01]\n",
            " [5.58916168e-04 3.12441991e-01]\n",
            " [3.05488440e-01 3.51625372e-01]\n",
            " [4.70421108e-03 1.76619688e-01]\n",
            " [4.08882109e-02 1.17797277e-01]\n",
            " [9.40260012e-03 1.07534750e-01]\n",
            " [7.73633130e-02 1.25217965e-01]\n",
            " [2.76069655e-01 3.81106096e-01]\n",
            " [8.66902265e-02 2.99105030e-01]\n",
            " [2.03206782e-01 2.58024355e-01]\n",
            " [2.41806929e-01 3.53321381e-01]\n",
            " [5.67707454e-02 1.34474815e-01]\n",
            " [2.87317843e-02 1.05588627e-01]\n",
            " [1.89216411e-03 2.05090261e-01]\n",
            " [3.96364716e-02 1.68698770e-01]\n",
            " [1.51937867e-01 2.60052110e-01]\n",
            " [4.91264024e-02 3.68410263e-01]\n",
            " [1.62143909e-02 1.73984352e-01]\n",
            " [1.90177048e-01 1.05310556e-01]\n",
            " [4.87136195e-01 4.37450844e-01]\n",
            " [2.38703780e-02 1.22923322e-01]]\n"
          ]
        }
      ]
    },
    {
      "cell_type": "code",
      "source": [
        "w = minmaxfit(data)\n",
        "print(\"Optimal Coef.:\\n\",w)"
      ],
      "metadata": {
        "colab": {
          "base_uri": "https://localhost:8080/"
        },
        "id": "HmavelpO49OO",
        "outputId": "7541d8b9-0c20-44be-a2de-a0680c27f78e"
      },
      "execution_count": 5,
      "outputs": [
        {
          "output_type": "stream",
          "name": "stdout",
          "text": [
            "Optimal Coef.:\n",
            " [0.7638249]\n"
          ]
        }
      ]
    },
    {
      "cell_type": "markdown",
      "source": [
        "StandardScaler"
      ],
      "metadata": {
        "id": "160K_SCI6dru"
      }
    },
    {
      "cell_type": "code",
      "source": [
        "def standardfit(data):\n",
        "  scaler = StandardScaler()\n",
        "  scaler.fit(data) #fitting data\n",
        "  data = scaler.transform(data) #scaling data\n",
        "  X,y = data[:,:-1], data[:,-1]\n",
        "  model = LinearRegression()\n",
        "  model.fit(X,y)\n",
        "  return model.coef_"
      ],
      "metadata": {
        "id": "--NWI3TL6nvE"
      },
      "execution_count": 6,
      "outputs": []
    },
    {
      "cell_type": "code",
      "source": [
        "data = numpy.loadtxt(\"/content/gdrive/My Drive/Dataset/ex1data2.txt\",delimiter=\",\")\n",
        "print(data)"
      ],
      "metadata": {
        "colab": {
          "base_uri": "https://localhost:8080/"
        },
        "id": "s9ZEYkvw6tj2",
        "outputId": "88a1550c-5c42-4a5b-c3bb-01315efcce80"
      },
      "execution_count": 7,
      "outputs": [
        {
          "output_type": "stream",
          "name": "stdout",
          "text": [
            "[[2.10400e+03 3.00000e+00 3.99900e+05]\n",
            " [1.60000e+03 3.00000e+00 3.29900e+05]\n",
            " [2.40000e+03 3.00000e+00 3.69000e+05]\n",
            " [1.41600e+03 2.00000e+00 2.32000e+05]\n",
            " [3.00000e+03 4.00000e+00 5.39900e+05]\n",
            " [1.98500e+03 4.00000e+00 2.99900e+05]\n",
            " [1.53400e+03 3.00000e+00 3.14900e+05]\n",
            " [1.42700e+03 3.00000e+00 1.98999e+05]\n",
            " [1.38000e+03 3.00000e+00 2.12000e+05]\n",
            " [1.49400e+03 3.00000e+00 2.42500e+05]\n",
            " [1.94000e+03 4.00000e+00 2.39999e+05]\n",
            " [2.00000e+03 3.00000e+00 3.47000e+05]\n",
            " [1.89000e+03 3.00000e+00 3.29999e+05]\n",
            " [4.47800e+03 5.00000e+00 6.99900e+05]\n",
            " [1.26800e+03 3.00000e+00 2.59900e+05]\n",
            " [2.30000e+03 4.00000e+00 4.49900e+05]\n",
            " [1.32000e+03 2.00000e+00 2.99900e+05]\n",
            " [1.23600e+03 3.00000e+00 1.99900e+05]\n",
            " [2.60900e+03 4.00000e+00 4.99998e+05]\n",
            " [3.03100e+03 4.00000e+00 5.99000e+05]\n",
            " [1.76700e+03 3.00000e+00 2.52900e+05]\n",
            " [1.88800e+03 2.00000e+00 2.55000e+05]\n",
            " [1.60400e+03 3.00000e+00 2.42900e+05]\n",
            " [1.96200e+03 4.00000e+00 2.59900e+05]\n",
            " [3.89000e+03 3.00000e+00 5.73900e+05]\n",
            " [1.10000e+03 3.00000e+00 2.49900e+05]\n",
            " [1.45800e+03 3.00000e+00 4.64500e+05]\n",
            " [2.52600e+03 3.00000e+00 4.69000e+05]\n",
            " [2.20000e+03 3.00000e+00 4.75000e+05]\n",
            " [2.63700e+03 3.00000e+00 2.99900e+05]\n",
            " [1.83900e+03 2.00000e+00 3.49900e+05]\n",
            " [1.00000e+03 1.00000e+00 1.69900e+05]\n",
            " [2.04000e+03 4.00000e+00 3.14900e+05]\n",
            " [3.13700e+03 3.00000e+00 5.79900e+05]\n",
            " [1.81100e+03 4.00000e+00 2.85900e+05]\n",
            " [1.43700e+03 3.00000e+00 2.49900e+05]\n",
            " [1.23900e+03 3.00000e+00 2.29900e+05]\n",
            " [2.13200e+03 4.00000e+00 3.45000e+05]\n",
            " [4.21500e+03 4.00000e+00 5.49000e+05]\n",
            " [2.16200e+03 4.00000e+00 2.87000e+05]\n",
            " [1.66400e+03 2.00000e+00 3.68500e+05]\n",
            " [2.23800e+03 3.00000e+00 3.29900e+05]\n",
            " [2.56700e+03 4.00000e+00 3.14000e+05]\n",
            " [1.20000e+03 3.00000e+00 2.99000e+05]\n",
            " [8.52000e+02 2.00000e+00 1.79900e+05]\n",
            " [1.85200e+03 4.00000e+00 2.99900e+05]\n",
            " [1.20300e+03 3.00000e+00 2.39500e+05]]\n"
          ]
        }
      ]
    },
    {
      "cell_type": "code",
      "source": [
        "w = standardfit(data)\n",
        "print(\"Optimal Coef.:\\n\",w)"
      ],
      "metadata": {
        "colab": {
          "base_uri": "https://localhost:8080/"
        },
        "id": "lbixCIpa63WP",
        "outputId": "f193b099-b419-465f-8af7-2bb0cda68f20"
      },
      "execution_count": 8,
      "outputs": [
        {
          "output_type": "stream",
          "name": "stdout",
          "text": [
            "Optimal Coef.:\n",
            " [ 0.88476599 -0.05317882]\n"
          ]
        }
      ]
    }
  ]
}