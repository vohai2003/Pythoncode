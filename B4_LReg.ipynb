{
  "nbformat": 4,
  "nbformat_minor": 0,
  "metadata": {
    "colab": {
      "provenance": [],
      "authorship_tag": "ABX9TyMvyhhTVUfvN9rhlVkx5Wye",
      "include_colab_link": true
    },
    "kernelspec": {
      "name": "python3",
      "display_name": "Python 3"
    },
    "language_info": {
      "name": "python"
    }
  },
  "cells": [
    {
      "cell_type": "markdown",
      "metadata": {
        "id": "view-in-github",
        "colab_type": "text"
      },
      "source": [
        "<a href=\"https://colab.research.google.com/github/vohai2003/Pythoncode/blob/main/B4_LReg.ipynb\" target=\"_parent\"><img src=\"https://colab.research.google.com/assets/colab-badge.svg\" alt=\"Open In Colab\"/></a>"
      ]
    },
    {
      "cell_type": "code",
      "execution_count": 15,
      "metadata": {
        "colab": {
          "base_uri": "https://localhost:8080/"
        },
        "id": "o1UfopgSdjfS",
        "outputId": "047aa277-e3d0-4ca6-bb5e-0e6206aa9a3c"
      },
      "outputs": [
        {
          "output_type": "stream",
          "name": "stdout",
          "text": [
            "Drive already mounted at /content/gdrive; to attempt to forcibly remount, call drive.mount(\"/content/gdrive\", force_remount=True).\n"
          ]
        }
      ],
      "source": [
        "from google.colab import drive \n",
        "drive.mount('/content/gdrive')"
      ]
    },
    {
      "cell_type": "code",
      "source": [
        "import numpy"
      ],
      "metadata": {
        "id": "3NuMVs1Od1UT"
      },
      "execution_count": 14,
      "outputs": []
    },
    {
      "cell_type": "code",
      "source": [
        "def data_extract(data):\n",
        "  n = len(data)\n",
        "  X = data[:,:-1]\n",
        "  X = numpy.column_stack([numpy.ones((n),dtype=numpy.int32),X])\n",
        "  y = data[:,-1:]\n",
        "  y = numpy.reshape(y,(n,1))\n",
        "  return X,y"
      ],
      "metadata": {
        "id": "HYz2LtGjev2J"
      },
      "execution_count": 13,
      "outputs": []
    },
    {
      "cell_type": "code",
      "execution_count": 41,
      "metadata": {
        "id": "zJDZlfWEfj9x"
      },
      "outputs": [],
      "source": [
        "def calculateLoss(X,y,w):\n",
        "  h = X@w\n",
        "  error = h - y\n",
        "  m = len(y)\n",
        "  return 1/(2*m)*numpy.sum(numpy.square(error))"
      ]
    },
    {
      "cell_type": "code",
      "source": [
        "def gradientDescent(X,y,alpha,loop):\n",
        "  m = len(y)\n",
        "  n = len(X[0])\n",
        "  w = numpy.zeros((n,1),dtype=numpy.float64)\n",
        "  lossprogress = [calculateLoss(X,y,w)]\n",
        "  for i in range(0,loop):\n",
        "    h = X@w\n",
        "    error = h-y\n",
        "    w = w - 1/m*(X.T@error)\n",
        "    lossprogress.append(calculateLoss(X,y,w))\n",
        "  return (w,lossprogress)"
      ],
      "metadata": {
        "id": "3SSnlvk7hGjU"
      },
      "execution_count": 48,
      "outputs": []
    },
    {
      "cell_type": "code",
      "source": [
        "data = numpy.loadtxt(\"/content/gdrive/My Drive/Dataset/ex1data1.txt\",delimiter=\",\")\n",
        "X,y = data_extract(data)\n",
        "w_optimal,lossprogress = gradientDescent(X,y,0.001,10)"
      ],
      "metadata": {
        "id": "1rKSyY3AjlkF"
      },
      "execution_count": 51,
      "outputs": []
    },
    {
      "cell_type": "code",
      "source": [
        "print(\"Optimal weights:\\n\",w_optimal)\n",
        "print(\"Loss progress:\\n\",lossprogress)"
      ],
      "metadata": {
        "colab": {
          "base_uri": "https://localhost:8080/"
        },
        "id": "IH8d_r10lGxy",
        "outputId": "18bc76d8-3ad9-4ad6-83a8-9da441ca39ba"
      },
      "execution_count": 53,
      "outputs": [
        {
          "output_type": "stream",
          "name": "stdout",
          "text": [
            "Optimal weights:\n",
            " [[-9.96443907e+17]\n",
            " [-9.91872892e+18]]\n",
            "Loss progress:\n",
            " [32.072733877455676, 172570.0952235654, 1138458487.8677297, 7510737028394.419, 4.9550485647751544e+16, 3.2689876088691936e+20, 2.1566448536766722e+24, 1.4228004450891717e+28, 9.386622480260452e+31, 6.192623982585895e+35, 4.0854515956450714e+39]\n"
          ]
        }
      ]
    }
  ]
}