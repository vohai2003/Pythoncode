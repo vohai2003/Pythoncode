{
  "nbformat": 4,
  "nbformat_minor": 0,
  "metadata": {
    "colab": {
      "provenance": [],
      "authorship_tag": "ABX9TyP0tBF9kEt0895SbYjYibcc",
      "include_colab_link": true
    },
    "kernelspec": {
      "name": "python3",
      "display_name": "Python 3"
    },
    "language_info": {
      "name": "python"
    }
  },
  "cells": [
    {
      "cell_type": "markdown",
      "metadata": {
        "id": "view-in-github",
        "colab_type": "text"
      },
      "source": [
        "<a href=\"https://colab.research.google.com/github/vohai2003/Pythoncode/blob/main/B3_LReg.ipynb\" target=\"_parent\"><img src=\"https://colab.research.google.com/assets/colab-badge.svg\" alt=\"Open In Colab\"/></a>"
      ]
    },
    {
      "cell_type": "code",
      "execution_count": 1,
      "metadata": {
        "id": "6jTWOe9whE-y"
      },
      "outputs": [],
      "source": [
        "import numpy"
      ]
    },
    {
      "cell_type": "code",
      "source": [
        "def gradientDescent(X,y,alpha,loop):\n",
        "  m = len(y)\n",
        "  n = len(X[0])\n",
        "  w = numpy.zeros((n,1),dtype=numpy.float64)\n",
        "  lossprogress = [calculateLoss(X,y,w)]\n",
        "  for i in range(0,loop):\n",
        "    h = X@w\n",
        "    error = h-y\n",
        "    w = w - 1/m*(X.T@error)\n",
        "    lossprogress.append(calculateLoss(X,y,w))\n",
        "  return (w,lossprogress)"
      ],
      "metadata": {
        "id": "3SSnlvk7hGjU"
      },
      "execution_count": 4,
      "outputs": []
    }
  ]
}