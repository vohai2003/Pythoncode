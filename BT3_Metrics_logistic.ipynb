{
  "nbformat": 4,
  "nbformat_minor": 0,
  "metadata": {
    "colab": {
      "provenance": [],
      "collapsed_sections": [],
      "authorship_tag": "ABX9TyO7CCLipNCWDUo0fvnoEBPw",
      "include_colab_link": true
    },
    "kernelspec": {
      "name": "python3",
      "display_name": "Python 3"
    },
    "language_info": {
      "name": "python"
    }
  },
  "cells": [
    {
      "cell_type": "markdown",
      "metadata": {
        "id": "view-in-github",
        "colab_type": "text"
      },
      "source": [
        "<a href=\"https://colab.research.google.com/github/vohai2003/Pythoncode/blob/main/BT3_Metrics_logistic.ipynb\" target=\"_parent\"><img src=\"https://colab.research.google.com/assets/colab-badge.svg\" alt=\"Open In Colab\"/></a>"
      ]
    },
    {
      "cell_type": "code",
      "execution_count": 1,
      "metadata": {
        "id": "T9Wa76LEOokV",
        "colab": {
          "base_uri": "https://localhost:8080/"
        },
        "outputId": "ea0423bd-1881-4ccc-eb01-d62d477eaddb"
      },
      "outputs": [
        {
          "output_type": "stream",
          "name": "stdout",
          "text": [
            "Mounted at /mnt\n"
          ]
        }
      ],
      "source": [
        "from google.colab import drive\n",
        "drive.mount(\"/mnt\")"
      ]
    },
    {
      "cell_type": "code",
      "source": [
        "import numpy\n",
        "from sklearn.model_selection import train_test_split\n",
        "import sklearn.metrics\n",
        "from sklearn.linear_model import LogisticRegression"
      ],
      "metadata": {
        "id": "q6V1ERoWO4V0"
      },
      "execution_count": 2,
      "outputs": []
    },
    {
      "cell_type": "code",
      "source": [
        "D = numpy.genfromtxt(\"/mnt/My Drive/Dataset/ex2data1.txt\",delimiter=\",\")\n",
        "X,y = D[:,:-1], D[:,-1]\n",
        "X_train,X_test,y_train,y_test = train_test_split(X,y,test_size=30)"
      ],
      "metadata": {
        "id": "ez_W6IrfO6sJ"
      },
      "execution_count": 3,
      "outputs": []
    },
    {
      "cell_type": "code",
      "source": [
        "model = LogisticRegression()\n",
        "model.fit(X_train,y_train)\n",
        "yhat = model.predict(X_test)\n",
        "print(yhat)"
      ],
      "metadata": {
        "colab": {
          "base_uri": "https://localhost:8080/"
        },
        "id": "zOB_xFk-5BFK",
        "outputId": "5fde1aa2-07f0-443a-acb6-1fd8662f3e48"
      },
      "execution_count": 4,
      "outputs": [
        {
          "output_type": "stream",
          "name": "stdout",
          "text": [
            "[1. 0. 1. 0. 1. 1. 1. 1. 0. 1. 0. 1. 1. 0. 1. 1. 1. 1. 1. 1. 1. 1. 0. 1.\n",
            " 1. 1. 0. 1. 1. 1.]\n"
          ]
        }
      ]
    },
    {
      "cell_type": "code",
      "source": [
        "y_test_flatten = y_test.flatten()\n",
        "yhat_flatten = yhat.flatten()"
      ],
      "metadata": {
        "id": "oc6El5SDBawG"
      },
      "execution_count": 5,
      "outputs": []
    },
    {
      "cell_type": "code",
      "source": [
        "acc = numpy.mean(y_test_flatten == yhat_flatten)\n",
        "recall = numpy.mean((y_test_flatten == yhat_flatten) & (y_test_flatten == 1)) / numpy.mean((y_test_flatten == 1))\n",
        "prec = numpy.mean((y_test_flatten == yhat_flatten) & (y_test_flatten == 1)) / numpy.mean((yhat_flatten == 1))\n",
        "specificity = numpy.mean((y_test_flatten == yhat_flatten) & (y_test_flatten == 0)) / numpy.mean((y_test_flatten == 0))\n",
        "balance_acc = (recall+specificity)/2\n",
        "f1 = 2*(recall*prec)/(recall+prec)"
      ],
      "metadata": {
        "id": "P3CPzjFVDwlH"
      },
      "execution_count": 57,
      "outputs": []
    },
    {
      "cell_type": "code",
      "source": [
        "acc = sklearn.metrics.accuracy_score(y_test_flatten,yhat_flatten)\n",
        "top1_acc = sklearn.metrics.top_k_accuracy_score(y_test_flatten,yhat_flatten,k=1)\n",
        "balance_acc = sklearn.metrics.balanced_accuracy_score(y_test_flatten,yhat_flatten)\n",
        "prec = sklearn.metrics.precision_score(y_test_flatten,yhat_flatten)\n",
        "recall = sklearn.metrics.recall_score(y_test_flatten,yhat_flatten)\n",
        "f1 = sklearn.metrics.f1_score(y_test_flatten,yhat_flatten)"
      ],
      "metadata": {
        "id": "OUQ3EJ89CHx-"
      },
      "execution_count": 60,
      "outputs": []
    },
    {
      "cell_type": "code",
      "source": [
        "print(\"acc:\",acc)\n",
        "print(\"top-1 acc:\",top1_acc)\n",
        "print(\"balance_acc:\",balance_acc)\n",
        "print(\"precision:\",prec)\n",
        "print(\"recall:\",recall)\n",
        "print(\"f1-score:\",f1)"
      ],
      "metadata": {
        "colab": {
          "base_uri": "https://localhost:8080/"
        },
        "id": "uNDkg_Li9dCy",
        "outputId": "8333d2ae-7003-447c-c0e5-ac1987b25aa1"
      },
      "execution_count": 61,
      "outputs": [
        {
          "output_type": "stream",
          "name": "stdout",
          "text": [
            "acc: 0.8666666666666667\n",
            "top-1 acc: 0.8666666666666667\n",
            "balance_acc: 0.8095238095238095\n",
            "precision: 0.8695652173913043\n",
            "recall: 0.9523809523809523\n",
            "f1-score: 0.909090909090909\n"
          ]
        }
      ]
    }
  ]
}