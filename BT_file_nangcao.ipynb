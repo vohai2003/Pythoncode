{
  "nbformat": 4,
  "nbformat_minor": 0,
  "metadata": {
    "colab": {
      "name": "BT_file_nangcao",
      "provenance": [],
      "collapsed_sections": [],
      "authorship_tag": "ABX9TyO2QagOJ90xjiu1Y1onbSDD",
      "include_colab_link": true
    },
    "kernelspec": {
      "name": "python3",
      "display_name": "Python 3"
    },
    "language_info": {
      "name": "python"
    }
  },
  "cells": [
    {
      "cell_type": "markdown",
      "metadata": {
        "id": "view-in-github",
        "colab_type": "text"
      },
      "source": [
        "<a href=\"https://colab.research.google.com/github/vohai2003/Pythoncode/blob/main/BT_file_nangcao.ipynb\" target=\"_parent\"><img src=\"https://colab.research.google.com/assets/colab-badge.svg\" alt=\"Open In Colab\"/></a>"
      ]
    },
    {
      "cell_type": "markdown",
      "metadata": {
        "id": "gre2ejMPTkrs"
      },
      "source": [
        "Upload file phục vụ test"
      ]
    },
    {
      "cell_type": "code",
      "metadata": {
        "colab": {
          "resources": {
            "http://localhost:8080/nbextensions/google.colab/files.js": {
              "data": "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",
              "ok": true,
              "headers": [
                [
                  "content-type",
                  "application/javascript"
                ]
              ],
              "status": 200,
              "status_text": ""
            }
          },
          "base_uri": "https://localhost:8080/",
          "height": 56
        },
        "id": "eIdWy_GMRxNB",
        "outputId": "8fc95f18-398b-4a42-9eb2-fd0e84586604"
      },
      "source": [
        "from google.colab import files\n",
        "uploaded = files.upload()"
      ],
      "execution_count": 14,
      "outputs": [
        {
          "output_type": "display_data",
          "data": {
            "text/html": [
              "\n",
              "     <input type=\"file\" id=\"files-dbd3a160-3634-4532-8e96-19b8725018ba\" name=\"files[]\" multiple disabled\n",
              "        style=\"border:none\" />\n",
              "     <output id=\"result-dbd3a160-3634-4532-8e96-19b8725018ba\">\n",
              "      Upload widget is only available when the cell has been executed in the\n",
              "      current browser session. Please rerun this cell to enable.\n",
              "      </output>\n",
              "      <script src=\"/nbextensions/google.colab/files.js\"></script> "
            ],
            "text/plain": [
              "<IPython.core.display.HTML object>"
            ]
          },
          "metadata": {}
        },
        {
          "output_type": "stream",
          "name": "stdout",
          "text": [
            "Saving ftest.csv to ftest.csv\n"
          ]
        }
      ]
    },
    {
      "cell_type": "code",
      "metadata": {
        "id": "oeccP-LlYcfu"
      },
      "source": [
        "class Person():\n",
        "  def init(self):\n",
        "    self.Name:str=\"\"\n",
        "    self.PhoneNum:str=\"\"\n",
        "    self.Email:str=\"\"\n",
        "  def setName(self,Name):\n",
        "    self.Name = Name\n",
        "  def setPhoneNum(self,PhoneNum):\n",
        "    self.PhoneNum = PhoneNum\n",
        "  def setEmail(self,Email):\n",
        "    self.Email = Email\n",
        "class Student(Person):\n",
        "  def init(self):\n",
        "    super().init()\n",
        "    self.ID:str=\"\"\n",
        "    self.AvgMark:float=0.0\n",
        "  def setID(self,ID):\n",
        "    self.ID = ID\n",
        "  def setMark(self,Mark):\n",
        "    self.AvgMark = Mark\n",
        "  def Rank(self):\n",
        "    if self.AvgMark>=8.5:\n",
        "      return \"A\"\n",
        "    elif self.AvgMark>=7:\n",
        "      return \"B\"\n",
        "    elif self.AvgMark>=5.5:\n",
        "      return \"C\"\n",
        "    elif self.AvgMark>=4.0:\n",
        "      return \"D\"\n",
        "    else:\n",
        "      return \"F\"\n",
        "class Professor(Person):\n",
        "  def init(self):\n",
        "    super().init()\n",
        "    self.Salary:float=0.0\n",
        "  def setSalary(self,Salary):\n",
        "    self.Salary = Salary"
      ],
      "execution_count": 13,
      "outputs": []
    },
    {
      "cell_type": "markdown",
      "metadata": {
        "id": "5_uthQ6kHqnr"
      },
      "source": [
        "Pickle generator"
      ]
    },
    {
      "cell_type": "code",
      "metadata": {
        "id": "VHJ3MZ3B7ImW",
        "colab": {
          "base_uri": "https://localhost:8080/"
        },
        "outputId": "deb6dcbe-67bd-4248-e1f5-e891d0a5099e"
      },
      "source": [
        "import pickle\n",
        "PersonList = []\n",
        "StudentList = []\n",
        "ProfessorList = []\n",
        "tempPerson = Person()\n",
        "tempStudent = Student()\n",
        "tempProfessor = Professor()\n",
        "tempPerson.init()\n",
        "tempStudent.init()\n",
        "tempProfessor.init()\n",
        "ftest = open(\"ftest.csv\",\"r\")\n",
        "#Nhập dữ liệu\n",
        "for i in range(0,10):\n",
        "  line = ftest.readline().split(\",\")\n",
        "  tempPerson.setName(line[0])\n",
        "  tempPerson.setEmail(line[1])\n",
        "  tempPerson.setPhoneNum(line[2])\n",
        "  print(tempPerson.Name)\n",
        "  PersonList.append(tempPerson)\n",
        "  tempPerson.init()\n",
        "for i in range(0,10):\n",
        "  line = ftest.readline().split(\",\")\n",
        "  tempStudent.setName(line[0])\n",
        "  tempStudent.setEmail(line[1])\n",
        "  tempStudent.setPhoneNum(line[2])\n",
        "  tempStudent.setMark(line[3])\n",
        "  tempStudent.setID(line[4])\n",
        "  StudentList.append(tempStudent)\n",
        "  tempStudent.init()\n",
        "for i in range(0,10):\n",
        "  line = ftest.readline().split(\",\")\n",
        "  tempProfessor.setName(line[0])\n",
        "  tempProfessor.setEmail(line[1])\n",
        "  tempProfessor.setPhoneNum(line[2])\n",
        "  tempProfessor.setSalary(line[3])\n",
        "  ProfessorList.append(tempProfessor)\n",
        "  tempProfessor.init()\n",
        "ftest.close()\n",
        "#Sắp xếp\n",
        "for i in range(0,10):\n",
        "  for j in range(0,i):\n",
        "    ichar = PersonList[i].Name\n",
        "    jchar = PersonList[j].Name\n",
        "    if ichar < jchar:\n",
        "      PersonList[i],PersonList[j] = PersonList[j],PersonList[i]\n",
        "for i in range(0,10):\n",
        "  for j in range(0,i):\n",
        "    imark = StudentList[i].AvgMark\n",
        "    jmark = StudentList[j].AvgMark\n",
        "    if imark < jmark:\n",
        "      StudentList[i],StudentList[j] = StudentList[j],StudentList[i]\n",
        "for i in range(0,10):\n",
        "  for j in range(0,i):\n",
        "    isalary = ProfessorList[i].Salary\n",
        "    jsalary = ProfessorList[j].Salary\n",
        "    if isalary > jsalary:\n",
        "      ProfessorList[i],ProfessorList[j] = ProfessorList[j],ProfessorList[i]\n",
        "fPerson = open(\"Person.pickle\",\"wb\")\n",
        "pickle.dump(PersonList,fPerson)\n",
        "fPerson.close()\n",
        "fStudent = open(\"Student.pickle\",\"wb\")\n",
        "pickle.dump(StudentList,fStudent)\n",
        "fStudent.close()\n",
        "fProfessor = open(\"Professor.pickle\",\"wb\")\n",
        "pickle.dump(ProfessorList,fProfessor)\n",
        "fProfessor.close()"
      ],
      "execution_count": 36,
      "outputs": [
        {
          "output_type": "stream",
          "name": "stdout",
          "text": [
            "Cadence\n",
            "Topaz\n",
            "Brady\n",
            "Shell\n",
            "Lena\n",
            "Salina\n",
            "Dodie\n",
            "Chelle\n",
            "Nan\n",
            "Marilynn\n"
          ]
        }
      ]
    },
    {
      "cell_type": "markdown",
      "metadata": {
        "id": "oa_UbGbVHttr"
      },
      "source": [
        "Pickle reader"
      ]
    },
    {
      "cell_type": "code",
      "metadata": {
        "id": "CTCUDBVXHxIB",
        "colab": {
          "base_uri": "https://localhost:8080/"
        },
        "outputId": "5ea1794d-4416-4dbd-a8fc-aa8f5dc3cd71"
      },
      "source": [
        "PersonList = []\n",
        "StudentList = []\n",
        "ProfessorList = []\n",
        "fPerson = open(\"Person.pickle\",\"rb\")\n",
        "PersonList = pickle.load(fPerson)\n",
        "fPerson.close()\n",
        "fStudent = open(\"Student.pickle\",\"rb\")\n",
        "StudentList = pickle.load(fStudent)\n",
        "fStudent.close()\n",
        "fProfessor = open(\"Professor.pickle\",\"rb\")\n",
        "ProfessorList = pickle.load(fProfessor)\n",
        "fProfessor.close()\n",
        "print(\"Danh sách người:\")\n",
        "for i in range(0,10):\n",
        "  print(\"Tên: \"+PersonList[i].Name)\n",
        "  print(\"SĐT: \"+PersonList[i].PhoneNum)\n",
        "  print(\"Email: \"+PersonList[i].Email)\n",
        "  print(\"_____\")\n",
        "print(\"Danh sách sinh viên:\")\n",
        "for i in range(0,10):\n",
        "  print(\"Mã SV: \"+StudentList[i].ID)\n",
        "  print(\"Tên: \"+StudentList[i].Name)\n",
        "  print(\"SĐT: \"+StudentList[i].PhoneNum)\n",
        "  print(\"Email: \"+StudentList[i].Email)\n",
        "  print(\"Điểm trung bình: \",StudentList[i].AvgMark)\n",
        "  print(\"_____\")\n",
        "print(\"Danh sách giảng viên:\")\n",
        "for i in range(0,10):\n",
        "  print(\"Tên: \"+ProfessorList[i].Name)\n",
        "  print(\"SĐT: \"+ProfessorList[i].PhoneNum)\n",
        "  print(\"Email: \"+ProfessorList[i].Email)\n",
        "  print(\"Mức lương: \",ProfessorList[i].Salary)\n",
        "  print(\"_____\")"
      ],
      "execution_count": 30,
      "outputs": [
        {
          "output_type": "stream",
          "name": "stdout",
          "text": [
            "Danh sách người:\n",
            "Tên: \n",
            "SĐT: \n",
            "Email: \n",
            "_____\n",
            "Tên: \n",
            "SĐT: \n",
            "Email: \n",
            "_____\n",
            "Tên: \n",
            "SĐT: \n",
            "Email: \n",
            "_____\n",
            "Tên: \n",
            "SĐT: \n",
            "Email: \n",
            "_____\n",
            "Tên: \n",
            "SĐT: \n",
            "Email: \n",
            "_____\n",
            "Tên: \n",
            "SĐT: \n",
            "Email: \n",
            "_____\n",
            "Tên: \n",
            "SĐT: \n",
            "Email: \n",
            "_____\n",
            "Tên: \n",
            "SĐT: \n",
            "Email: \n",
            "_____\n",
            "Tên: \n",
            "SĐT: \n",
            "Email: \n",
            "_____\n",
            "Tên: \n",
            "SĐT: \n",
            "Email: \n",
            "_____\n",
            "Danh sách sinh viên:\n",
            "Mã SV: \n",
            "Tên: \n",
            "SĐT: \n",
            "Email: \n",
            "Điểm trung bình:  0.0\n",
            "_____\n",
            "Mã SV: \n",
            "Tên: \n",
            "SĐT: \n",
            "Email: \n",
            "Điểm trung bình:  0.0\n",
            "_____\n",
            "Mã SV: \n",
            "Tên: \n",
            "SĐT: \n",
            "Email: \n",
            "Điểm trung bình:  0.0\n",
            "_____\n",
            "Mã SV: \n",
            "Tên: \n",
            "SĐT: \n",
            "Email: \n",
            "Điểm trung bình:  0.0\n",
            "_____\n",
            "Mã SV: \n",
            "Tên: \n",
            "SĐT: \n",
            "Email: \n",
            "Điểm trung bình:  0.0\n",
            "_____\n",
            "Mã SV: \n",
            "Tên: \n",
            "SĐT: \n",
            "Email: \n",
            "Điểm trung bình:  0.0\n",
            "_____\n",
            "Mã SV: \n",
            "Tên: \n",
            "SĐT: \n",
            "Email: \n",
            "Điểm trung bình:  0.0\n",
            "_____\n",
            "Mã SV: \n",
            "Tên: \n",
            "SĐT: \n",
            "Email: \n",
            "Điểm trung bình:  0.0\n",
            "_____\n",
            "Mã SV: \n",
            "Tên: \n",
            "SĐT: \n",
            "Email: \n",
            "Điểm trung bình:  0.0\n",
            "_____\n",
            "Mã SV: \n",
            "Tên: \n",
            "SĐT: \n",
            "Email: \n",
            "Điểm trung bình:  0.0\n",
            "_____\n",
            "Danh sách giảng viên:\n",
            "Tên: \n",
            "SĐT: \n",
            "Email: \n",
            "Mức lương:  0.0\n",
            "_____\n",
            "Tên: \n",
            "SĐT: \n",
            "Email: \n",
            "Mức lương:  0.0\n",
            "_____\n",
            "Tên: \n",
            "SĐT: \n",
            "Email: \n",
            "Mức lương:  0.0\n",
            "_____\n",
            "Tên: \n",
            "SĐT: \n",
            "Email: \n",
            "Mức lương:  0.0\n",
            "_____\n",
            "Tên: \n",
            "SĐT: \n",
            "Email: \n",
            "Mức lương:  0.0\n",
            "_____\n",
            "Tên: \n",
            "SĐT: \n",
            "Email: \n",
            "Mức lương:  0.0\n",
            "_____\n",
            "Tên: \n",
            "SĐT: \n",
            "Email: \n",
            "Mức lương:  0.0\n",
            "_____\n",
            "Tên: \n",
            "SĐT: \n",
            "Email: \n",
            "Mức lương:  0.0\n",
            "_____\n",
            "Tên: \n",
            "SĐT: \n",
            "Email: \n",
            "Mức lương:  0.0\n",
            "_____\n",
            "Tên: \n",
            "SĐT: \n",
            "Email: \n",
            "Mức lương:  0.0\n",
            "_____\n"
          ]
        }
      ]
    }
  ]
}