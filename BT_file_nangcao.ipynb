{
  "nbformat": 4,
  "nbformat_minor": 0,
  "metadata": {
    "colab": {
      "name": "BT_file_nangcao",
      "provenance": [],
      "collapsed_sections": [],
      "authorship_tag": "ABX9TyMTmLE5D2QUVcUjC6oKVK7p",
      "include_colab_link": true
    },
    "kernelspec": {
      "name": "python3",
      "display_name": "Python 3"
    },
    "language_info": {
      "name": "python"
    }
  },
  "cells": [
    {
      "cell_type": "markdown",
      "metadata": {
        "id": "view-in-github",
        "colab_type": "text"
      },
      "source": [
        "<a href=\"https://colab.research.google.com/github/vohai2003/Pythoncode/blob/main/BT_file_nangcao.ipynb\" target=\"_parent\"><img src=\"https://colab.research.google.com/assets/colab-badge.svg\" alt=\"Open In Colab\"/></a>"
      ]
    },
    {
      "cell_type": "code",
      "metadata": {
        "id": "oeccP-LlYcfu"
      },
      "source": [
        "class Person():\n",
        "  def init(self):\n",
        "    self.Name:str=\"\"\n",
        "    self.PhoneNum:str=\"\"\n",
        "    self.Email:str=\"\"\n",
        "  def setName(self,Name):\n",
        "    self.Name = Name\n",
        "  def setPhoneNum(self,PhoneNum):\n",
        "    self.PhoneNum = PhoneNum\n",
        "  def setEmail(self,Email):\n",
        "    self.Email = Email\n",
        "class Student(Person):\n",
        "  def init(self):\n",
        "    super().init()\n",
        "    self.ID:str=\"\"\n",
        "    self.AvgMark:float=0.0\n",
        "  def setID(self,ID):\n",
        "    self.ID = ID\n",
        "  def setMark(self,Mark):\n",
        "    self.AvgMark = Mark\n",
        "  def Rank(self):\n",
        "    if self.AvgMark>=8.5:\n",
        "      return \"A\"\n",
        "    elif self.AvgMark>=7:\n",
        "      return \"B\"\n",
        "    elif self.AvgMark>=5.5:\n",
        "      return \"C\"\n",
        "    elif self.AvgMark>=4.0:\n",
        "      return \"D\"\n",
        "    else:\n",
        "      return \"F\"\n",
        "class Professor(Person):\n",
        "  def init(self):\n",
        "    super().init()\n",
        "    self.Salary:float=0.0\n",
        "  def setSalary(self,Salary):\n",
        "    self.Salary = Salary"
      ],
      "execution_count": 10,
      "outputs": []
    },
    {
      "cell_type": "markdown",
      "metadata": {
        "id": "5_uthQ6kHqnr"
      },
      "source": [
        "Pickle generator"
      ]
    },
    {
      "cell_type": "code",
      "metadata": {
        "id": "VHJ3MZ3B7ImW",
        "colab": {
          "base_uri": "https://localhost:8080/",
          "height": 579
        },
        "outputId": "e998b564-08cc-4238-a34e-cef6d98ce3e5"
      },
      "source": [
        "import pickle\n",
        "PersonList = []\n",
        "StudentList = []\n",
        "ProfessorList = []\n",
        "tempPerson = Person()\n",
        "tempStudent = Student()\n",
        "tempProfessor = Professor()\n",
        "tempPerson.init()\n",
        "tempStudent.init()\n",
        "tempProfessor.init()\n",
        "#Nhập dữ liệu\n",
        "for i in range(0,10):\n",
        "  Name = input(\"Tên người thứ \"+str(i)+\":\")\n",
        "  PhoneNum = input(\"SĐT: \")\n",
        "  Email = input(\"Email: \")\n",
        "  tempPerson.setName(Name)\n",
        "  tempPerson.setEmail(Email)\n",
        "  tempPerson.setPhoneNum(PhoneNum)\n",
        "  PersonList.append(tempPerson)\n",
        "  tempPerson.init()\n",
        "for i in range(0,10):\n",
        "  Name = input(\"Tên sinh viên thứ \"+str(i)+\":\")\n",
        "  PhoneNum = input(\"SĐT: \")\n",
        "  Email = input(\"Email: \")\n",
        "  ID = input(\"Mã học sinh: \")\n",
        "  AvgMark = float(input(\"Điểm trung bình: \"))\n",
        "  tempStudent.setName(Name)\n",
        "  tempStudent.setEmail(Email)\n",
        "  tempStudent.setPhoneNum(PhoneNum)\n",
        "  StudentList.append(tempPerson)\n",
        "  tempStudent.init()\n",
        "for i in range(0,10):\n",
        "  Name = input(\"Tên giảng viên thứ \"+str(i)+\":\")\n",
        "  PhoneNum = input(\"SĐT: \")\n",
        "  Email = input(\"Email: \")\n",
        "  Salary = float(input(\"Mức lương: \"))\n",
        "  tempProfessor.setName(Name)\n",
        "  tempProfessor.setEmail(Email)\n",
        "  tempProfessor.setPhoneNum(PhoneNum)\n",
        "  tempProfessor.setSalary(Salary)\n",
        "  ProfessorList.append(tempPerson)\n",
        "  tempProfessor.init()\n",
        "#Sắp xếp\n",
        "for i in range(0,10):\n",
        "  for j in range(0,i):\n",
        "    ichar = PersonList[i].Name.split()[-1][0]\n",
        "    jchar = PersonList[j].Name.split()[-1][0]\n",
        "    if ichar < jchar:\n",
        "      PersonList[i],PersonList[j] = PersonList[j],PersonList[i]\n",
        "for i in range(0,10):\n",
        "  for j in range(0,i):\n",
        "    imark = StudentList[i].AvgMark\n",
        "    jmark = StudentList[j].AvgMark\n",
        "    if imark < jmark:\n",
        "      StudentList[i],StudentList[j] = StudentList[j],StudentList[i]\n",
        "for i in range(0,10):\n",
        "  for j in range(0,i):\n",
        "    isalary = ProfessorList[i].Salary\n",
        "    jsalary = ProfessorList[j].Salary\n",
        "    if isalary > jsalary:\n",
        "      ProfessorList[i],ProfessorList[j] = ProfessorList[j],ProfessorList[i]\n",
        "fPerson = open(\"Person.pickle\",\"w\")\n",
        "pickle.dump(PersonList,fPerson)\n",
        "fPerson.close()\n",
        "fStudent = open(\"Student.pickle\",\"w\")\n",
        "pickle.dump(StudentList,fStudent)\n",
        "fStudent.close()\n",
        "fProfessor = open(\"Professor.pickle\",\"w\")\n",
        "pickle.dump(ProfessorList,fProfessor)\n",
        "fProfessor.close()"
      ],
      "execution_count": 11,
      "outputs": [
        {
          "name": "stdout",
          "output_type": "stream",
          "text": [
            "Tên người thứ 0:ìioip\n",
            "SĐT: 8-028049\n",
            "Email: hjfoiwhjflih'\n"
          ]
        },
        {
          "output_type": "error",
          "ename": "KeyboardInterrupt",
          "evalue": "ignored",
          "traceback": [
            "\u001b[0;31m---------------------------------------------------------------------------\u001b[0m",
            "\u001b[0;31mKeyboardInterrupt\u001b[0m                         Traceback (most recent call last)",
            "\u001b[0;32m/usr/local/lib/python3.7/dist-packages/ipykernel/kernelbase.py\u001b[0m in \u001b[0;36m_input_request\u001b[0;34m(self, prompt, ident, parent, password)\u001b[0m\n\u001b[1;32m    728\u001b[0m             \u001b[0;32mtry\u001b[0m\u001b[0;34m:\u001b[0m\u001b[0;34m\u001b[0m\u001b[0;34m\u001b[0m\u001b[0m\n\u001b[0;32m--> 729\u001b[0;31m                 \u001b[0mident\u001b[0m\u001b[0;34m,\u001b[0m \u001b[0mreply\u001b[0m \u001b[0;34m=\u001b[0m \u001b[0mself\u001b[0m\u001b[0;34m.\u001b[0m\u001b[0msession\u001b[0m\u001b[0;34m.\u001b[0m\u001b[0mrecv\u001b[0m\u001b[0;34m(\u001b[0m\u001b[0mself\u001b[0m\u001b[0;34m.\u001b[0m\u001b[0mstdin_socket\u001b[0m\u001b[0;34m,\u001b[0m \u001b[0;36m0\u001b[0m\u001b[0;34m)\u001b[0m\u001b[0;34m\u001b[0m\u001b[0;34m\u001b[0m\u001b[0m\n\u001b[0m\u001b[1;32m    730\u001b[0m             \u001b[0;32mexcept\u001b[0m \u001b[0mException\u001b[0m\u001b[0;34m:\u001b[0m\u001b[0;34m\u001b[0m\u001b[0;34m\u001b[0m\u001b[0m\n",
            "\u001b[0;32m/usr/local/lib/python3.7/dist-packages/jupyter_client/session.py\u001b[0m in \u001b[0;36mrecv\u001b[0;34m(self, socket, mode, content, copy)\u001b[0m\n\u001b[1;32m    802\u001b[0m         \u001b[0;32mtry\u001b[0m\u001b[0;34m:\u001b[0m\u001b[0;34m\u001b[0m\u001b[0;34m\u001b[0m\u001b[0m\n\u001b[0;32m--> 803\u001b[0;31m             \u001b[0mmsg_list\u001b[0m \u001b[0;34m=\u001b[0m \u001b[0msocket\u001b[0m\u001b[0;34m.\u001b[0m\u001b[0mrecv_multipart\u001b[0m\u001b[0;34m(\u001b[0m\u001b[0mmode\u001b[0m\u001b[0;34m,\u001b[0m \u001b[0mcopy\u001b[0m\u001b[0;34m=\u001b[0m\u001b[0mcopy\u001b[0m\u001b[0;34m)\u001b[0m\u001b[0;34m\u001b[0m\u001b[0;34m\u001b[0m\u001b[0m\n\u001b[0m\u001b[1;32m    804\u001b[0m         \u001b[0;32mexcept\u001b[0m \u001b[0mzmq\u001b[0m\u001b[0;34m.\u001b[0m\u001b[0mZMQError\u001b[0m \u001b[0;32mas\u001b[0m \u001b[0me\u001b[0m\u001b[0;34m:\u001b[0m\u001b[0;34m\u001b[0m\u001b[0;34m\u001b[0m\u001b[0m\n",
            "\u001b[0;32m/usr/local/lib/python3.7/dist-packages/zmq/sugar/socket.py\u001b[0m in \u001b[0;36mrecv_multipart\u001b[0;34m(self, flags, copy, track)\u001b[0m\n\u001b[1;32m    624\u001b[0m         \"\"\"\n\u001b[0;32m--> 625\u001b[0;31m         \u001b[0mparts\u001b[0m \u001b[0;34m=\u001b[0m \u001b[0;34m[\u001b[0m\u001b[0mself\u001b[0m\u001b[0;34m.\u001b[0m\u001b[0mrecv\u001b[0m\u001b[0;34m(\u001b[0m\u001b[0mflags\u001b[0m\u001b[0;34m,\u001b[0m \u001b[0mcopy\u001b[0m\u001b[0;34m=\u001b[0m\u001b[0mcopy\u001b[0m\u001b[0;34m,\u001b[0m \u001b[0mtrack\u001b[0m\u001b[0;34m=\u001b[0m\u001b[0mtrack\u001b[0m\u001b[0;34m)\u001b[0m\u001b[0;34m]\u001b[0m\u001b[0;34m\u001b[0m\u001b[0;34m\u001b[0m\u001b[0m\n\u001b[0m\u001b[1;32m    626\u001b[0m         \u001b[0;31m# have first part already, only loop while more to receive\u001b[0m\u001b[0;34m\u001b[0m\u001b[0;34m\u001b[0m\u001b[0;34m\u001b[0m\u001b[0m\n",
            "\u001b[0;32mzmq/backend/cython/socket.pyx\u001b[0m in \u001b[0;36mzmq.backend.cython.socket.Socket.recv\u001b[0;34m()\u001b[0m\n",
            "\u001b[0;32mzmq/backend/cython/socket.pyx\u001b[0m in \u001b[0;36mzmq.backend.cython.socket.Socket.recv\u001b[0;34m()\u001b[0m\n",
            "\u001b[0;32mzmq/backend/cython/socket.pyx\u001b[0m in \u001b[0;36mzmq.backend.cython.socket._recv_copy\u001b[0;34m()\u001b[0m\n",
            "\u001b[0;32m/usr/local/lib/python3.7/dist-packages/zmq/backend/cython/checkrc.pxd\u001b[0m in \u001b[0;36mzmq.backend.cython.checkrc._check_rc\u001b[0;34m()\u001b[0m\n",
            "\u001b[0;31mKeyboardInterrupt\u001b[0m: ",
            "\nDuring handling of the above exception, another exception occurred:\n",
            "\u001b[0;31mKeyboardInterrupt\u001b[0m                         Traceback (most recent call last)",
            "\u001b[0;32m<ipython-input-11-fec1b5d44aba>\u001b[0m in \u001b[0;36m<module>\u001b[0;34m()\u001b[0m\n\u001b[1;32m     11\u001b[0m \u001b[0;31m#Nhập dữ liệu\u001b[0m\u001b[0;34m\u001b[0m\u001b[0;34m\u001b[0m\u001b[0;34m\u001b[0m\u001b[0m\n\u001b[1;32m     12\u001b[0m \u001b[0;32mfor\u001b[0m \u001b[0mi\u001b[0m \u001b[0;32min\u001b[0m \u001b[0mrange\u001b[0m\u001b[0;34m(\u001b[0m\u001b[0;36m0\u001b[0m\u001b[0;34m,\u001b[0m\u001b[0;36m10\u001b[0m\u001b[0;34m)\u001b[0m\u001b[0;34m:\u001b[0m\u001b[0;34m\u001b[0m\u001b[0;34m\u001b[0m\u001b[0m\n\u001b[0;32m---> 13\u001b[0;31m   \u001b[0mName\u001b[0m \u001b[0;34m=\u001b[0m \u001b[0minput\u001b[0m\u001b[0;34m(\u001b[0m\u001b[0;34m\"Tên người thứ \"\u001b[0m\u001b[0;34m+\u001b[0m\u001b[0mstr\u001b[0m\u001b[0;34m(\u001b[0m\u001b[0mi\u001b[0m\u001b[0;34m)\u001b[0m\u001b[0;34m+\u001b[0m\u001b[0;34m\":\"\u001b[0m\u001b[0;34m)\u001b[0m\u001b[0;34m\u001b[0m\u001b[0;34m\u001b[0m\u001b[0m\n\u001b[0m\u001b[1;32m     14\u001b[0m   \u001b[0mPhoneNum\u001b[0m \u001b[0;34m=\u001b[0m \u001b[0minput\u001b[0m\u001b[0;34m(\u001b[0m\u001b[0;34m\"SĐT: \"\u001b[0m\u001b[0;34m)\u001b[0m\u001b[0;34m\u001b[0m\u001b[0;34m\u001b[0m\u001b[0m\n\u001b[1;32m     15\u001b[0m   \u001b[0mEmail\u001b[0m \u001b[0;34m=\u001b[0m \u001b[0minput\u001b[0m\u001b[0;34m(\u001b[0m\u001b[0;34m\"Email: \"\u001b[0m\u001b[0;34m)\u001b[0m\u001b[0;34m\u001b[0m\u001b[0;34m\u001b[0m\u001b[0m\n",
            "\u001b[0;32m/usr/local/lib/python3.7/dist-packages/ipykernel/kernelbase.py\u001b[0m in \u001b[0;36mraw_input\u001b[0;34m(self, prompt)\u001b[0m\n\u001b[1;32m    702\u001b[0m             \u001b[0mself\u001b[0m\u001b[0;34m.\u001b[0m\u001b[0m_parent_ident\u001b[0m\u001b[0;34m,\u001b[0m\u001b[0;34m\u001b[0m\u001b[0;34m\u001b[0m\u001b[0m\n\u001b[1;32m    703\u001b[0m             \u001b[0mself\u001b[0m\u001b[0;34m.\u001b[0m\u001b[0m_parent_header\u001b[0m\u001b[0;34m,\u001b[0m\u001b[0;34m\u001b[0m\u001b[0;34m\u001b[0m\u001b[0m\n\u001b[0;32m--> 704\u001b[0;31m             \u001b[0mpassword\u001b[0m\u001b[0;34m=\u001b[0m\u001b[0;32mFalse\u001b[0m\u001b[0;34m,\u001b[0m\u001b[0;34m\u001b[0m\u001b[0;34m\u001b[0m\u001b[0m\n\u001b[0m\u001b[1;32m    705\u001b[0m         )\n\u001b[1;32m    706\u001b[0m \u001b[0;34m\u001b[0m\u001b[0m\n",
            "\u001b[0;32m/usr/local/lib/python3.7/dist-packages/ipykernel/kernelbase.py\u001b[0m in \u001b[0;36m_input_request\u001b[0;34m(self, prompt, ident, parent, password)\u001b[0m\n\u001b[1;32m    732\u001b[0m             \u001b[0;32mexcept\u001b[0m \u001b[0mKeyboardInterrupt\u001b[0m\u001b[0;34m:\u001b[0m\u001b[0;34m\u001b[0m\u001b[0;34m\u001b[0m\u001b[0m\n\u001b[1;32m    733\u001b[0m                 \u001b[0;31m# re-raise KeyboardInterrupt, to truncate traceback\u001b[0m\u001b[0;34m\u001b[0m\u001b[0;34m\u001b[0m\u001b[0;34m\u001b[0m\u001b[0m\n\u001b[0;32m--> 734\u001b[0;31m                 \u001b[0;32mraise\u001b[0m \u001b[0mKeyboardInterrupt\u001b[0m\u001b[0;34m\u001b[0m\u001b[0;34m\u001b[0m\u001b[0m\n\u001b[0m\u001b[1;32m    735\u001b[0m             \u001b[0;32melse\u001b[0m\u001b[0;34m:\u001b[0m\u001b[0;34m\u001b[0m\u001b[0;34m\u001b[0m\u001b[0m\n\u001b[1;32m    736\u001b[0m                 \u001b[0;32mbreak\u001b[0m\u001b[0;34m\u001b[0m\u001b[0;34m\u001b[0m\u001b[0m\n",
            "\u001b[0;31mKeyboardInterrupt\u001b[0m: "
          ]
        }
      ]
    },
    {
      "cell_type": "markdown",
      "metadata": {
        "id": "oa_UbGbVHttr"
      },
      "source": [
        "Pickle reader"
      ]
    },
    {
      "cell_type": "code",
      "metadata": {
        "id": "CTCUDBVXHxIB"
      },
      "source": [
        "PersonList = []\n",
        "StudentList = []\n",
        "ProfessorList = []\n",
        "fPerson = open(\"Person.pickle\",\"r\")\n",
        "pickle.load(PersonList)\n",
        "fPerson.close()\n",
        "fStudent = open(\"Student.pickle\",\"r\")\n",
        "pickle.load(StudentList)\n",
        "fStudent.close()\n",
        "fProfessor = open(\"Professor.pickle\",\"r\")\n",
        "pickle.load(ProfessorList)\n",
        "fProfessor.close()\n",
        "print(\"Danh sách người:\")\n",
        "for i in range(0,10):\n",
        "  print(\"Tên: \"+PersonList[i].Name)\n",
        "  print(\"SĐT: \"+PersonList[i].PhoneNum)\n",
        "  print(\"Email: \"+PersonList[i].Email)\n",
        "  print(\"_____\")\n",
        "print(\"Danh sách sinh viên:\")\n",
        "for i in range(0,10):\n",
        "  print(\"Mã SV: \"+StudentList[i].ID)\n",
        "  print(\"Tên: \"+StudentList[i].Name)\n",
        "  print(\"SĐT: \"+StudentList[i].PhoneNum)\n",
        "  print(\"Email: \"+StudentList[i].Email)\n",
        "  print(\"Điểm trung bình: \",StudentList[i].AvgMark)\n",
        "  print(\"_____\")\n",
        "print(\"Danh sách giảng viên:\")\n",
        "for i in range(0,10):\n",
        "  print(\"Tên: \"+ProfessorList[i].Name)\n",
        "  print(\"SĐT: \"+ProfessorList[i].PhoneNum)\n",
        "  print(\"Email: \"+ProfessorList[i].Email)\n",
        "  print(\"Mức lương: \"+ProfessorList[i].Salary)\n",
        "  print(\"_____\")"
      ],
      "execution_count": null,
      "outputs": []
    }
  ]
}