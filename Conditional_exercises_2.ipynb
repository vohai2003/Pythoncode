{
  "nbformat": 4,
  "nbformat_minor": 0,
  "metadata": {
    "colab": {
      "name": "Conditional exercises 2",
      "provenance": [],
      "authorship_tag": "ABX9TyMghIcWu9HeBIppJG22+mR8",
      "include_colab_link": true
    },
    "kernelspec": {
      "name": "python3",
      "display_name": "Python 3"
    },
    "language_info": {
      "name": "python"
    }
  },
  "cells": [
    {
      "cell_type": "markdown",
      "metadata": {
        "id": "view-in-github",
        "colab_type": "text"
      },
      "source": [
        "<a href=\"https://colab.research.google.com/github/vohai2003/Pythoncode/blob/main/Conditional_exercises_2.ipynb\" target=\"_parent\"><img src=\"https://colab.research.google.com/assets/colab-badge.svg\" alt=\"Open In Colab\"/></a>"
      ]
    },
    {
      "cell_type": "markdown",
      "metadata": {
        "id": "z9tiG6ejbuYg"
      },
      "source": [
        "Bài 1: Số ngày trong tháng"
      ]
    },
    {
      "cell_type": "code",
      "metadata": {
        "colab": {
          "base_uri": "https://localhost:8080/"
        },
        "id": "iWukKAkabbbZ",
        "outputId": "d2ea7cf2-489b-4419-ab86-74c03d22d0cc"
      },
      "source": [
        "def leaped2(y):\n",
        "  check = False\n",
        "  if (y%4 == 0):\n",
        "    if (y%100 != 0):\n",
        "      check = True\n",
        "    else:\n",
        "      if (y%400 == 0):\n",
        "        check = True\n",
        "  return check\n",
        "month = [0,31,28,31,30,31,30,31,31,30,31,30,31]\n",
        "m = int(input(\"Input a month number:\"))\n",
        "y = int(input(\"Input a year:\"))\n",
        "if m != 2:\n",
        "  print(m,\"/\",y,\" has \",month[m],\" days\",sep = \"\")\n",
        "else:\n",
        "  if leaped2(y) == True:\n",
        "    print(m,\"/\",y,\" has 29 days\",sep = \"\")\n",
        "  else:\n",
        "    print(m,\"/\",y,\" has \",month[m],\" days\", sep = \"\")"
      ],
      "execution_count": null,
      "outputs": [
        {
          "output_type": "stream",
          "name": "stdout",
          "text": [
            "Input a month number:2\n",
            "Input a year:1900\n",
            "2/1900 has28days\n"
          ]
        }
      ]
    },
    {
      "cell_type": "markdown",
      "metadata": {
        "id": "BKrDbKDJePch"
      },
      "source": [
        "Bài 2: Nguyên âm/ phụ âm"
      ]
    },
    {
      "cell_type": "code",
      "metadata": {
        "colab": {
          "base_uri": "https://localhost:8080/"
        },
        "id": "m0Ii8EaceQP4",
        "outputId": "2e1b0b85-014a-4d50-d009-0e1730909ca7"
      },
      "source": [
        "i = input(\"Input an alphabet:\")\n",
        "while (len(i)!=1) or (not i.isalpha()):\n",
        "  i = input(\"Invalid input. Input an alphabet:\")\n",
        "i = i.upper()\n",
        "if (i == \"A\") or (i==\"E\") or (i==\"I\") or (i==\"O\") or (i==\"U\"):\n",
        "  print(\"Vowel\")\n",
        "else:\n",
        "  print(\"Consonant\")"
      ],
      "execution_count": 21,
      "outputs": [
        {
          "output_type": "stream",
          "name": "stdout",
          "text": [
            "Input an alphabet:ii\n",
            "Invalid input. Input an alphabet:!!\n",
            "Invalid input. Input an alphabet:99\n",
            "Invalid input. Input an alphabet:0\n",
            "Invalid input. Input an alphabet:p\n",
            "Consonant\n"
          ]
        }
      ]
    },
    {
      "cell_type": "markdown",
      "metadata": {
        "id": "TPDms-ofggg7"
      },
      "source": [
        "Bài 3 Năm nhuận"
      ]
    },
    {
      "cell_type": "code",
      "metadata": {
        "colab": {
          "base_uri": "https://localhost:8080/"
        },
        "id": "qsGKNJ5bgrQp",
        "outputId": "01cbae24-31c3-4c6b-f848-90b63184fd5b"
      },
      "source": [
        "def leaped(y):\n",
        "  check = False\n",
        "  if (y%4 == 0):\n",
        "    if (y%100 != 0):\n",
        "      check = True\n",
        "    else:\n",
        "      if (y%400 == 0):\n",
        "        check = True\n",
        "  return check\n",
        "y = int(input(\"Input the year:\"))\n",
        "if leaped(y) == True:\n",
        "  print(y,\"is a leap year\")\n",
        "else:\n",
        "  print(y,\"is not a leap year\")"
      ],
      "execution_count": null,
      "outputs": [
        {
          "output_type": "stream",
          "name": "stdout",
          "text": [
            "Input the year:2000\n",
            "2000 is a leap year\n"
          ]
        }
      ]
    },
    {
      "cell_type": "markdown",
      "metadata": {
        "id": "RMRBcQgmhHCS"
      },
      "source": [
        "Bài 4: Tính tổng và trung bình cộng"
      ]
    },
    {
      "cell_type": "code",
      "metadata": {
        "colab": {
          "base_uri": "https://localhost:8080/"
        },
        "id": "-ll4GAu_hvvL",
        "outputId": "ee0e22ee-21c2-4bb3-92f5-0eb5955fa575"
      },
      "source": [
        "n = [0,0,0,0,0]\n",
        "for i in range(0,5):\n",
        "  n[i] = int(input(\"Input {:d} :\".format(i+1)))\n",
        "total = sum(n)\n",
        "average = total / 5\n",
        "print(\"Sum of them:\",total)\n",
        "print(\"Average of them:\",average)"
      ],
      "execution_count": null,
      "outputs": [
        {
          "output_type": "stream",
          "name": "stdout",
          "text": [
            "Input 1 :4\n",
            "Input 2 :5\n",
            "Input 3 :3\n",
            "Input 4 :2\n",
            "Input 5 :10\n",
            "Sum of them: 24\n",
            "Average of them: 4.8\n"
          ]
        }
      ]
    }
  ]
}