{
  "nbformat": 4,
  "nbformat_minor": 0,
  "metadata": {
    "colab": {
      "name": "Bt_sap_xep",
      "provenance": [],
      "collapsed_sections": [],
      "authorship_tag": "ABX9TyOWW1AIA71EGynB+cHONDom",
      "include_colab_link": true
    },
    "kernelspec": {
      "name": "python3",
      "display_name": "Python 3"
    },
    "language_info": {
      "name": "python"
    }
  },
  "cells": [
    {
      "cell_type": "markdown",
      "metadata": {
        "id": "view-in-github",
        "colab_type": "text"
      },
      "source": [
        "<a href=\"https://colab.research.google.com/github/vohai2003/Pythoncode/blob/main/Bt_sap_xep.ipynb\" target=\"_parent\"><img src=\"https://colab.research.google.com/assets/colab-badge.svg\" alt=\"Open In Colab\"/></a>"
      ]
    },
    {
      "cell_type": "markdown",
      "metadata": {
        "id": "T--0k9r9vR6T"
      },
      "source": [
        "Bài 1"
      ]
    },
    {
      "cell_type": "code",
      "metadata": {
        "colab": {
          "base_uri": "https://localhost:8080/",
          "height": 528
        },
        "id": "zz6B4-JIuy2c",
        "outputId": "e3ec4668-0c60-4dbe-aefd-96cc0671896c"
      },
      "source": [
        "'''\n",
        "sapxep: Hàm sắp xếp các phần tử trong mảng theo thứ tự\n",
        "argument: n: mảng cần sắp xếp\n",
        "          ascending: chế độ sắp xếp\n",
        "          Với ascending==True, sẽ sắp xếp tăng dần\n",
        "          Ngược lại sẽ sắp xếp giảm dần\n",
        "          *: để đảm bảo không đánh nhầm True/False thay vì ascending=True\n",
        "          **kwargs: đảm bảo hàm lấy trọn tên tham số ascending\n",
        "'''\n",
        "def sapxep(n:list,*,ascending:bool=True,**kwargs):\n",
        "  l = len(n)\n",
        "  for i in range(0,l):\n",
        "    for j in range(0,i):\n",
        "      if ascending ==True:\n",
        "        if n[i]<n[j]:\n",
        "          n[i],n[j] = n[j],n[i]\n",
        "      else:\n",
        "        if n[i]>n[j]:\n",
        "          n[i],n[j] = n[j],n[i]\n",
        "l = []\n",
        "for i in range(0,10):\n",
        "  l.append(int(input(\"Nhap phan tu thu \"+str(i+1)+\" trong mang\")))\n",
        "sapxep(l,ascending = True)\n",
        "print(l)"
      ],
      "execution_count": 37,
      "outputs": [
        {
          "output_type": "error",
          "ename": "KeyboardInterrupt",
          "evalue": "ignored",
          "traceback": [
            "\u001b[0;31m---------------------------------------------------------------------------\u001b[0m",
            "\u001b[0;31mKeyboardInterrupt\u001b[0m                         Traceback (most recent call last)",
            "\u001b[0;32m/usr/local/lib/python3.7/dist-packages/ipykernel/kernelbase.py\u001b[0m in \u001b[0;36m_input_request\u001b[0;34m(self, prompt, ident, parent, password)\u001b[0m\n\u001b[1;32m    728\u001b[0m             \u001b[0;32mtry\u001b[0m\u001b[0;34m:\u001b[0m\u001b[0;34m\u001b[0m\u001b[0;34m\u001b[0m\u001b[0m\n\u001b[0;32m--> 729\u001b[0;31m                 \u001b[0mident\u001b[0m\u001b[0;34m,\u001b[0m \u001b[0mreply\u001b[0m \u001b[0;34m=\u001b[0m \u001b[0mself\u001b[0m\u001b[0;34m.\u001b[0m\u001b[0msession\u001b[0m\u001b[0;34m.\u001b[0m\u001b[0mrecv\u001b[0m\u001b[0;34m(\u001b[0m\u001b[0mself\u001b[0m\u001b[0;34m.\u001b[0m\u001b[0mstdin_socket\u001b[0m\u001b[0;34m,\u001b[0m \u001b[0;36m0\u001b[0m\u001b[0;34m)\u001b[0m\u001b[0;34m\u001b[0m\u001b[0;34m\u001b[0m\u001b[0m\n\u001b[0m\u001b[1;32m    730\u001b[0m             \u001b[0;32mexcept\u001b[0m \u001b[0mException\u001b[0m\u001b[0;34m:\u001b[0m\u001b[0;34m\u001b[0m\u001b[0;34m\u001b[0m\u001b[0m\n",
            "\u001b[0;32m/usr/local/lib/python3.7/dist-packages/jupyter_client/session.py\u001b[0m in \u001b[0;36mrecv\u001b[0;34m(self, socket, mode, content, copy)\u001b[0m\n\u001b[1;32m    802\u001b[0m         \u001b[0;32mtry\u001b[0m\u001b[0;34m:\u001b[0m\u001b[0;34m\u001b[0m\u001b[0;34m\u001b[0m\u001b[0m\n\u001b[0;32m--> 803\u001b[0;31m             \u001b[0mmsg_list\u001b[0m \u001b[0;34m=\u001b[0m \u001b[0msocket\u001b[0m\u001b[0;34m.\u001b[0m\u001b[0mrecv_multipart\u001b[0m\u001b[0;34m(\u001b[0m\u001b[0mmode\u001b[0m\u001b[0;34m,\u001b[0m \u001b[0mcopy\u001b[0m\u001b[0;34m=\u001b[0m\u001b[0mcopy\u001b[0m\u001b[0;34m)\u001b[0m\u001b[0;34m\u001b[0m\u001b[0;34m\u001b[0m\u001b[0m\n\u001b[0m\u001b[1;32m    804\u001b[0m         \u001b[0;32mexcept\u001b[0m \u001b[0mzmq\u001b[0m\u001b[0;34m.\u001b[0m\u001b[0mZMQError\u001b[0m \u001b[0;32mas\u001b[0m \u001b[0me\u001b[0m\u001b[0;34m:\u001b[0m\u001b[0;34m\u001b[0m\u001b[0;34m\u001b[0m\u001b[0m\n",
            "\u001b[0;32m/usr/local/lib/python3.7/dist-packages/zmq/sugar/socket.py\u001b[0m in \u001b[0;36mrecv_multipart\u001b[0;34m(self, flags, copy, track)\u001b[0m\n\u001b[1;32m    624\u001b[0m         \"\"\"\n\u001b[0;32m--> 625\u001b[0;31m         \u001b[0mparts\u001b[0m \u001b[0;34m=\u001b[0m \u001b[0;34m[\u001b[0m\u001b[0mself\u001b[0m\u001b[0;34m.\u001b[0m\u001b[0mrecv\u001b[0m\u001b[0;34m(\u001b[0m\u001b[0mflags\u001b[0m\u001b[0;34m,\u001b[0m \u001b[0mcopy\u001b[0m\u001b[0;34m=\u001b[0m\u001b[0mcopy\u001b[0m\u001b[0;34m,\u001b[0m \u001b[0mtrack\u001b[0m\u001b[0;34m=\u001b[0m\u001b[0mtrack\u001b[0m\u001b[0;34m)\u001b[0m\u001b[0;34m]\u001b[0m\u001b[0;34m\u001b[0m\u001b[0;34m\u001b[0m\u001b[0m\n\u001b[0m\u001b[1;32m    626\u001b[0m         \u001b[0;31m# have first part already, only loop while more to receive\u001b[0m\u001b[0;34m\u001b[0m\u001b[0;34m\u001b[0m\u001b[0;34m\u001b[0m\u001b[0m\n",
            "\u001b[0;32mzmq/backend/cython/socket.pyx\u001b[0m in \u001b[0;36mzmq.backend.cython.socket.Socket.recv\u001b[0;34m()\u001b[0m\n",
            "\u001b[0;32mzmq/backend/cython/socket.pyx\u001b[0m in \u001b[0;36mzmq.backend.cython.socket.Socket.recv\u001b[0;34m()\u001b[0m\n",
            "\u001b[0;32mzmq/backend/cython/socket.pyx\u001b[0m in \u001b[0;36mzmq.backend.cython.socket._recv_copy\u001b[0;34m()\u001b[0m\n",
            "\u001b[0;32m/usr/local/lib/python3.7/dist-packages/zmq/backend/cython/checkrc.pxd\u001b[0m in \u001b[0;36mzmq.backend.cython.checkrc._check_rc\u001b[0;34m()\u001b[0m\n",
            "\u001b[0;31mKeyboardInterrupt\u001b[0m: ",
            "\nDuring handling of the above exception, another exception occurred:\n",
            "\u001b[0;31mKeyboardInterrupt\u001b[0m                         Traceback (most recent call last)",
            "\u001b[0;32m<ipython-input-37-4d9cdf75fc0a>\u001b[0m in \u001b[0;36m<module>\u001b[0;34m()\u001b[0m\n\u001b[1;32m     21\u001b[0m \u001b[0ml\u001b[0m \u001b[0;34m=\u001b[0m \u001b[0;34m[\u001b[0m\u001b[0;34m]\u001b[0m\u001b[0;34m\u001b[0m\u001b[0;34m\u001b[0m\u001b[0m\n\u001b[1;32m     22\u001b[0m \u001b[0;32mfor\u001b[0m \u001b[0mi\u001b[0m \u001b[0;32min\u001b[0m \u001b[0mrange\u001b[0m\u001b[0;34m(\u001b[0m\u001b[0;36m0\u001b[0m\u001b[0;34m,\u001b[0m\u001b[0;36m10\u001b[0m\u001b[0;34m)\u001b[0m\u001b[0;34m:\u001b[0m\u001b[0;34m\u001b[0m\u001b[0;34m\u001b[0m\u001b[0m\n\u001b[0;32m---> 23\u001b[0;31m   \u001b[0ml\u001b[0m\u001b[0;34m.\u001b[0m\u001b[0mappend\u001b[0m\u001b[0;34m(\u001b[0m\u001b[0mint\u001b[0m\u001b[0;34m(\u001b[0m\u001b[0minput\u001b[0m\u001b[0;34m(\u001b[0m\u001b[0;34m\"Nhap phan tu thu \"\u001b[0m\u001b[0;34m+\u001b[0m\u001b[0mstr\u001b[0m\u001b[0;34m(\u001b[0m\u001b[0mi\u001b[0m\u001b[0;34m+\u001b[0m\u001b[0;36m1\u001b[0m\u001b[0;34m)\u001b[0m\u001b[0;34m+\u001b[0m\u001b[0;34m\" trong mang\"\u001b[0m\u001b[0;34m)\u001b[0m\u001b[0;34m)\u001b[0m\u001b[0;34m)\u001b[0m\u001b[0;34m\u001b[0m\u001b[0;34m\u001b[0m\u001b[0m\n\u001b[0m\u001b[1;32m     24\u001b[0m \u001b[0msapxep\u001b[0m\u001b[0;34m(\u001b[0m\u001b[0ml\u001b[0m\u001b[0;34m,\u001b[0m\u001b[0mascending\u001b[0m \u001b[0;34m=\u001b[0m \u001b[0;32mTrue\u001b[0m\u001b[0;34m)\u001b[0m\u001b[0;34m\u001b[0m\u001b[0;34m\u001b[0m\u001b[0m\n\u001b[1;32m     25\u001b[0m \u001b[0mprint\u001b[0m\u001b[0;34m(\u001b[0m\u001b[0ml\u001b[0m\u001b[0;34m)\u001b[0m\u001b[0;34m\u001b[0m\u001b[0;34m\u001b[0m\u001b[0m\n",
            "\u001b[0;32m/usr/local/lib/python3.7/dist-packages/ipykernel/kernelbase.py\u001b[0m in \u001b[0;36mraw_input\u001b[0;34m(self, prompt)\u001b[0m\n\u001b[1;32m    702\u001b[0m             \u001b[0mself\u001b[0m\u001b[0;34m.\u001b[0m\u001b[0m_parent_ident\u001b[0m\u001b[0;34m,\u001b[0m\u001b[0;34m\u001b[0m\u001b[0;34m\u001b[0m\u001b[0m\n\u001b[1;32m    703\u001b[0m             \u001b[0mself\u001b[0m\u001b[0;34m.\u001b[0m\u001b[0m_parent_header\u001b[0m\u001b[0;34m,\u001b[0m\u001b[0;34m\u001b[0m\u001b[0;34m\u001b[0m\u001b[0m\n\u001b[0;32m--> 704\u001b[0;31m             \u001b[0mpassword\u001b[0m\u001b[0;34m=\u001b[0m\u001b[0;32mFalse\u001b[0m\u001b[0;34m,\u001b[0m\u001b[0;34m\u001b[0m\u001b[0;34m\u001b[0m\u001b[0m\n\u001b[0m\u001b[1;32m    705\u001b[0m         )\n\u001b[1;32m    706\u001b[0m \u001b[0;34m\u001b[0m\u001b[0m\n",
            "\u001b[0;32m/usr/local/lib/python3.7/dist-packages/ipykernel/kernelbase.py\u001b[0m in \u001b[0;36m_input_request\u001b[0;34m(self, prompt, ident, parent, password)\u001b[0m\n\u001b[1;32m    732\u001b[0m             \u001b[0;32mexcept\u001b[0m \u001b[0mKeyboardInterrupt\u001b[0m\u001b[0;34m:\u001b[0m\u001b[0;34m\u001b[0m\u001b[0;34m\u001b[0m\u001b[0m\n\u001b[1;32m    733\u001b[0m                 \u001b[0;31m# re-raise KeyboardInterrupt, to truncate traceback\u001b[0m\u001b[0;34m\u001b[0m\u001b[0;34m\u001b[0m\u001b[0;34m\u001b[0m\u001b[0m\n\u001b[0;32m--> 734\u001b[0;31m                 \u001b[0;32mraise\u001b[0m \u001b[0mKeyboardInterrupt\u001b[0m\u001b[0;34m\u001b[0m\u001b[0;34m\u001b[0m\u001b[0m\n\u001b[0m\u001b[1;32m    735\u001b[0m             \u001b[0;32melse\u001b[0m\u001b[0;34m:\u001b[0m\u001b[0;34m\u001b[0m\u001b[0;34m\u001b[0m\u001b[0m\n\u001b[1;32m    736\u001b[0m                 \u001b[0;32mbreak\u001b[0m\u001b[0;34m\u001b[0m\u001b[0;34m\u001b[0m\u001b[0m\n",
            "\u001b[0;31mKeyboardInterrupt\u001b[0m: "
          ]
        }
      ]
    },
    {
      "cell_type": "markdown",
      "metadata": {
        "id": "GygUynrdztrF"
      },
      "source": [
        "Bài 2"
      ]
    },
    {
      "cell_type": "code",
      "metadata": {
        "colab": {
          "base_uri": "https://localhost:8080/",
          "height": 266
        },
        "id": "ucUd4oMs0FKb",
        "outputId": "f1875450-8449-47b2-eb17-38f5713cc650"
      },
      "source": [
        "def entry(l:list,n:int):\n",
        "  for i in range(0,n):\n",
        "    l.append(int(input(\"Nhap phan tu thu \"+str(i+1)+\" trong mang\")))\n",
        "n = int(input(\"So phan tu trong mang? \"))\n",
        "l = []\n",
        "entry(l,n)\n",
        "sapxep(l,ascending=True)\n",
        "print(l)"
      ],
      "execution_count": 17,
      "outputs": [
        {
          "name": "stdout",
          "output_type": "stream",
          "text": [
            "So phan tu trong mang? 2\n",
            "Nhap phan tu thu 1 trong mang9\n",
            "Nhap phan tu thu 2 trong mang0\n"
          ]
        },
        {
          "output_type": "error",
          "ename": "TypeError",
          "evalue": "ignored",
          "traceback": [
            "\u001b[0;31m---------------------------------------------------------------------------\u001b[0m",
            "\u001b[0;31mTypeError\u001b[0m                                 Traceback (most recent call last)",
            "\u001b[0;32m<ipython-input-17-18ca108d9302>\u001b[0m in \u001b[0;36m<module>\u001b[0;34m()\u001b[0m\n\u001b[1;32m      5\u001b[0m \u001b[0ml\u001b[0m \u001b[0;34m=\u001b[0m \u001b[0;34m[\u001b[0m\u001b[0;34m]\u001b[0m\u001b[0;34m\u001b[0m\u001b[0;34m\u001b[0m\u001b[0m\n\u001b[1;32m      6\u001b[0m \u001b[0mentry\u001b[0m\u001b[0;34m(\u001b[0m\u001b[0ml\u001b[0m\u001b[0;34m,\u001b[0m\u001b[0mn\u001b[0m\u001b[0;34m)\u001b[0m\u001b[0;34m\u001b[0m\u001b[0;34m\u001b[0m\u001b[0m\n\u001b[0;32m----> 7\u001b[0;31m \u001b[0msapxep\u001b[0m\u001b[0;34m(\u001b[0m\u001b[0ml\u001b[0m\u001b[0;34m,\u001b[0m\u001b[0mascending\u001b[0m\u001b[0;34m=\u001b[0m\u001b[0;32mTrue\u001b[0m\u001b[0;34m)\u001b[0m\u001b[0;34m\u001b[0m\u001b[0;34m\u001b[0m\u001b[0m\n\u001b[0m\u001b[1;32m      8\u001b[0m \u001b[0mprint\u001b[0m\u001b[0;34m(\u001b[0m\u001b[0ml\u001b[0m\u001b[0;34m)\u001b[0m\u001b[0;34m\u001b[0m\u001b[0;34m\u001b[0m\u001b[0m\n",
            "\u001b[0;31mTypeError\u001b[0m: sapxep() got an unexpected keyword argument 'ascending'"
          ]
        }
      ]
    },
    {
      "cell_type": "markdown",
      "metadata": {
        "id": "ISKDk08s5fWD"
      },
      "source": [
        "Bài 3"
      ]
    },
    {
      "cell_type": "code",
      "metadata": {
        "colab": {
          "base_uri": "https://localhost:8080/"
        },
        "id": "IO4ZySBx5gZD",
        "outputId": "abe2b1c4-fe7c-405e-e72f-a38d045ba690"
      },
      "source": [
        "choice = \"Y\"\n",
        "l = []\n",
        "while choice!=\"N\":\n",
        "  l.append(float(input(\"Nhap phan tu tiep theo: \")))\n",
        "  choice = input(\"Nhap N de ket thuc, nhan phim bat ki de tiep tuc: \").upper()\n",
        "sapxep(l,ascending=False)\n",
        "print(l)"
      ],
      "execution_count": 20,
      "outputs": [
        {
          "output_type": "stream",
          "name": "stdout",
          "text": [
            "Nhap phan tu tiep theo: 6\n",
            "Nhap N de ket thuc, nhan phim bat ki de tiep tuc: y\n",
            "Nhap phan tu tiep theo: 3\n",
            "Nhap N de ket thuc, nhan phim bat ki de tiep tuc: y\n",
            "Nhap phan tu tiep theo: 9\n",
            "Nhap N de ket thuc, nhan phim bat ki de tiep tuc: n\n",
            "[9.0, 6.0, 3.0]\n"
          ]
        }
      ]
    },
    {
      "cell_type": "markdown",
      "metadata": {
        "id": "LMTkE6kn7eQs"
      },
      "source": [
        "Bài 4"
      ]
    },
    {
      "cell_type": "code",
      "metadata": {
        "colab": {
          "base_uri": "https://localhost:8080/"
        },
        "id": "gsfEpr5m7fCk",
        "outputId": "f3b21571-44a1-4d1e-e09d-baab90645316"
      },
      "source": [
        "def condinput(l:list):\n",
        "  choice = \"Y\"\n",
        "  while choice!=\"N\":\n",
        "    l.append(float(input(\"Nhap phan tu tiep theo: \")))\n",
        "    choice = input(\"Nhap N de ket thuc, nhan phim bat ki de tiep tuc: \").upper()\n",
        "l = []\n",
        "condinput(l)\n",
        "sapxep(l,ascending=False)\n",
        "print(l)"
      ],
      "execution_count": 30,
      "outputs": [
        {
          "output_type": "stream",
          "name": "stdout",
          "text": [
            "Nhap phan tu tiep theo: 6\n",
            "Nhap N de ket thuc, nhan phim bat ki de tiep tuc: t\n",
            "Nhap phan tu tiep theo: 4\n",
            "Nhap N de ket thuc, nhan phim bat ki de tiep tuc: y\n",
            "Nhap phan tu tiep theo: 7\n",
            "Nhap N de ket thuc, nhan phim bat ki de tiep tuc: n\n",
            "[7.0, 6.0, 4.0]\n"
          ]
        }
      ]
    },
    {
      "cell_type": "markdown",
      "metadata": {
        "id": "3SFC0T038Hld"
      },
      "source": [
        "Bài 5"
      ]
    },
    {
      "cell_type": "code",
      "metadata": {
        "colab": {
          "base_uri": "https://localhost:8080/"
        },
        "id": "YwUFKASH8ISW",
        "outputId": "6eb2159e-f044-4494-9a18-10df72bbb44c"
      },
      "source": [
        "import random\n",
        "l=[]\n",
        "n = int(input(\"Mang co bao nhieu phan tu? \"))\n",
        "max_value = int(input(\"Gia tri sinh toi da? \"))\n",
        "for i in range(0,n):\n",
        "  l.append(random.randint(0,max_value))\n",
        "choice = input(\"Sap xep tang dan hay giam dan? (Tang/Giam hoac T/G hoac A/D)\").upper()\n",
        "while (choice!=\"TANG\") and (choice!=\"GIAM\") and (choice!=\"T\") and (choice!=\"G\") and (choice!=\"A\") and (choice!=\"D\"):\n",
        "  print(\"Lua chon khong hop le\")\n",
        "  choice = input(\"Sap xep tang dan hay giam dan? (Tang/Giam hoac T/G hoac A/D\").upper()\n",
        "print(\"Mang ban dau:\")\n",
        "print(l)\n",
        "if (choice==\"TANG\") or (choice==\"T\") or (choice==\"A\"):\n",
        "  ascending = True\n",
        "if (choice==\"GIAM\") or (choice==\"G\") or (choice==\"D\"):\n",
        "  ascending = False\n",
        "sapxep(l,ascending = ascending)\n",
        "print(l)"
      ],
      "execution_count": 38,
      "outputs": [
        {
          "output_type": "stream",
          "name": "stdout",
          "text": [
            "Mang co bao nhieu phan tu? 9\n",
            "Gia tri sinh toi da? 5\n",
            "Sap xep tang dan hay giam dan? (Tang/Giam hoac T/G hoac A/D)t\n",
            "Mang ban dau:\n",
            "[2, 2, 2, 0, 3, 3, 2, 2, 1]\n",
            "False\n",
            "[3, 3, 2, 2, 2, 2, 2, 1, 0]\n"
          ]
        }
      ]
    },
    {
      "cell_type": "markdown",
      "metadata": {
        "id": "UX_G7khDBvqs"
      },
      "source": [
        "Bài 6"
      ]
    },
    {
      "cell_type": "code",
      "metadata": {
        "colab": {
          "base_uri": "https://localhost:8080/"
        },
        "id": "m7ClY-9YBwlM",
        "outputId": "7d836ea0-eb63-4a9c-f178-ecd1371027bd"
      },
      "source": [
        "def randomints(l:list,n:int,max_value:int,**kwargs):\n",
        "  for i in range(0,n):\n",
        "    l.append(random.randint(0,max_value))\n",
        "l=[]\n",
        "n = int(input(\"Mang co bao nhieu phan tu? \"))\n",
        "max_value = int(input(\"Gia tri sinh toi da? \"))\n",
        "choice = input(\"Sap xep tang dan hay giam dan? (Tang/Giam hoac T/G hoac A/D)\").upper()\n",
        "randomints(l,n,max_value)\n",
        "while (choice!=\"TANG\") and (choice!=\"GIAM\") and (choice!=\"T\") and (choice!=\"G\") and (choice!=\"A\") and (choice!=\"D\"):\n",
        "  print(\"Lua chon khong hop le\")\n",
        "  choice = input(\"Sap xep tang dan hay giam dan? (Tang/Giam hoac T/G hoac A/D\").upper()\n",
        "print(\"Mang ban dau:\")\n",
        "print(l)\n",
        "if (choice==\"TANG\") or (choice==\"T\") or (choice==\"A\"):\n",
        "  sapxep(l,ascending=True)\n",
        "if (choice==\"GIAM\") or (choice==\"G\") or (choice==\"D\"):\n",
        "  sapxep(l,ascending=False)\n",
        "print(l)"
      ],
      "execution_count": 40,
      "outputs": [
        {
          "output_type": "stream",
          "name": "stdout",
          "text": [
            "Mang co bao nhieu phan tu? 7\n",
            "Gia tri sinh toi da? 5\n",
            "Sap xep tang dan hay giam dan? (Tang/Giam hoac T/G hoac A/D)t\n",
            "Mang ban dau:\n",
            "[2, 3, 5, 3, 1, 4, 1]\n",
            "True\n",
            "[1, 1, 2, 3, 3, 4, 5]\n"
          ]
        }
      ]
    }
  ]
}